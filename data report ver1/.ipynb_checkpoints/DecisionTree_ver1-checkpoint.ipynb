{
 "cells": [
  {
   "cell_type": "code",
   "execution_count": 121,
   "metadata": {},
   "outputs": [
    {
     "data": {
      "text/html": [
       "<script type=\"text/javascript\">window.PlotlyConfig = {MathJaxConfig: 'local'};</script><script type=\"text/javascript\">if (window.MathJax) {MathJax.Hub.Config({SVG: {font: \"STIX-Web\"}});}</script><script>requirejs.config({paths: { 'plotly': ['https://cdn.plot.ly/plotly-latest.min']},});if(!window._Plotly) {require(['plotly'],function(plotly) {window._Plotly=plotly;});}</script>"
      ],
      "text/vnd.plotly.v1+html": [
       "<script type=\"text/javascript\">window.PlotlyConfig = {MathJaxConfig: 'local'};</script><script type=\"text/javascript\">if (window.MathJax) {MathJax.Hub.Config({SVG: {font: \"STIX-Web\"}});}</script><script>requirejs.config({paths: { 'plotly': ['https://cdn.plot.ly/plotly-latest.min']},});if(!window._Plotly) {require(['plotly'],function(plotly) {window._Plotly=plotly;});}</script>"
      ]
     },
     "metadata": {},
     "output_type": "display_data"
    }
   ],
   "source": [
    "import pandas as pd\n",
    "import seaborn as sns\n",
    "import numpy as np\n",
    "from sklearn.tree import DecisionTreeClassifier\n",
    "from sklearn.model_selection import train_test_split, KFold\n",
    "from sklearn.metrics import accuracy_score, precision_score, recall_score, confusion_matrix, f1_score, classification_report\n",
    "from sklearn.preprocessing import StandardScaler, LabelEncoder\n",
    "from sklearn.decomposition import PCA\n",
    "from sklearn.manifold import TSNE\n",
    "import matplotlib.pyplot as plt\n",
    "from matplotlib.cm import get_cmap\n",
    "from matplotlib.colors import rgb2hex\n",
    "import os\n",
    "import pydot\n",
    "from PIL import Image\n",
    "import requests, zipfile, io\n",
    "\n",
    "import warnings\n",
    "warnings.filterwarnings('ignore')\n",
    "import plotly.graph_objs as go\n",
    "from plotly.offline import init_notebook_mode, iplot\n",
    "init_notebook_mode(connected=True)\n",
    "\n",
    "plt.rcParams['font.family'] = 'Malgun Gothic'\n",
    "plt.rcParams['axes.unicode_minus']=False\n",
    "\n",
    "%matplotlib inline"
   ]
  },
  {
   "cell_type": "code",
   "execution_count": 2,
   "metadata": {},
   "outputs": [
    {
     "data": {
      "text/html": [
       "<div>\n",
       "<style scoped>\n",
       "    .dataframe tbody tr th:only-of-type {\n",
       "        vertical-align: middle;\n",
       "    }\n",
       "\n",
       "    .dataframe tbody tr th {\n",
       "        vertical-align: top;\n",
       "    }\n",
       "\n",
       "    .dataframe thead th {\n",
       "        text-align: right;\n",
       "    }\n",
       "</style>\n",
       "<table border=\"1\" class=\"dataframe\">\n",
       "  <thead>\n",
       "    <tr style=\"text-align: right;\">\n",
       "      <th></th>\n",
       "      <th>LAX</th>\n",
       "      <th>LAY</th>\n",
       "      <th>LAZ</th>\n",
       "      <th>LA_mad</th>\n",
       "      <th>LA_max</th>\n",
       "      <th>LA_mean</th>\n",
       "      <th>LA_median</th>\n",
       "      <th>LA_min</th>\n",
       "      <th>LA_quantile</th>\n",
       "      <th>LA_skew</th>\n",
       "      <th>...</th>\n",
       "      <th>RP_max</th>\n",
       "      <th>RP_mean</th>\n",
       "      <th>RP_median</th>\n",
       "      <th>RP_min</th>\n",
       "      <th>RP_quantile</th>\n",
       "      <th>RP_skew</th>\n",
       "      <th>RP_sma</th>\n",
       "      <th>RP_std</th>\n",
       "      <th>RP_sum</th>\n",
       "      <th>RP_var</th>\n",
       "    </tr>\n",
       "  </thead>\n",
       "  <tbody>\n",
       "    <tr>\n",
       "      <th>count</th>\n",
       "      <td>18415.000000</td>\n",
       "      <td>18415.000000</td>\n",
       "      <td>18415.000000</td>\n",
       "      <td>18415.000000</td>\n",
       "      <td>18415.000000</td>\n",
       "      <td>18415.000000</td>\n",
       "      <td>18415.000000</td>\n",
       "      <td>18415.000000</td>\n",
       "      <td>18415.000000</td>\n",
       "      <td>18415.000000</td>\n",
       "      <td>...</td>\n",
       "      <td>18415.000000</td>\n",
       "      <td>18415.000000</td>\n",
       "      <td>18415.000000</td>\n",
       "      <td>18415.000000</td>\n",
       "      <td>18415.000000</td>\n",
       "      <td>18415.000000</td>\n",
       "      <td>18415.000000</td>\n",
       "      <td>18415.000000</td>\n",
       "      <td>18415.000000</td>\n",
       "      <td>18415.000000</td>\n",
       "    </tr>\n",
       "    <tr>\n",
       "      <th>mean</th>\n",
       "      <td>123.402226</td>\n",
       "      <td>132.287157</td>\n",
       "      <td>121.244420</td>\n",
       "      <td>50.825667</td>\n",
       "      <td>191.277328</td>\n",
       "      <td>125.644601</td>\n",
       "      <td>125.857399</td>\n",
       "      <td>59.799077</td>\n",
       "      <td>125.857399</td>\n",
       "      <td>0.006028</td>\n",
       "      <td>...</td>\n",
       "      <td>31.623839</td>\n",
       "      <td>14.853093</td>\n",
       "      <td>14.115232</td>\n",
       "      <td>4.164540</td>\n",
       "      <td>14.115232</td>\n",
       "      <td>0.934523</td>\n",
       "      <td>14.843905</td>\n",
       "      <td>9.222567</td>\n",
       "      <td>103.971654</td>\n",
       "      <td>129.703192</td>\n",
       "    </tr>\n",
       "    <tr>\n",
       "      <th>std</th>\n",
       "      <td>73.789386</td>\n",
       "      <td>72.821813</td>\n",
       "      <td>76.999869</td>\n",
       "      <td>22.395027</td>\n",
       "      <td>48.706861</td>\n",
       "      <td>42.455327</td>\n",
       "      <td>56.653730</td>\n",
       "      <td>50.195426</td>\n",
       "      <td>56.653730</td>\n",
       "      <td>1.238426</td>\n",
       "      <td>...</td>\n",
       "      <td>20.916449</td>\n",
       "      <td>10.861800</td>\n",
       "      <td>11.240877</td>\n",
       "      <td>6.269297</td>\n",
       "      <td>11.240877</td>\n",
       "      <td>1.073045</td>\n",
       "      <td>10.817515</td>\n",
       "      <td>6.682056</td>\n",
       "      <td>76.032602</td>\n",
       "      <td>158.918675</td>\n",
       "    </tr>\n",
       "    <tr>\n",
       "      <th>min</th>\n",
       "      <td>0.000000</td>\n",
       "      <td>0.000000</td>\n",
       "      <td>0.000000</td>\n",
       "      <td>0.000000</td>\n",
       "      <td>0.000000</td>\n",
       "      <td>0.000000</td>\n",
       "      <td>0.000000</td>\n",
       "      <td>0.000000</td>\n",
       "      <td>0.000000</td>\n",
       "      <td>-1.732051</td>\n",
       "      <td>...</td>\n",
       "      <td>0.000000</td>\n",
       "      <td>0.000000</td>\n",
       "      <td>0.000000</td>\n",
       "      <td>0.000000</td>\n",
       "      <td>0.000000</td>\n",
       "      <td>-2.645751</td>\n",
       "      <td>0.057143</td>\n",
       "      <td>0.000000</td>\n",
       "      <td>0.000000</td>\n",
       "      <td>0.000000</td>\n",
       "    </tr>\n",
       "    <tr>\n",
       "      <th>25%</th>\n",
       "      <td>60.000000</td>\n",
       "      <td>72.000000</td>\n",
       "      <td>52.000000</td>\n",
       "      <td>33.777778</td>\n",
       "      <td>160.000000</td>\n",
       "      <td>96.000000</td>\n",
       "      <td>84.000000</td>\n",
       "      <td>20.000000</td>\n",
       "      <td>84.000000</td>\n",
       "      <td>-1.263132</td>\n",
       "      <td>...</td>\n",
       "      <td>8.000000</td>\n",
       "      <td>3.571429</td>\n",
       "      <td>3.000000</td>\n",
       "      <td>1.000000</td>\n",
       "      <td>3.000000</td>\n",
       "      <td>0.000000</td>\n",
       "      <td>3.628571</td>\n",
       "      <td>2.380476</td>\n",
       "      <td>25.000000</td>\n",
       "      <td>5.666667</td>\n",
       "    </tr>\n",
       "    <tr>\n",
       "      <th>50%</th>\n",
       "      <td>120.000000</td>\n",
       "      <td>140.000000</td>\n",
       "      <td>120.000000</td>\n",
       "      <td>51.555556</td>\n",
       "      <td>204.000000</td>\n",
       "      <td>124.000000</td>\n",
       "      <td>124.000000</td>\n",
       "      <td>48.000000</td>\n",
       "      <td>124.000000</td>\n",
       "      <td>0.000000</td>\n",
       "      <td>...</td>\n",
       "      <td>38.000000</td>\n",
       "      <td>15.571429</td>\n",
       "      <td>14.000000</td>\n",
       "      <td>1.000000</td>\n",
       "      <td>14.000000</td>\n",
       "      <td>1.229634</td>\n",
       "      <td>15.542857</td>\n",
       "      <td>10.106575</td>\n",
       "      <td>109.000000</td>\n",
       "      <td>102.142857</td>\n",
       "    </tr>\n",
       "    <tr>\n",
       "      <th>75%</th>\n",
       "      <td>188.000000</td>\n",
       "      <td>196.000000</td>\n",
       "      <td>192.000000</td>\n",
       "      <td>68.444444</td>\n",
       "      <td>232.000000</td>\n",
       "      <td>156.000000</td>\n",
       "      <td>168.000000</td>\n",
       "      <td>88.000000</td>\n",
       "      <td>168.000000</td>\n",
       "      <td>1.235155</td>\n",
       "      <td>...</td>\n",
       "      <td>47.000000</td>\n",
       "      <td>23.857143</td>\n",
       "      <td>24.000000</td>\n",
       "      <td>5.000000</td>\n",
       "      <td>24.000000</td>\n",
       "      <td>1.727889</td>\n",
       "      <td>23.828571</td>\n",
       "      <td>13.098528</td>\n",
       "      <td>167.000000</td>\n",
       "      <td>171.571429</td>\n",
       "    </tr>\n",
       "    <tr>\n",
       "      <th>max</th>\n",
       "      <td>252.000000</td>\n",
       "      <td>252.000000</td>\n",
       "      <td>252.000000</td>\n",
       "      <td>111.111111</td>\n",
       "      <td>252.000000</td>\n",
       "      <td>250.666667</td>\n",
       "      <td>252.000000</td>\n",
       "      <td>248.000000</td>\n",
       "      <td>252.000000</td>\n",
       "      <td>1.732051</td>\n",
       "      <td>...</td>\n",
       "      <td>107.000000</td>\n",
       "      <td>35.714286</td>\n",
       "      <td>43.000000</td>\n",
       "      <td>28.000000</td>\n",
       "      <td>43.000000</td>\n",
       "      <td>2.645751</td>\n",
       "      <td>35.657143</td>\n",
       "      <td>40.074336</td>\n",
       "      <td>250.000000</td>\n",
       "      <td>1605.952381</td>\n",
       "    </tr>\n",
       "  </tbody>\n",
       "</table>\n",
       "<p>8 rows × 66 columns</p>\n",
       "</div>"
      ],
      "text/plain": [
       "                LAX           LAY           LAZ        LA_mad        LA_max  \\\n",
       "count  18415.000000  18415.000000  18415.000000  18415.000000  18415.000000   \n",
       "mean     123.402226    132.287157    121.244420     50.825667    191.277328   \n",
       "std       73.789386     72.821813     76.999869     22.395027     48.706861   \n",
       "min        0.000000      0.000000      0.000000      0.000000      0.000000   \n",
       "25%       60.000000     72.000000     52.000000     33.777778    160.000000   \n",
       "50%      120.000000    140.000000    120.000000     51.555556    204.000000   \n",
       "75%      188.000000    196.000000    192.000000     68.444444    232.000000   \n",
       "max      252.000000    252.000000    252.000000    111.111111    252.000000   \n",
       "\n",
       "            LA_mean     LA_median        LA_min   LA_quantile       LA_skew  \\\n",
       "count  18415.000000  18415.000000  18415.000000  18415.000000  18415.000000   \n",
       "mean     125.644601    125.857399     59.799077    125.857399      0.006028   \n",
       "std       42.455327     56.653730     50.195426     56.653730      1.238426   \n",
       "min        0.000000      0.000000      0.000000      0.000000     -1.732051   \n",
       "25%       96.000000     84.000000     20.000000     84.000000     -1.263132   \n",
       "50%      124.000000    124.000000     48.000000    124.000000      0.000000   \n",
       "75%      156.000000    168.000000     88.000000    168.000000      1.235155   \n",
       "max      250.666667    252.000000    248.000000    252.000000      1.732051   \n",
       "\n",
       "           ...             RP_max       RP_mean     RP_median        RP_min  \\\n",
       "count      ...       18415.000000  18415.000000  18415.000000  18415.000000   \n",
       "mean       ...          31.623839     14.853093     14.115232      4.164540   \n",
       "std        ...          20.916449     10.861800     11.240877      6.269297   \n",
       "min        ...           0.000000      0.000000      0.000000      0.000000   \n",
       "25%        ...           8.000000      3.571429      3.000000      1.000000   \n",
       "50%        ...          38.000000     15.571429     14.000000      1.000000   \n",
       "75%        ...          47.000000     23.857143     24.000000      5.000000   \n",
       "max        ...         107.000000     35.714286     43.000000     28.000000   \n",
       "\n",
       "        RP_quantile       RP_skew        RP_sma        RP_std        RP_sum  \\\n",
       "count  18415.000000  18415.000000  18415.000000  18415.000000  18415.000000   \n",
       "mean      14.115232      0.934523     14.843905      9.222567    103.971654   \n",
       "std       11.240877      1.073045     10.817515      6.682056     76.032602   \n",
       "min        0.000000     -2.645751      0.057143      0.000000      0.000000   \n",
       "25%        3.000000      0.000000      3.628571      2.380476     25.000000   \n",
       "50%       14.000000      1.229634     15.542857     10.106575    109.000000   \n",
       "75%       24.000000      1.727889     23.828571     13.098528    167.000000   \n",
       "max       43.000000      2.645751     35.657143     40.074336    250.000000   \n",
       "\n",
       "             RP_var  \n",
       "count  18415.000000  \n",
       "mean     129.703192  \n",
       "std      158.918675  \n",
       "min        0.000000  \n",
       "25%        5.666667  \n",
       "50%      102.142857  \n",
       "75%      171.571429  \n",
       "max     1605.952381  \n",
       "\n",
       "[8 rows x 66 columns]"
      ]
     },
     "execution_count": 2,
     "metadata": {},
     "output_type": "execute_result"
    }
   ],
   "source": [
    "sensor_data = pd.read_csv(\"data/data_namuk/sensor_data_all.csv\")\n",
    "sensor_data = sensor_data.rename(columns = {'Unnamed: 0': 'index'})\n",
    "sensor_data = sensor_data.set_index('index')\n",
    "sensor_data_target = sensor_data['label']\n",
    "sensor_data_drop=sensor_data.drop('label', axis=1)\n",
    "sensor_data_drop.describe()"
   ]
  },
  {
   "cell_type": "code",
   "execution_count": 3,
   "metadata": {},
   "outputs": [
    {
     "data": {
      "text/plain": [
       "5     8587\n",
       "20    3508\n",
       "10    3218\n",
       "15    3102\n",
       "Name: label, dtype: int64"
      ]
     },
     "execution_count": 3,
     "metadata": {},
     "output_type": "execute_result"
    }
   ],
   "source": [
    "sensor_data['label'].value_counts()"
   ]
  },
  {
   "cell_type": "code",
   "execution_count": 4,
   "metadata": {
    "scrolled": true
   },
   "outputs": [
    {
     "name": "stdout",
     "output_type": "stream",
     "text": [
      "Null Values In DataFrame: 0\n",
      "\n",
      "<class 'pandas.core.frame.DataFrame'>\n",
      "Int64Index: 18415 entries, 0 to 18414\n",
      "Data columns (total 67 columns):\n",
      "LAX            18415 non-null int64\n",
      "LAY            18415 non-null int64\n",
      "LAZ            18415 non-null int64\n",
      "LA_mad         18415 non-null float64\n",
      "LA_max         18415 non-null int64\n",
      "LA_mean        18415 non-null float64\n",
      "LA_median      18415 non-null float64\n",
      "LA_min         18415 non-null int64\n",
      "LA_quantile    18415 non-null float64\n",
      "LA_skew        18415 non-null float64\n",
      "LA_sma         18415 non-null float64\n",
      "LA_std         18415 non-null float64\n",
      "LA_sum         18415 non-null int64\n",
      "LA_var         18415 non-null float64\n",
      "LP1            18415 non-null int64\n",
      "LP2            18415 non-null int64\n",
      "LP3            18415 non-null int64\n",
      "LP4            18415 non-null int64\n",
      "LP5            18415 non-null int64\n",
      "LP6            18415 non-null int64\n",
      "LP7            18415 non-null int64\n",
      "LP_kurt        18415 non-null float64\n",
      "LP_mad         18415 non-null float64\n",
      "LP_max         18415 non-null int64\n",
      "LP_mean        18415 non-null float64\n",
      "LP_median      18415 non-null float64\n",
      "LP_min         18415 non-null int64\n",
      "LP_quantile    18415 non-null float64\n",
      "LP_skew        18415 non-null float64\n",
      "LP_sma         18415 non-null float64\n",
      "LP_std         18415 non-null float64\n",
      "LP_sum         18415 non-null int64\n",
      "LP_var         18415 non-null float64\n",
      "RAX            18415 non-null int64\n",
      "RAY            18415 non-null int64\n",
      "RAZ            18415 non-null int64\n",
      "RA_mad         18415 non-null float64\n",
      "RA_max         18415 non-null int64\n",
      "RA_mean        18415 non-null float64\n",
      "RA_median      18415 non-null float64\n",
      "RA_min         18415 non-null int64\n",
      "RA_quantile    18415 non-null float64\n",
      "RA_skew        18415 non-null float64\n",
      "RA_sma         18415 non-null float64\n",
      "RA_std         18415 non-null float64\n",
      "RA_sum         18415 non-null int64\n",
      "RA_var         18415 non-null float64\n",
      "RP1            18415 non-null int64\n",
      "RP2            18415 non-null int64\n",
      "RP3            18415 non-null int64\n",
      "RP4            18415 non-null int64\n",
      "RP5            18415 non-null int64\n",
      "RP6            18415 non-null int64\n",
      "RP7            18415 non-null int64\n",
      "RP_kurt        18415 non-null float64\n",
      "RP_mad         18415 non-null float64\n",
      "RP_max         18415 non-null int64\n",
      "RP_mean        18415 non-null float64\n",
      "RP_median      18415 non-null float64\n",
      "RP_min         18415 non-null int64\n",
      "RP_quantile    18415 non-null float64\n",
      "RP_skew        18415 non-null float64\n",
      "RP_sma         18415 non-null float64\n",
      "RP_std         18415 non-null float64\n",
      "RP_sum         18415 non-null int64\n",
      "RP_var         18415 non-null float64\n",
      "label          18415 non-null int64\n",
      "dtypes: float64(34), int64(33)\n",
      "memory usage: 9.6 MB\n"
     ]
    }
   ],
   "source": [
    "# Get null values and dataframe information\n",
    "print('Null Values In DataFrame: {}\\n'.format(sensor_data.isna().sum().sum()))\n",
    "sensor_data.info()"
   ]
  },
  {
   "cell_type": "code",
   "execution_count": 5,
   "metadata": {
    "scrolled": false
   },
   "outputs": [
    {
     "data": {
      "application/vnd.plotly.v1+json": {
       "config": {
        "linkText": "Export to plot.ly",
        "plotlyServerURL": "https://plot.ly",
        "showLink": false
       },
       "data": [
        {
         "marker": {
          "color": [
           "#440154",
           "#31688e",
           "#35b779",
           "#fde725"
          ]
         },
         "type": "bar",
         "uid": "fd956ce8-00ef-4003-a9c8-3639563a087a",
         "x": [
          5,
          20,
          10,
          15
         ],
         "y": [
          8587,
          3508,
          3218,
          3102
         ]
        }
       ],
       "layout": {
        "title": {
         "text": "Weight Label Distribution"
        },
        "xaxis": {
         "title": {
          "text": "Wight"
         }
        },
        "yaxis": {
         "title": {
          "text": "Count"
         }
        }
       }
      },
      "text/html": [
       "<div id=\"d2dd7e32-3517-411b-b260-e0a26a8046ca\" style=\"height: 525px; width: 100%;\" class=\"plotly-graph-div\"></div><script type=\"text/javascript\">require([\"plotly\"], function(Plotly) { window.PLOTLYENV=window.PLOTLYENV || {};window.PLOTLYENV.BASE_URL=\"https://plot.ly\";\n",
       "if (document.getElementById(\"d2dd7e32-3517-411b-b260-e0a26a8046ca\")) {\n",
       "    Plotly.newPlot(\"d2dd7e32-3517-411b-b260-e0a26a8046ca\", [{\"marker\": {\"color\": [\"#440154\", \"#31688e\", \"#35b779\", \"#fde725\"]}, \"x\": [5, 20, 10, 15], \"y\": [8587, 3508, 3218, 3102], \"type\": \"bar\", \"uid\": \"fd956ce8-00ef-4003-a9c8-3639563a087a\"}], {\"title\": {\"text\": \"Weight Label Distribution\"}, \"xaxis\": {\"title\": {\"text\": \"Wight\"}}, \"yaxis\": {\"title\": {\"text\": \"Count\"}}}, {\"showLink\": false, \"linkText\": \"Export to plot.ly\", \"plotlyServerURL\": \"https://plot.ly\"}); \n",
       "}\n",
       "});</script><script type=\"text/javascript\">window.addEventListener(\"resize\", function(){if (document.getElementById(\"d2dd7e32-3517-411b-b260-e0a26a8046ca\")) {window._Plotly.Plots.resize(document.getElementById(\"d2dd7e32-3517-411b-b260-e0a26a8046ca\"));};})</script>"
      ],
      "text/vnd.plotly.v1+html": [
       "<div id=\"d2dd7e32-3517-411b-b260-e0a26a8046ca\" style=\"height: 525px; width: 100%;\" class=\"plotly-graph-div\"></div><script type=\"text/javascript\">require([\"plotly\"], function(Plotly) { window.PLOTLYENV=window.PLOTLYENV || {};window.PLOTLYENV.BASE_URL=\"https://plot.ly\";\n",
       "if (document.getElementById(\"d2dd7e32-3517-411b-b260-e0a26a8046ca\")) {\n",
       "    Plotly.newPlot(\"d2dd7e32-3517-411b-b260-e0a26a8046ca\", [{\"marker\": {\"color\": [\"#440154\", \"#31688e\", \"#35b779\", \"#fde725\"]}, \"x\": [5, 20, 10, 15], \"y\": [8587, 3508, 3218, 3102], \"type\": \"bar\", \"uid\": \"fd956ce8-00ef-4003-a9c8-3639563a087a\"}], {\"title\": {\"text\": \"Weight Label Distribution\"}, \"xaxis\": {\"title\": {\"text\": \"Wight\"}}, \"yaxis\": {\"title\": {\"text\": \"Count\"}}}, {\"showLink\": false, \"linkText\": \"Export to plot.ly\", \"plotlyServerURL\": \"https://plot.ly\"}); \n",
       "}\n",
       "});</script><script type=\"text/javascript\">window.addEventListener(\"resize\", function(){if (document.getElementById(\"d2dd7e32-3517-411b-b260-e0a26a8046ca\")) {window._Plotly.Plots.resize(document.getElementById(\"d2dd7e32-3517-411b-b260-e0a26a8046ca\"));};})</script>"
      ]
     },
     "metadata": {},
     "output_type": "display_data"
    }
   ],
   "source": [
    "# Plotting data\n",
    "label_counts = sensor_data_target.value_counts()\n",
    "\n",
    "# Get colors\n",
    "n = label_counts.shape[0]\n",
    "colormap = get_cmap('viridis')\n",
    "colors = [rgb2hex(colormap(col)) for col in np.arange(0, 1.01, 1/(n-1))]\n",
    "\n",
    "# Create plot\n",
    "data = go.Bar(x = label_counts.index,\n",
    "              y = label_counts,\n",
    "              marker = dict(color = colors))\n",
    "\n",
    "layout = go.Layout(title = 'Weight Label Distribution',\n",
    "                   xaxis = dict(title = 'Wight'),\n",
    "                   yaxis = dict(title = 'Count'))\n",
    "\n",
    "fig = go.Figure(data=[data], layout=layout)\n",
    "iplot(fig)"
   ]
  },
  {
   "cell_type": "code",
   "execution_count": 75,
   "metadata": {},
   "outputs": [],
   "source": [
    "X_train, X_test, y_train, y_test = train_test_split(sensor_data_drop, sensor_data_target, test_size=0.3, random_state=121)\n"
   ]
  },
  {
   "cell_type": "code",
   "execution_count": 8,
   "metadata": {
    "scrolled": true
   },
   "outputs": [
    {
     "name": "stdout",
     "output_type": "stream",
     "text": [
      "예측정확도:0.8706\n",
      "DecisionTreeClassifier 기본 하이퍼 파라미터:\n",
      " {'class_weight': None, 'criterion': 'gini', 'max_depth': None, 'max_features': None, 'max_leaf_nodes': None, 'min_impurity_decrease': 0.0, 'min_impurity_split': None, 'min_samples_leaf': 1, 'min_samples_split': 2, 'min_weight_fraction_leaf': 0.0, 'presort': False, 'random_state': 0, 'splitter': 'best'}\n"
     ]
    }
   ],
   "source": [
    "dt_clf = DecisionTreeClassifier(random_state=0)\n",
    "dt_clf.fit(X_train, y_train)\n",
    "pred=dt_clf.predict(X_test)\n",
    "print('예측정확도:{0:.4f}'.format(accuracy_score(y_test,pred)))\n",
    "#DecisioinTreeClassifier의 하이퍼 파라미터 추출\n",
    "print('DecisionTreeClassifier 기본 하이퍼 파라미터:\\n',dt_clf.get_params())"
   ]
  },
  {
   "cell_type": "code",
   "execution_count": 123,
   "metadata": {},
   "outputs": [
    {
     "name": "stdout",
     "output_type": "stream",
     "text": [
      "결정트리 교차검증0 정확도 : 0.8426\n",
      "결정트리 교차검증1 정확도 : 0.8473\n",
      "결정트리 교차검증2 정확도 : 0.8464\n",
      "결정트리 교차검증3 정확도 : 0.8436\n",
      "결정트리 교차검증4 정확도 : 0.8316\n",
      "결정트리 교차검증5 정확도 : 0.8362\n",
      "평균 검증 정확도: 0.8413\n"
     ]
    }
   ],
   "source": [
    "#교차검증 적용하기\n",
    "from sklearn.model_selection import cross_val_score, cross_validate\n",
    "import numpy as np\n",
    "scores=cross_val_score(dt_clf, X_train, y_train, scoring='accuracy', cv=6)\n",
    "#validate=cross_validate(dt_clf1, X_train, y_train, scoring='accuracy', cv=5)\n",
    "for iter_count, accuracy in enumerate(scores):\n",
    "    print('결정트리 교차검증{0} 정확도 : {1:.4f}'.format(iter_count,accuracy))\n",
    "print('평균 검증 정확도:', np.round(np.mean(scores),4))"
   ]
  },
  {
   "cell_type": "code",
   "execution_count": 10,
   "metadata": {},
   "outputs": [
    {
     "name": "stdout",
     "output_type": "stream",
     "text": [
      "Fitting 5 folds for each of 9 candidates, totalling 45 fits\n"
     ]
    },
    {
     "name": "stderr",
     "output_type": "stream",
     "text": [
      "[Parallel(n_jobs=-1)]: Using backend LokyBackend with 8 concurrent workers.\n",
      "[Parallel(n_jobs=-1)]: Done  45 out of  45 | elapsed:    5.4s finished\n"
     ]
    },
    {
     "name": "stdout",
     "output_type": "stream",
     "text": [
      "GridSearchCV 최고 평균 정확도:0.8670\n",
      "GridSerarchCV로 결정된 파라미터의 결정 트리 예측 정확도 :0.8738\n",
      "GridSearchCV 최적 하이퍼 파라미터: {'max_depth': 20, 'min_samples_leaf': 1}\n"
     ]
    }
   ],
   "source": [
    "#최적의 파리미터 찾기\n",
    "from sklearn.model_selection import GridSearchCV\n",
    "params = {\n",
    "    'max_depth' : [20,40,60],\n",
    "    'min_samples_leaf' :[1,3,5]    \n",
    "    }\n",
    "grid_cv=GridSearchCV(dt_clf, param_grid=params, scoring='accuracy', cv=5, verbose=1,n_jobs=-1)\n",
    "grid_cv.fit(X_train,y_train)\n",
    "best_df_clf = grid_cv.best_estimator_\n",
    "pred1=best_df_clf.predict(X_test)\n",
    "accuracy = accuracy_score(y_test,pred1)\n",
    "print('GridSearchCV 최고 평균 정확도:{0:.4f}'.format(grid_cv.best_score_))\n",
    "print('GridSerarchCV로 결정된 파라미터의 결정 트리 예측 정확도 :{0:.4f}'.format(accuracy))\n",
    "print('GridSearchCV 최적 하이퍼 파라미터:', grid_cv.best_params_)"
   ]
  },
  {
   "cell_type": "code",
   "execution_count": 11,
   "metadata": {},
   "outputs": [
    {
     "data": {
      "text/html": [
       "<div>\n",
       "<style scoped>\n",
       "    .dataframe tbody tr th:only-of-type {\n",
       "        vertical-align: middle;\n",
       "    }\n",
       "\n",
       "    .dataframe tbody tr th {\n",
       "        vertical-align: top;\n",
       "    }\n",
       "\n",
       "    .dataframe thead th {\n",
       "        text-align: right;\n",
       "    }\n",
       "</style>\n",
       "<table border=\"1\" class=\"dataframe\">\n",
       "  <thead>\n",
       "    <tr style=\"text-align: right;\">\n",
       "      <th></th>\n",
       "      <th>param_max_depth</th>\n",
       "      <th>param_min_samples_leaf</th>\n",
       "      <th>mean_test_score</th>\n",
       "      <th>mean_train_score</th>\n",
       "    </tr>\n",
       "  </thead>\n",
       "  <tbody>\n",
       "    <tr>\n",
       "      <th>0</th>\n",
       "      <td>20</td>\n",
       "      <td>1</td>\n",
       "      <td>0.867029</td>\n",
       "      <td>0.996101</td>\n",
       "    </tr>\n",
       "    <tr>\n",
       "      <th>1</th>\n",
       "      <td>20</td>\n",
       "      <td>3</td>\n",
       "      <td>0.862917</td>\n",
       "      <td>0.966641</td>\n",
       "    </tr>\n",
       "    <tr>\n",
       "      <th>4</th>\n",
       "      <td>40</td>\n",
       "      <td>3</td>\n",
       "      <td>0.862917</td>\n",
       "      <td>0.969162</td>\n",
       "    </tr>\n",
       "    <tr>\n",
       "      <th>7</th>\n",
       "      <td>60</td>\n",
       "      <td>3</td>\n",
       "      <td>0.862917</td>\n",
       "      <td>0.969162</td>\n",
       "    </tr>\n",
       "    <tr>\n",
       "      <th>3</th>\n",
       "      <td>40</td>\n",
       "      <td>1</td>\n",
       "      <td>0.862529</td>\n",
       "      <td>1.000000</td>\n",
       "    </tr>\n",
       "    <tr>\n",
       "      <th>6</th>\n",
       "      <td>60</td>\n",
       "      <td>1</td>\n",
       "      <td>0.862529</td>\n",
       "      <td>1.000000</td>\n",
       "    </tr>\n",
       "    <tr>\n",
       "      <th>5</th>\n",
       "      <td>40</td>\n",
       "      <td>5</td>\n",
       "      <td>0.855935</td>\n",
       "      <td>0.946567</td>\n",
       "    </tr>\n",
       "    <tr>\n",
       "      <th>8</th>\n",
       "      <td>60</td>\n",
       "      <td>5</td>\n",
       "      <td>0.855935</td>\n",
       "      <td>0.946567</td>\n",
       "    </tr>\n",
       "    <tr>\n",
       "      <th>2</th>\n",
       "      <td>20</td>\n",
       "      <td>5</td>\n",
       "      <td>0.855702</td>\n",
       "      <td>0.944996</td>\n",
       "    </tr>\n",
       "  </tbody>\n",
       "</table>\n",
       "</div>"
      ],
      "text/plain": [
       "  param_max_depth param_min_samples_leaf  mean_test_score  mean_train_score\n",
       "0              20                      1         0.867029          0.996101\n",
       "1              20                      3         0.862917          0.966641\n",
       "4              40                      3         0.862917          0.969162\n",
       "7              60                      3         0.862917          0.969162\n",
       "3              40                      1         0.862529          1.000000\n",
       "6              60                      1         0.862529          1.000000\n",
       "5              40                      5         0.855935          0.946567\n",
       "8              60                      5         0.855935          0.946567\n",
       "2              20                      5         0.855702          0.944996"
      ]
     },
     "execution_count": 11,
     "metadata": {},
     "output_type": "execute_result"
    }
   ],
   "source": [
    "#GridSerarchCV 객체의 cv_results_속성을 DataFrame으로 생성\n",
    "cv_result_df=pd.DataFrame(grid_cv.cv_results_)\n",
    "#max_depth 파라미터 값과 그때의 테스터 세트, 학습 데이터 세트의 정확도 수치를 추출\n",
    "#cv_result_df.columns 칼럼에서 명칭확인 시 입력\n",
    "cv_result_df=cv_result_df[['param_max_depth','param_min_samples_leaf','mean_test_score','mean_train_score']]\n",
    "cv_result_df_top20 = cv_result_df.sort_values(by=['mean_test_score'],ascending=False)[:10]\n",
    "cv_result_df_top20.head(10)"
   ]
  },
  {
   "cell_type": "code",
   "execution_count": 12,
   "metadata": {},
   "outputs": [
    {
     "name": "stdout",
     "output_type": "stream",
     "text": [
      "Fitting 3 folds for each of 27 candidates, totalling 81 fits\n"
     ]
    },
    {
     "name": "stderr",
     "output_type": "stream",
     "text": [
      "[Parallel(n_jobs=-1)]: Using backend LokyBackend with 8 concurrent workers.\n",
      "[Parallel(n_jobs=-1)]: Done  34 tasks      | elapsed:    1.1s\n",
      "[Parallel(n_jobs=-1)]: Done  81 out of  81 | elapsed:    1.5s finished\n"
     ]
    },
    {
     "name": "stdout",
     "output_type": "stream",
     "text": [
      "GridSearchCV 최고 평균 정확도 수치:0.8580\n",
      "GridSerarchCV로 결정된 파라미터의 결정 트리 예측 정확도 :0.8738\n",
      "GridSearchCV 최적 하이파 파라미터: {'max_depth': 20, 'max_features': None, 'max_leaf_nodes': None, 'min_samples_leaf': 1, 'min_samples_split': 2}\n"
     ]
    }
   ],
   "source": [
    "#최적의 파리미터 찾기\n",
    "from sklearn.model_selection import GridSearchCV\n",
    "params = {\n",
    "    'max_depth' : [20],\n",
    "    'min_samples_leaf' :[1],\n",
    "    'min_samples_split' :[2,4,6],\n",
    "    'max_features' : [None, 'sqrt','log2'],\n",
    "    'max_leaf_nodes' :[None, 3, 10]\n",
    "    }\n",
    "grid_cv=GridSearchCV(dt_clf, param_grid=params, scoring='accuracy', cv=3, verbose=1,n_jobs=-1)\n",
    "grid_cv.fit(X_train,y_train)\n",
    "best_df_clf = grid_cv.best_estimator_\n",
    "pred1=best_df_clf.predict(X_test)\n",
    "accuracy = accuracy_score(y_test,pred1)\n",
    "print('GridSearchCV 최고 평균 정확도 수치:{0:.4f}'.format(grid_cv.best_score_))\n",
    "print('GridSerarchCV로 결정된 파라미터의 결정 트리 예측 정확도 :{0:.4f}'.format(accuracy))\n",
    "print('GridSearchCV 최적 하이파 파라미터:', grid_cv.best_params_)\n",
    "#아래의 방법도 있고 두번째 직접 모델에 입력해서 넣는 방법이 있는데 장단점이 있음.\n",
    "#직접 모델에 넣는 방법은 많은 파라미터가 있는 경우 유효함."
   ]
  },
  {
   "cell_type": "code",
   "execution_count": 13,
   "metadata": {},
   "outputs": [
    {
     "data": {
      "text/html": [
       "<div>\n",
       "<style scoped>\n",
       "    .dataframe tbody tr th:only-of-type {\n",
       "        vertical-align: middle;\n",
       "    }\n",
       "\n",
       "    .dataframe tbody tr th {\n",
       "        vertical-align: top;\n",
       "    }\n",
       "\n",
       "    .dataframe thead th {\n",
       "        text-align: right;\n",
       "    }\n",
       "</style>\n",
       "<table border=\"1\" class=\"dataframe\">\n",
       "  <thead>\n",
       "    <tr style=\"text-align: right;\">\n",
       "      <th></th>\n",
       "      <th>param_min_samples_split</th>\n",
       "      <th>param_max_features</th>\n",
       "      <th>param_max_leaf_nodes</th>\n",
       "      <th>mean_test_score</th>\n",
       "      <th>mean_train_score</th>\n",
       "    </tr>\n",
       "  </thead>\n",
       "  <tbody>\n",
       "    <tr>\n",
       "      <th>0</th>\n",
       "      <td>2</td>\n",
       "      <td>None</td>\n",
       "      <td>None</td>\n",
       "      <td>0.857952</td>\n",
       "      <td>0.998798</td>\n",
       "    </tr>\n",
       "    <tr>\n",
       "      <th>1</th>\n",
       "      <td>4</td>\n",
       "      <td>None</td>\n",
       "      <td>None</td>\n",
       "      <td>0.856400</td>\n",
       "      <td>0.990535</td>\n",
       "    </tr>\n",
       "    <tr>\n",
       "      <th>2</th>\n",
       "      <td>6</td>\n",
       "      <td>None</td>\n",
       "      <td>None</td>\n",
       "      <td>0.853840</td>\n",
       "      <td>0.983708</td>\n",
       "    </tr>\n",
       "    <tr>\n",
       "      <th>9</th>\n",
       "      <td>2</td>\n",
       "      <td>sqrt</td>\n",
       "      <td>None</td>\n",
       "      <td>0.833359</td>\n",
       "      <td>0.997673</td>\n",
       "    </tr>\n",
       "    <tr>\n",
       "      <th>10</th>\n",
       "      <td>4</td>\n",
       "      <td>sqrt</td>\n",
       "      <td>None</td>\n",
       "      <td>0.832428</td>\n",
       "      <td>0.983126</td>\n",
       "    </tr>\n",
       "    <tr>\n",
       "      <th>18</th>\n",
       "      <td>2</td>\n",
       "      <td>log2</td>\n",
       "      <td>None</td>\n",
       "      <td>0.830877</td>\n",
       "      <td>0.997246</td>\n",
       "    </tr>\n",
       "    <tr>\n",
       "      <th>11</th>\n",
       "      <td>6</td>\n",
       "      <td>sqrt</td>\n",
       "      <td>None</td>\n",
       "      <td>0.829092</td>\n",
       "      <td>0.971257</td>\n",
       "    </tr>\n",
       "    <tr>\n",
       "      <th>19</th>\n",
       "      <td>4</td>\n",
       "      <td>log2</td>\n",
       "      <td>None</td>\n",
       "      <td>0.827153</td>\n",
       "      <td>0.983941</td>\n",
       "    </tr>\n",
       "    <tr>\n",
       "      <th>20</th>\n",
       "      <td>6</td>\n",
       "      <td>log2</td>\n",
       "      <td>None</td>\n",
       "      <td>0.821800</td>\n",
       "      <td>0.969162</td>\n",
       "    </tr>\n",
       "    <tr>\n",
       "      <th>6</th>\n",
       "      <td>2</td>\n",
       "      <td>None</td>\n",
       "      <td>10</td>\n",
       "      <td>0.680217</td>\n",
       "      <td>0.682040</td>\n",
       "    </tr>\n",
       "  </tbody>\n",
       "</table>\n",
       "</div>"
      ],
      "text/plain": [
       "   param_min_samples_split param_max_features param_max_leaf_nodes  \\\n",
       "0                        2               None                 None   \n",
       "1                        4               None                 None   \n",
       "2                        6               None                 None   \n",
       "9                        2               sqrt                 None   \n",
       "10                       4               sqrt                 None   \n",
       "18                       2               log2                 None   \n",
       "11                       6               sqrt                 None   \n",
       "19                       4               log2                 None   \n",
       "20                       6               log2                 None   \n",
       "6                        2               None                   10   \n",
       "\n",
       "    mean_test_score  mean_train_score  \n",
       "0          0.857952          0.998798  \n",
       "1          0.856400          0.990535  \n",
       "2          0.853840          0.983708  \n",
       "9          0.833359          0.997673  \n",
       "10         0.832428          0.983126  \n",
       "18         0.830877          0.997246  \n",
       "11         0.829092          0.971257  \n",
       "19         0.827153          0.983941  \n",
       "20         0.821800          0.969162  \n",
       "6          0.680217          0.682040  "
      ]
     },
     "execution_count": 13,
     "metadata": {},
     "output_type": "execute_result"
    }
   ],
   "source": [
    "#GridSerarchCV 객체의 cv_results_속성을 DataFrame으로 생성\n",
    "cv_result_df=pd.DataFrame(grid_cv.cv_results_)\n",
    "#max_depth 파라미터 값과 그때의 테스터 세트, 학습 데이터 세트의 정확도 수치를 추출\n",
    "#cv_result_df.columns 칼럼에서 명칭확인 시 입력\n",
    "cv_result_df=cv_result_df[['param_min_samples_split','param_max_features','param_max_leaf_nodes', 'mean_test_score','mean_train_score']]\n",
    "cv_result_df_top20 = cv_result_df.sort_values(by=['mean_test_score'],ascending=False)[:20]\n",
    "cv_result_df_top20.head(10)"
   ]
  },
  {
   "cell_type": "code",
   "execution_count": 14,
   "metadata": {},
   "outputs": [
    {
     "name": "stdout",
     "output_type": "stream",
     "text": [
      "DecisionTree 성능향상 예측정확도:0.8737\n"
     ]
    }
   ],
   "source": [
    "#많은 파라미터의 튜닝시 일부 파라미터 튜닝 후 고정하여 진행할 경우 이방법이 선호됨.\n",
    "dt_clf1 = DecisionTreeClassifier( max_depth= 20, max_features= None, max_leaf_nodes= None, min_samples_leaf= 1, min_samples_split= 2)\n",
    "dt_clf1.fit(X_train,y_train)\n",
    "pred = dt_clf1.predict(X_test)\n",
    "print('DecisionTree 성능향상 예측정확도:{0:.4f}'.format(accuracy_score(y_test,pred)))"
   ]
  },
  {
   "cell_type": "code",
   "execution_count": 15,
   "metadata": {},
   "outputs": [
    {
     "data": {
      "text/plain": [
       "<matplotlib.axes._subplots.AxesSubplot at 0x1b0e1fa5208>"
      ]
     },
     "execution_count": 15,
     "metadata": {},
     "output_type": "execute_result"
    },
    {
     "data": {
      "image/png": "[encoded data removed]",
      "text/plain": [
       "<Figure size 576x432 with 1 Axes>"
      ]
     },
     "metadata": {
      "needs_background": "light"
     },
     "output_type": "display_data"
    }
   ],
   "source": [
    "#특성값 중 상위 20위 확인\n",
    "ftr_importances_values=dt_clf1.feature_importances_\n",
    "ftr_importances = pd.Series(ftr_importances_values, index=X_train.columns)\n",
    "ftr_top20 = ftr_importances.sort_values(ascending=False)[:20]\n",
    "plt.figure(figsize=(8,6))\n",
    "plt.title('Feature importances Top 20')\n",
    "sns.barplot(x=ftr_top20, y = ftr_top20.index)"
   ]
  },
  {
   "cell_type": "code",
   "execution_count": 16,
   "metadata": {},
   "outputs": [
    {
     "name": "stdout",
     "output_type": "stream",
     "text": [
      "\n",
      "1. Training Data Set Score \n",
      " 0.9948021722265322\n",
      "\n",
      "2. Test Data Set Score(Auuracy) \n",
      " 0.8737\n",
      "\n",
      "3. Classifier Parameter \n",
      " {'class_weight': None, 'criterion': 'gini', 'max_depth': 20, 'max_features': None, 'max_leaf_nodes': None, 'min_impurity_decrease': 0.0, 'min_impurity_split': None, 'min_samples_leaf': 1, 'min_samples_split': 2, 'min_weight_fraction_leaf': 0.0, 'presort': False, 'random_state': None, 'splitter': 'best'}\n",
      "\n",
      "4. Classification Report\n",
      "              precision    recall  f1-score   support\n",
      "\n",
      "           5       0.96      0.96      0.96      2554\n",
      "          10       0.77      0.75      0.76      1005\n",
      "          15       0.77      0.80      0.78       899\n",
      "          20       0.85      0.83      0.84      1067\n",
      "\n",
      "   micro avg       0.87      0.87      0.87      5525\n",
      "   macro avg       0.84      0.84      0.84      5525\n",
      "weighted avg       0.87      0.87      0.87      5525\n",
      "\n",
      "\n",
      "5. Confusion Matrix\n",
      "[[2462   89    0    3]\n",
      " [  94  756  102   53]\n",
      " [   1   75  721  102]\n",
      " [   1   59  119  888]]\n"
     ]
    }
   ],
   "source": [
    "def get_clf_eval(y_test, pred):\n",
    "    confusion = confusion_matrix(y_test,pred)\n",
    "    accuracy = round(accuracy_score(y_test,pred),4)\n",
    "    tr_accuracy = accuracy_score(y_test,pred)\n",
    "    class_report=classification_report(y_test,pred)\n",
    "    #precision = precision_score(y_test,pred)\n",
    "    #recall = recall_score(y_test,pred)\n",
    "    #f1 = f1_score(y_test,pred)    \n",
    "      \n",
    "    #print('정확도:{0:.4f}, 정밀도:{1:.4f}, 재현율:{2:.4f},f1:{3:.4f}'.format(accuracy,precision,recall))\n",
    "    print('\\n1. Training Data Set Score ')\n",
    "    print(' ' + str(dt_clf1.score(X_train,y_train)))\n",
    "    print('\\n2. Test Data Set Score(Auuracy) ')\n",
    "    print(' ' + str(accuracy))\n",
    "    print('\\n3. Classifier Parameter ')\n",
    "    print(' ' + str(dt_clf1.get_params()))\n",
    "    print('\\n4. Classification Report')\n",
    "    print(class_report)\n",
    "    print('\\n5. Confusion Matrix')\n",
    "    print(confusion)\n",
    "\n",
    "    \n",
    "get_clf_eval(y_test, pred)"
   ]
  },
  {
   "cell_type": "code",
   "execution_count": 17,
   "metadata": {
    "scrolled": true
   },
   "outputs": [
    {
     "name": "stdout",
     "output_type": "stream",
     "text": [
      "Confusion Matrix_ver1\n",
      "\n"
     ]
    },
    {
     "data": {
      "image/png": "[encoded data removed]",
      "text/plain": [
       "<Figure size 432x288 with 1 Axes>"
      ]
     },
     "metadata": {
      "needs_background": "light"
     },
     "output_type": "display_data"
    }
   ],
   "source": [
    "def confusion_sns(y_test,pred):\n",
    "    confusion = confusion_matrix(y_test,pred)\n",
    "    con_df=pd.DataFrame(confusion, index = ['5kg','10kg','15kg','20kg'], \n",
    "                    columns=['5kg','10kg','15kg','20kg'])\n",
    "    sns.heatmap(con_df, annot=True, fmt='d', square=True, cmap='cubehelix_r', cbar=False)\n",
    "    plt.ylabel('Actual')\n",
    "    plt.xlabel('Predicted')\n",
    "    print('Confusion Matrix_ver1\\n')    \n",
    "confusion_sns(y_test,pred)"
   ]
  },
  {
   "cell_type": "code",
   "execution_count": 193,
   "metadata": {
    "collapsed": true
   },
   "outputs": [
    {
     "ename": "KeyError",
     "evalue": "'label'",
     "output_type": "error",
     "traceback": [
      "\u001b[1;31m---------------------------------------------------------------------------\u001b[0m",
      "\u001b[1;31mKeyError\u001b[0m                                  Traceback (most recent call last)",
      "\u001b[1;32mK:\\anaconda\\lib\\site-packages\\pandas\\core\\indexes\\base.py\u001b[0m in \u001b[0;36mget_loc\u001b[1;34m(self, key, method, tolerance)\u001b[0m\n\u001b[0;32m   3077\u001b[0m             \u001b[1;32mtry\u001b[0m\u001b[1;33m:\u001b[0m\u001b[1;33m\u001b[0m\u001b[0m\n\u001b[1;32m-> 3078\u001b[1;33m                 \u001b[1;32mreturn\u001b[0m \u001b[0mself\u001b[0m\u001b[1;33m.\u001b[0m\u001b[0m_engine\u001b[0m\u001b[1;33m.\u001b[0m\u001b[0mget_loc\u001b[0m\u001b[1;33m(\u001b[0m\u001b[0mkey\u001b[0m\u001b[1;33m)\u001b[0m\u001b[1;33m\u001b[0m\u001b[0m\n\u001b[0m\u001b[0;32m   3079\u001b[0m             \u001b[1;32mexcept\u001b[0m \u001b[0mKeyError\u001b[0m\u001b[1;33m:\u001b[0m\u001b[1;33m\u001b[0m\u001b[0m\n",
      "\u001b[1;32mpandas\\_libs\\index.pyx\u001b[0m in \u001b[0;36mpandas._libs.index.IndexEngine.get_loc\u001b[1;34m()\u001b[0m\n",
      "\u001b[1;32mpandas\\_libs\\index.pyx\u001b[0m in \u001b[0;36mpandas._libs.index.IndexEngine.get_loc\u001b[1;34m()\u001b[0m\n",
      "\u001b[1;32mpandas\\_libs\\hashtable_class_helper.pxi\u001b[0m in \u001b[0;36mpandas._libs.hashtable.PyObjectHashTable.get_item\u001b[1;34m()\u001b[0m\n",
      "\u001b[1;32mpandas\\_libs\\hashtable_class_helper.pxi\u001b[0m in \u001b[0;36mpandas._libs.hashtable.PyObjectHashTable.get_item\u001b[1;34m()\u001b[0m\n",
      "\u001b[1;31mKeyError\u001b[0m: 'label'",
      "\nDuring handling of the above exception, another exception occurred:\n",
      "\u001b[1;31mKeyError\u001b[0m                                  Traceback (most recent call last)",
      "\u001b[1;32m<ipython-input-193-c61fc861aba4>\u001b[0m in \u001b[0;36m<module>\u001b[1;34m()\u001b[0m\n\u001b[1;32m----> 1\u001b[1;33m \u001b[0mlabel\u001b[0m \u001b[1;33m=\u001b[0m \u001b[0msensor_data\u001b[0m\u001b[1;33m.\u001b[0m\u001b[0mpop\u001b[0m\u001b[1;33m(\u001b[0m\u001b[1;34m'label'\u001b[0m\u001b[1;33m)\u001b[0m\u001b[1;33m\u001b[0m\u001b[0m\n\u001b[0m\u001b[0;32m      2\u001b[0m \u001b[0mmask\u001b[0m \u001b[1;33m=\u001b[0m \u001b[0mlabel\u001b[0m\u001b[1;33m.\u001b[0m\u001b[0misin\u001b[0m\u001b[1;33m(\u001b[0m\u001b[1;33m[\u001b[0m\u001b[1;34m'5'\u001b[0m\u001b[1;33m,\u001b[0m \u001b[1;34m'10'\u001b[0m\u001b[1;33m,\u001b[0m \u001b[1;34m'15'\u001b[0m\u001b[1;33m,\u001b[0m \u001b[1;34m'20'\u001b[0m\u001b[1;33m]\u001b[0m\u001b[1;33m)\u001b[0m\u001b[1;33m\u001b[0m\u001b[0m\n\u001b[0;32m      3\u001b[0m \u001b[1;31m#duration_df = (sensor_data[mask].groupby([label[mask], 'subject'])['Data'].count() * 1.28)\u001b[0m\u001b[1;33m\u001b[0m\u001b[1;33m\u001b[0m\u001b[0m\n",
      "\u001b[1;32mK:\\anaconda\\lib\\site-packages\\pandas\\core\\generic.py\u001b[0m in \u001b[0;36mpop\u001b[1;34m(self, item)\u001b[0m\n\u001b[0;32m    758\u001b[0m         \u001b[1;36m3\u001b[0m  \u001b[0mmonkey\u001b[0m        \u001b[0mNaN\u001b[0m\u001b[1;33m\u001b[0m\u001b[0m\n\u001b[0;32m    759\u001b[0m         \"\"\"\n\u001b[1;32m--> 760\u001b[1;33m         \u001b[0mresult\u001b[0m \u001b[1;33m=\u001b[0m \u001b[0mself\u001b[0m\u001b[1;33m[\u001b[0m\u001b[0mitem\u001b[0m\u001b[1;33m]\u001b[0m\u001b[1;33m\u001b[0m\u001b[0m\n\u001b[0m\u001b[0;32m    761\u001b[0m         \u001b[1;32mdel\u001b[0m \u001b[0mself\u001b[0m\u001b[1;33m[\u001b[0m\u001b[0mitem\u001b[0m\u001b[1;33m]\u001b[0m\u001b[1;33m\u001b[0m\u001b[0m\n\u001b[0;32m    762\u001b[0m         \u001b[1;32mtry\u001b[0m\u001b[1;33m:\u001b[0m\u001b[1;33m\u001b[0m\u001b[0m\n",
      "\u001b[1;32mK:\\anaconda\\lib\\site-packages\\pandas\\core\\frame.py\u001b[0m in \u001b[0;36m__getitem__\u001b[1;34m(self, key)\u001b[0m\n\u001b[0;32m   2686\u001b[0m             \u001b[1;32mreturn\u001b[0m \u001b[0mself\u001b[0m\u001b[1;33m.\u001b[0m\u001b[0m_getitem_multilevel\u001b[0m\u001b[1;33m(\u001b[0m\u001b[0mkey\u001b[0m\u001b[1;33m)\u001b[0m\u001b[1;33m\u001b[0m\u001b[0m\n\u001b[0;32m   2687\u001b[0m         \u001b[1;32melse\u001b[0m\u001b[1;33m:\u001b[0m\u001b[1;33m\u001b[0m\u001b[0m\n\u001b[1;32m-> 2688\u001b[1;33m             \u001b[1;32mreturn\u001b[0m \u001b[0mself\u001b[0m\u001b[1;33m.\u001b[0m\u001b[0m_getitem_column\u001b[0m\u001b[1;33m(\u001b[0m\u001b[0mkey\u001b[0m\u001b[1;33m)\u001b[0m\u001b[1;33m\u001b[0m\u001b[0m\n\u001b[0m\u001b[0;32m   2689\u001b[0m \u001b[1;33m\u001b[0m\u001b[0m\n\u001b[0;32m   2690\u001b[0m     \u001b[1;32mdef\u001b[0m \u001b[0m_getitem_column\u001b[0m\u001b[1;33m(\u001b[0m\u001b[0mself\u001b[0m\u001b[1;33m,\u001b[0m \u001b[0mkey\u001b[0m\u001b[1;33m)\u001b[0m\u001b[1;33m:\u001b[0m\u001b[1;33m\u001b[0m\u001b[0m\n",
      "\u001b[1;32mK:\\anaconda\\lib\\site-packages\\pandas\\core\\frame.py\u001b[0m in \u001b[0;36m_getitem_column\u001b[1;34m(self, key)\u001b[0m\n\u001b[0;32m   2693\u001b[0m         \u001b[1;31m# get column\u001b[0m\u001b[1;33m\u001b[0m\u001b[1;33m\u001b[0m\u001b[0m\n\u001b[0;32m   2694\u001b[0m         \u001b[1;32mif\u001b[0m \u001b[0mself\u001b[0m\u001b[1;33m.\u001b[0m\u001b[0mcolumns\u001b[0m\u001b[1;33m.\u001b[0m\u001b[0mis_unique\u001b[0m\u001b[1;33m:\u001b[0m\u001b[1;33m\u001b[0m\u001b[0m\n\u001b[1;32m-> 2695\u001b[1;33m             \u001b[1;32mreturn\u001b[0m \u001b[0mself\u001b[0m\u001b[1;33m.\u001b[0m\u001b[0m_get_item_cache\u001b[0m\u001b[1;33m(\u001b[0m\u001b[0mkey\u001b[0m\u001b[1;33m)\u001b[0m\u001b[1;33m\u001b[0m\u001b[0m\n\u001b[0m\u001b[0;32m   2696\u001b[0m \u001b[1;33m\u001b[0m\u001b[0m\n\u001b[0;32m   2697\u001b[0m         \u001b[1;31m# duplicate columns & possible reduce dimensionality\u001b[0m\u001b[1;33m\u001b[0m\u001b[1;33m\u001b[0m\u001b[0m\n",
      "\u001b[1;32mK:\\anaconda\\lib\\site-packages\\pandas\\core\\generic.py\u001b[0m in \u001b[0;36m_get_item_cache\u001b[1;34m(self, item)\u001b[0m\n\u001b[0;32m   2487\u001b[0m         \u001b[0mres\u001b[0m \u001b[1;33m=\u001b[0m \u001b[0mcache\u001b[0m\u001b[1;33m.\u001b[0m\u001b[0mget\u001b[0m\u001b[1;33m(\u001b[0m\u001b[0mitem\u001b[0m\u001b[1;33m)\u001b[0m\u001b[1;33m\u001b[0m\u001b[0m\n\u001b[0;32m   2488\u001b[0m         \u001b[1;32mif\u001b[0m \u001b[0mres\u001b[0m \u001b[1;32mis\u001b[0m \u001b[1;32mNone\u001b[0m\u001b[1;33m:\u001b[0m\u001b[1;33m\u001b[0m\u001b[0m\n\u001b[1;32m-> 2489\u001b[1;33m             \u001b[0mvalues\u001b[0m \u001b[1;33m=\u001b[0m \u001b[0mself\u001b[0m\u001b[1;33m.\u001b[0m\u001b[0m_data\u001b[0m\u001b[1;33m.\u001b[0m\u001b[0mget\u001b[0m\u001b[1;33m(\u001b[0m\u001b[0mitem\u001b[0m\u001b[1;33m)\u001b[0m\u001b[1;33m\u001b[0m\u001b[0m\n\u001b[0m\u001b[0;32m   2490\u001b[0m             \u001b[0mres\u001b[0m \u001b[1;33m=\u001b[0m \u001b[0mself\u001b[0m\u001b[1;33m.\u001b[0m\u001b[0m_box_item_values\u001b[0m\u001b[1;33m(\u001b[0m\u001b[0mitem\u001b[0m\u001b[1;33m,\u001b[0m \u001b[0mvalues\u001b[0m\u001b[1;33m)\u001b[0m\u001b[1;33m\u001b[0m\u001b[0m\n\u001b[0;32m   2491\u001b[0m             \u001b[0mcache\u001b[0m\u001b[1;33m[\u001b[0m\u001b[0mitem\u001b[0m\u001b[1;33m]\u001b[0m \u001b[1;33m=\u001b[0m \u001b[0mres\u001b[0m\u001b[1;33m\u001b[0m\u001b[0m\n",
      "\u001b[1;32mK:\\anaconda\\lib\\site-packages\\pandas\\core\\internals.py\u001b[0m in \u001b[0;36mget\u001b[1;34m(self, item, fastpath)\u001b[0m\n\u001b[0;32m   4113\u001b[0m \u001b[1;33m\u001b[0m\u001b[0m\n\u001b[0;32m   4114\u001b[0m             \u001b[1;32mif\u001b[0m \u001b[1;32mnot\u001b[0m \u001b[0misna\u001b[0m\u001b[1;33m(\u001b[0m\u001b[0mitem\u001b[0m\u001b[1;33m)\u001b[0m\u001b[1;33m:\u001b[0m\u001b[1;33m\u001b[0m\u001b[0m\n\u001b[1;32m-> 4115\u001b[1;33m                 \u001b[0mloc\u001b[0m \u001b[1;33m=\u001b[0m \u001b[0mself\u001b[0m\u001b[1;33m.\u001b[0m\u001b[0mitems\u001b[0m\u001b[1;33m.\u001b[0m\u001b[0mget_loc\u001b[0m\u001b[1;33m(\u001b[0m\u001b[0mitem\u001b[0m\u001b[1;33m)\u001b[0m\u001b[1;33m\u001b[0m\u001b[0m\n\u001b[0m\u001b[0;32m   4116\u001b[0m             \u001b[1;32melse\u001b[0m\u001b[1;33m:\u001b[0m\u001b[1;33m\u001b[0m\u001b[0m\n\u001b[0;32m   4117\u001b[0m                 \u001b[0mindexer\u001b[0m \u001b[1;33m=\u001b[0m \u001b[0mnp\u001b[0m\u001b[1;33m.\u001b[0m\u001b[0marange\u001b[0m\u001b[1;33m(\u001b[0m\u001b[0mlen\u001b[0m\u001b[1;33m(\u001b[0m\u001b[0mself\u001b[0m\u001b[1;33m.\u001b[0m\u001b[0mitems\u001b[0m\u001b[1;33m)\u001b[0m\u001b[1;33m)\u001b[0m\u001b[1;33m[\u001b[0m\u001b[0misna\u001b[0m\u001b[1;33m(\u001b[0m\u001b[0mself\u001b[0m\u001b[1;33m.\u001b[0m\u001b[0mitems\u001b[0m\u001b[1;33m)\u001b[0m\u001b[1;33m]\u001b[0m\u001b[1;33m\u001b[0m\u001b[0m\n",
      "\u001b[1;32mK:\\anaconda\\lib\\site-packages\\pandas\\core\\indexes\\base.py\u001b[0m in \u001b[0;36mget_loc\u001b[1;34m(self, key, method, tolerance)\u001b[0m\n\u001b[0;32m   3078\u001b[0m                 \u001b[1;32mreturn\u001b[0m \u001b[0mself\u001b[0m\u001b[1;33m.\u001b[0m\u001b[0m_engine\u001b[0m\u001b[1;33m.\u001b[0m\u001b[0mget_loc\u001b[0m\u001b[1;33m(\u001b[0m\u001b[0mkey\u001b[0m\u001b[1;33m)\u001b[0m\u001b[1;33m\u001b[0m\u001b[0m\n\u001b[0;32m   3079\u001b[0m             \u001b[1;32mexcept\u001b[0m \u001b[0mKeyError\u001b[0m\u001b[1;33m:\u001b[0m\u001b[1;33m\u001b[0m\u001b[0m\n\u001b[1;32m-> 3080\u001b[1;33m                 \u001b[1;32mreturn\u001b[0m \u001b[0mself\u001b[0m\u001b[1;33m.\u001b[0m\u001b[0m_engine\u001b[0m\u001b[1;33m.\u001b[0m\u001b[0mget_loc\u001b[0m\u001b[1;33m(\u001b[0m\u001b[0mself\u001b[0m\u001b[1;33m.\u001b[0m\u001b[0m_maybe_cast_indexer\u001b[0m\u001b[1;33m(\u001b[0m\u001b[0mkey\u001b[0m\u001b[1;33m)\u001b[0m\u001b[1;33m)\u001b[0m\u001b[1;33m\u001b[0m\u001b[0m\n\u001b[0m\u001b[0;32m   3081\u001b[0m \u001b[1;33m\u001b[0m\u001b[0m\n\u001b[0;32m   3082\u001b[0m         \u001b[0mindexer\u001b[0m \u001b[1;33m=\u001b[0m \u001b[0mself\u001b[0m\u001b[1;33m.\u001b[0m\u001b[0mget_indexer\u001b[0m\u001b[1;33m(\u001b[0m\u001b[1;33m[\u001b[0m\u001b[0mkey\u001b[0m\u001b[1;33m]\u001b[0m\u001b[1;33m,\u001b[0m \u001b[0mmethod\u001b[0m\u001b[1;33m=\u001b[0m\u001b[0mmethod\u001b[0m\u001b[1;33m,\u001b[0m \u001b[0mtolerance\u001b[0m\u001b[1;33m=\u001b[0m\u001b[0mtolerance\u001b[0m\u001b[1;33m)\u001b[0m\u001b[1;33m\u001b[0m\u001b[0m\n",
      "\u001b[1;32mpandas\\_libs\\index.pyx\u001b[0m in \u001b[0;36mpandas._libs.index.IndexEngine.get_loc\u001b[1;34m()\u001b[0m\n",
      "\u001b[1;32mpandas\\_libs\\index.pyx\u001b[0m in \u001b[0;36mpandas._libs.index.IndexEngine.get_loc\u001b[1;34m()\u001b[0m\n",
      "\u001b[1;32mpandas\\_libs\\hashtable_class_helper.pxi\u001b[0m in \u001b[0;36mpandas._libs.hashtable.PyObjectHashTable.get_item\u001b[1;34m()\u001b[0m\n",
      "\u001b[1;32mpandas\\_libs\\hashtable_class_helper.pxi\u001b[0m in \u001b[0;36mpandas._libs.hashtable.PyObjectHashTable.get_item\u001b[1;34m()\u001b[0m\n",
      "\u001b[1;31mKeyError\u001b[0m: 'label'"
     ]
    }
   ],
   "source": [
    "label = sensor_data.pop('label')\n",
    "\n",
    "#duration_df = (sensor_data[mask].groupby([label[mask], 'subject'])['Data'].count() * 1.28)"
   ]
  },
  {
   "cell_type": "code",
   "execution_count": 194,
   "metadata": {},
   "outputs": [],
   "source": [
    "mask = label.isin(['5', '10', '15', '20'])"
   ]
  },
  {
   "cell_type": "code",
   "execution_count": 199,
   "metadata": {},
   "outputs": [
    {
     "ename": "KeyError",
     "evalue": "'count'",
     "output_type": "error",
     "traceback": [
      "\u001b[1;31m---------------------------------------------------------------------------\u001b[0m",
      "\u001b[1;31mKeyError\u001b[0m                                  Traceback (most recent call last)",
      "\u001b[1;32m<ipython-input-199-0455eb606f40>\u001b[0m in \u001b[0;36m<module>\u001b[1;34m()\u001b[0m\n\u001b[1;32m----> 1\u001b[1;33m \u001b[0msensor_data\u001b[0m\u001b[1;33m[\u001b[0m\u001b[0mmask\u001b[0m\u001b[1;33m]\u001b[0m\u001b[1;33m.\u001b[0m\u001b[0mgroupby\u001b[0m\u001b[1;33m(\u001b[0m\u001b[1;33m[\u001b[0m\u001b[0mlabel\u001b[0m\u001b[1;33m[\u001b[0m\u001b[0mmask\u001b[0m\u001b[1;33m]\u001b[0m\u001b[1;33m,\u001b[0m \u001b[1;34m'count'\u001b[0m\u001b[1;33m]\u001b[0m\u001b[1;33m)\u001b[0m\u001b[1;33m[\u001b[0m\u001b[1;34m'Data'\u001b[0m\u001b[1;33m]\u001b[0m\u001b[1;33m.\u001b[0m\u001b[0mcount\u001b[0m\u001b[1;33m(\u001b[0m\u001b[1;33m)\u001b[0m \u001b[1;33m*\u001b[0m \u001b[1;36m1.28\u001b[0m\u001b[1;33m\u001b[0m\u001b[0m\n\u001b[0m",
      "\u001b[1;32mK:\\anaconda\\lib\\site-packages\\pandas\\core\\generic.py\u001b[0m in \u001b[0;36mgroupby\u001b[1;34m(self, by, axis, level, as_index, sort, group_keys, squeeze, observed, **kwargs)\u001b[0m\n\u001b[0;32m   6663\u001b[0m         return groupby(self, by=by, axis=axis, level=level, as_index=as_index,\n\u001b[0;32m   6664\u001b[0m                        \u001b[0msort\u001b[0m\u001b[1;33m=\u001b[0m\u001b[0msort\u001b[0m\u001b[1;33m,\u001b[0m \u001b[0mgroup_keys\u001b[0m\u001b[1;33m=\u001b[0m\u001b[0mgroup_keys\u001b[0m\u001b[1;33m,\u001b[0m \u001b[0msqueeze\u001b[0m\u001b[1;33m=\u001b[0m\u001b[0msqueeze\u001b[0m\u001b[1;33m,\u001b[0m\u001b[1;33m\u001b[0m\u001b[0m\n\u001b[1;32m-> 6665\u001b[1;33m                        observed=observed, **kwargs)\n\u001b[0m\u001b[0;32m   6666\u001b[0m \u001b[1;33m\u001b[0m\u001b[0m\n\u001b[0;32m   6667\u001b[0m     def asfreq(self, freq, method=None, how=None, normalize=False,\n",
      "\u001b[1;32mK:\\anaconda\\lib\\site-packages\\pandas\\core\\groupby\\groupby.py\u001b[0m in \u001b[0;36mgroupby\u001b[1;34m(obj, by, **kwds)\u001b[0m\n\u001b[0;32m   2150\u001b[0m         \u001b[1;32mraise\u001b[0m \u001b[0mTypeError\u001b[0m\u001b[1;33m(\u001b[0m\u001b[1;34m'invalid type: %s'\u001b[0m \u001b[1;33m%\u001b[0m \u001b[0mtype\u001b[0m\u001b[1;33m(\u001b[0m\u001b[0mobj\u001b[0m\u001b[1;33m)\u001b[0m\u001b[1;33m)\u001b[0m\u001b[1;33m\u001b[0m\u001b[0m\n\u001b[0;32m   2151\u001b[0m \u001b[1;33m\u001b[0m\u001b[0m\n\u001b[1;32m-> 2152\u001b[1;33m     \u001b[1;32mreturn\u001b[0m \u001b[0mklass\u001b[0m\u001b[1;33m(\u001b[0m\u001b[0mobj\u001b[0m\u001b[1;33m,\u001b[0m \u001b[0mby\u001b[0m\u001b[1;33m,\u001b[0m \u001b[1;33m**\u001b[0m\u001b[0mkwds\u001b[0m\u001b[1;33m)\u001b[0m\u001b[1;33m\u001b[0m\u001b[0m\n\u001b[0m\u001b[0;32m   2153\u001b[0m \u001b[1;33m\u001b[0m\u001b[0m\n\u001b[0;32m   2154\u001b[0m \u001b[1;33m\u001b[0m\u001b[0m\n",
      "\u001b[1;32mK:\\anaconda\\lib\\site-packages\\pandas\\core\\groupby\\groupby.py\u001b[0m in \u001b[0;36m__init__\u001b[1;34m(self, obj, keys, axis, level, grouper, exclusions, selection, as_index, sort, group_keys, squeeze, observed, **kwargs)\u001b[0m\n\u001b[0;32m    597\u001b[0m                                                     \u001b[0msort\u001b[0m\u001b[1;33m=\u001b[0m\u001b[0msort\u001b[0m\u001b[1;33m,\u001b[0m\u001b[1;33m\u001b[0m\u001b[0m\n\u001b[0;32m    598\u001b[0m                                                     \u001b[0mobserved\u001b[0m\u001b[1;33m=\u001b[0m\u001b[0mobserved\u001b[0m\u001b[1;33m,\u001b[0m\u001b[1;33m\u001b[0m\u001b[0m\n\u001b[1;32m--> 599\u001b[1;33m                                                     mutated=self.mutated)\n\u001b[0m\u001b[0;32m    600\u001b[0m \u001b[1;33m\u001b[0m\u001b[0m\n\u001b[0;32m    601\u001b[0m         \u001b[0mself\u001b[0m\u001b[1;33m.\u001b[0m\u001b[0mobj\u001b[0m \u001b[1;33m=\u001b[0m \u001b[0mobj\u001b[0m\u001b[1;33m\u001b[0m\u001b[0m\n",
      "\u001b[1;32mK:\\anaconda\\lib\\site-packages\\pandas\\core\\groupby\\groupby.py\u001b[0m in \u001b[0;36m_get_grouper\u001b[1;34m(obj, key, axis, level, sort, observed, mutated, validate)\u001b[0m\n\u001b[0;32m   3289\u001b[0m                 \u001b[0min_axis\u001b[0m\u001b[1;33m,\u001b[0m \u001b[0mname\u001b[0m\u001b[1;33m,\u001b[0m \u001b[0mlevel\u001b[0m\u001b[1;33m,\u001b[0m \u001b[0mgpr\u001b[0m \u001b[1;33m=\u001b[0m \u001b[1;32mFalse\u001b[0m\u001b[1;33m,\u001b[0m \u001b[1;32mNone\u001b[0m\u001b[1;33m,\u001b[0m \u001b[0mgpr\u001b[0m\u001b[1;33m,\u001b[0m \u001b[1;32mNone\u001b[0m\u001b[1;33m\u001b[0m\u001b[0m\n\u001b[0;32m   3290\u001b[0m             \u001b[1;32melse\u001b[0m\u001b[1;33m:\u001b[0m\u001b[1;33m\u001b[0m\u001b[0m\n\u001b[1;32m-> 3291\u001b[1;33m                 \u001b[1;32mraise\u001b[0m \u001b[0mKeyError\u001b[0m\u001b[1;33m(\u001b[0m\u001b[0mgpr\u001b[0m\u001b[1;33m)\u001b[0m\u001b[1;33m\u001b[0m\u001b[0m\n\u001b[0m\u001b[0;32m   3292\u001b[0m         \u001b[1;32melif\u001b[0m \u001b[0misinstance\u001b[0m\u001b[1;33m(\u001b[0m\u001b[0mgpr\u001b[0m\u001b[1;33m,\u001b[0m \u001b[0mGrouper\u001b[0m\u001b[1;33m)\u001b[0m \u001b[1;32mand\u001b[0m \u001b[0mgpr\u001b[0m\u001b[1;33m.\u001b[0m\u001b[0mkey\u001b[0m \u001b[1;32mis\u001b[0m \u001b[1;32mnot\u001b[0m \u001b[1;32mNone\u001b[0m\u001b[1;33m:\u001b[0m\u001b[1;33m\u001b[0m\u001b[0m\n\u001b[0;32m   3293\u001b[0m             \u001b[1;31m# Add key to exclusions\u001b[0m\u001b[1;33m\u001b[0m\u001b[1;33m\u001b[0m\u001b[0m\n",
      "\u001b[1;31mKeyError\u001b[0m: 'count'"
     ]
    }
   ],
   "source": [
    "sensor_data[mask].groupby([label[mask], 'count'])['Data'].count() * 1.28"
   ]
  },
  {
   "cell_type": "code",
   "execution_count": null,
   "metadata": {},
   "outputs": [],
   "source": [
    "# Create plot\n",
    "plot_data = duration_df.reset_index().sort_values('Data', ascending=False)\n",
    "plot_data['Activity'] = plot_data['Activity'].map({'WALKING_UPSTAIRS':'Upstairs', 'WALKING_DOWNSTAIRS':'Downstairs'})"
   ]
  }
 ],
 "metadata": {
  "kernelspec": {
   "display_name": "Python 3",
   "language": "python",
   "name": "python3"
  },
  "language_info": {
   "codemirror_mode": {
    "name": "ipython",
    "version": 3
   },
   "file_extension": ".py",
   "mimetype": "text/x-python",
   "name": "python",
   "nbconvert_exporter": "python",
   "pygments_lexer": "ipython3",
   "version": "3.7.0"
  }
 },
 "nbformat": 4,
 "nbformat_minor": 2
}
