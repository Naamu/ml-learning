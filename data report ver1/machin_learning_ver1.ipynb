{
 "cells": [
  {
   "cell_type": "code",
   "execution_count": 218,
   "metadata": {},
   "outputs": [],
   "source": [
    "import pandas as pd\n",
    "from sklearn.tree import DecisionTreeClassifier\n",
    "from sklearn.metrics import accuracy_score\n",
    "from sklearn.model_selection import train_test_split"
   ]
  },
  {
   "cell_type": "code",
   "execution_count": 219,
   "metadata": {},
   "outputs": [],
   "source": [
    "import seaborn as sns\n",
    "import matplotlib.pyplot as plt\n",
    "%matplotlib inline"
   ]
  },
  {
   "cell_type": "code",
   "execution_count": 220,
   "metadata": {},
   "outputs": [],
   "source": [
    "sensor_data = pd.read_csv(\"data/data_namuk/sensor_data_all.csv\")\n",
    "sensor_data = sensor_data.rename(columns = {'Unnamed: 0': 'index'})\n",
    "sensor_data = sensor_data.set_index('index')"
   ]
  },
  {
   "cell_type": "code",
   "execution_count": 221,
   "metadata": {},
   "outputs": [
    {
     "data": {
      "text/plain": [
       "5     8587\n",
       "20    3508\n",
       "10    3218\n",
       "15    3102\n",
       "Name: label, dtype: int64"
      ]
     },
     "execution_count": 221,
     "metadata": {},
     "output_type": "execute_result"
    }
   ],
   "source": [
    "sensor_data['label'].value_counts()"
   ]
  },
  {
   "cell_type": "code",
   "execution_count": 7,
   "metadata": {},
   "outputs": [],
   "source": [
    "#print(sensor_data.isna().sum())"
   ]
  },
  {
   "cell_type": "code",
   "execution_count": 222,
   "metadata": {},
   "outputs": [
    {
     "data": {
      "text/html": [
       "<div>\n",
       "<style scoped>\n",
       "    .dataframe tbody tr th:only-of-type {\n",
       "        vertical-align: middle;\n",
       "    }\n",
       "\n",
       "    .dataframe tbody tr th {\n",
       "        vertical-align: top;\n",
       "    }\n",
       "\n",
       "    .dataframe thead th {\n",
       "        text-align: right;\n",
       "    }\n",
       "</style>\n",
       "<table border=\"1\" class=\"dataframe\">\n",
       "  <thead>\n",
       "    <tr style=\"text-align: right;\">\n",
       "      <th></th>\n",
       "      <th>LAX</th>\n",
       "      <th>LAY</th>\n",
       "      <th>LAZ</th>\n",
       "      <th>LA_mad</th>\n",
       "      <th>LA_max</th>\n",
       "      <th>LA_mean</th>\n",
       "      <th>LA_median</th>\n",
       "      <th>LA_min</th>\n",
       "      <th>LA_quantile</th>\n",
       "      <th>LA_skew</th>\n",
       "      <th>...</th>\n",
       "      <th>RP_max</th>\n",
       "      <th>RP_mean</th>\n",
       "      <th>RP_median</th>\n",
       "      <th>RP_min</th>\n",
       "      <th>RP_quantile</th>\n",
       "      <th>RP_skew</th>\n",
       "      <th>RP_sma</th>\n",
       "      <th>RP_std</th>\n",
       "      <th>RP_sum</th>\n",
       "      <th>RP_var</th>\n",
       "    </tr>\n",
       "    <tr>\n",
       "      <th>index</th>\n",
       "      <th></th>\n",
       "      <th></th>\n",
       "      <th></th>\n",
       "      <th></th>\n",
       "      <th></th>\n",
       "      <th></th>\n",
       "      <th></th>\n",
       "      <th></th>\n",
       "      <th></th>\n",
       "      <th></th>\n",
       "      <th></th>\n",
       "      <th></th>\n",
       "      <th></th>\n",
       "      <th></th>\n",
       "      <th></th>\n",
       "      <th></th>\n",
       "      <th></th>\n",
       "      <th></th>\n",
       "      <th></th>\n",
       "      <th></th>\n",
       "      <th></th>\n",
       "    </tr>\n",
       "  </thead>\n",
       "  <tbody>\n",
       "    <tr>\n",
       "      <th>0</th>\n",
       "      <td>160</td>\n",
       "      <td>172</td>\n",
       "      <td>28</td>\n",
       "      <td>61.333333</td>\n",
       "      <td>172</td>\n",
       "      <td>120.000000</td>\n",
       "      <td>160.0</td>\n",
       "      <td>28</td>\n",
       "      <td>160.0</td>\n",
       "      <td>-1.688202</td>\n",
       "      <td>...</td>\n",
       "      <td>50</td>\n",
       "      <td>30.857143</td>\n",
       "      <td>29.0</td>\n",
       "      <td>21</td>\n",
       "      <td>29.0</td>\n",
       "      <td>1.575313</td>\n",
       "      <td>19.961498</td>\n",
       "      <td>9.441550</td>\n",
       "      <td>216</td>\n",
       "      <td>89.142857</td>\n",
       "    </tr>\n",
       "    <tr>\n",
       "      <th>1</th>\n",
       "      <td>100</td>\n",
       "      <td>160</td>\n",
       "      <td>124</td>\n",
       "      <td>21.333333</td>\n",
       "      <td>160</td>\n",
       "      <td>128.000000</td>\n",
       "      <td>124.0</td>\n",
       "      <td>100</td>\n",
       "      <td>124.0</td>\n",
       "      <td>0.585583</td>\n",
       "      <td>...</td>\n",
       "      <td>50</td>\n",
       "      <td>31.000000</td>\n",
       "      <td>30.0</td>\n",
       "      <td>21</td>\n",
       "      <td>30.0</td>\n",
       "      <td>1.525910</td>\n",
       "      <td>19.961498</td>\n",
       "      <td>9.416298</td>\n",
       "      <td>217</td>\n",
       "      <td>88.666667</td>\n",
       "    </tr>\n",
       "    <tr>\n",
       "      <th>2</th>\n",
       "      <td>20</td>\n",
       "      <td>96</td>\n",
       "      <td>12</td>\n",
       "      <td>35.555556</td>\n",
       "      <td>96</td>\n",
       "      <td>42.666667</td>\n",
       "      <td>20.0</td>\n",
       "      <td>12</td>\n",
       "      <td>20.0</td>\n",
       "      <td>1.674210</td>\n",
       "      <td>...</td>\n",
       "      <td>50</td>\n",
       "      <td>31.000000</td>\n",
       "      <td>30.0</td>\n",
       "      <td>21</td>\n",
       "      <td>30.0</td>\n",
       "      <td>1.525910</td>\n",
       "      <td>19.961498</td>\n",
       "      <td>9.416298</td>\n",
       "      <td>217</td>\n",
       "      <td>88.666667</td>\n",
       "    </tr>\n",
       "    <tr>\n",
       "      <th>3</th>\n",
       "      <td>16</td>\n",
       "      <td>80</td>\n",
       "      <td>108</td>\n",
       "      <td>34.666667</td>\n",
       "      <td>108</td>\n",
       "      <td>68.000000</td>\n",
       "      <td>80.0</td>\n",
       "      <td>16</td>\n",
       "      <td>80.0</td>\n",
       "      <td>-1.070915</td>\n",
       "      <td>...</td>\n",
       "      <td>50</td>\n",
       "      <td>30.857143</td>\n",
       "      <td>29.0</td>\n",
       "      <td>21</td>\n",
       "      <td>29.0</td>\n",
       "      <td>1.575313</td>\n",
       "      <td>19.961498</td>\n",
       "      <td>9.441550</td>\n",
       "      <td>216</td>\n",
       "      <td>89.142857</td>\n",
       "    </tr>\n",
       "    <tr>\n",
       "      <th>4</th>\n",
       "      <td>212</td>\n",
       "      <td>244</td>\n",
       "      <td>212</td>\n",
       "      <td>14.222222</td>\n",
       "      <td>244</td>\n",
       "      <td>222.666667</td>\n",
       "      <td>212.0</td>\n",
       "      <td>212</td>\n",
       "      <td>212.0</td>\n",
       "      <td>1.732051</td>\n",
       "      <td>...</td>\n",
       "      <td>51</td>\n",
       "      <td>31.142857</td>\n",
       "      <td>30.0</td>\n",
       "      <td>21</td>\n",
       "      <td>30.0</td>\n",
       "      <td>1.598154</td>\n",
       "      <td>30.971429</td>\n",
       "      <td>9.754120</td>\n",
       "      <td>218</td>\n",
       "      <td>95.142857</td>\n",
       "    </tr>\n",
       "  </tbody>\n",
       "</table>\n",
       "<p>5 rows × 66 columns</p>\n",
       "</div>"
      ],
      "text/plain": [
       "       LAX  LAY  LAZ     LA_mad  LA_max     LA_mean  LA_median  LA_min  \\\n",
       "index                                                                    \n",
       "0      160  172   28  61.333333     172  120.000000      160.0      28   \n",
       "1      100  160  124  21.333333     160  128.000000      124.0     100   \n",
       "2       20   96   12  35.555556      96   42.666667       20.0      12   \n",
       "3       16   80  108  34.666667     108   68.000000       80.0      16   \n",
       "4      212  244  212  14.222222     244  222.666667      212.0     212   \n",
       "\n",
       "       LA_quantile   LA_skew    ...      RP_max    RP_mean  RP_median  RP_min  \\\n",
       "index                           ...                                             \n",
       "0            160.0 -1.688202    ...          50  30.857143       29.0      21   \n",
       "1            124.0  0.585583    ...          50  31.000000       30.0      21   \n",
       "2             20.0  1.674210    ...          50  31.000000       30.0      21   \n",
       "3             80.0 -1.070915    ...          50  30.857143       29.0      21   \n",
       "4            212.0  1.732051    ...          51  31.142857       30.0      21   \n",
       "\n",
       "       RP_quantile   RP_skew     RP_sma    RP_std  RP_sum     RP_var  \n",
       "index                                                                 \n",
       "0             29.0  1.575313  19.961498  9.441550     216  89.142857  \n",
       "1             30.0  1.525910  19.961498  9.416298     217  88.666667  \n",
       "2             30.0  1.525910  19.961498  9.416298     217  88.666667  \n",
       "3             29.0  1.575313  19.961498  9.441550     216  89.142857  \n",
       "4             30.0  1.598154  30.971429  9.754120     218  95.142857  \n",
       "\n",
       "[5 rows x 66 columns]"
      ]
     },
     "execution_count": 222,
     "metadata": {},
     "output_type": "execute_result"
    }
   ],
   "source": [
    "sensor_data_target = sensor_data['label']\n",
    "sensor_data_drop=sensor_data.drop('label', axis=1)\n",
    "sensor_data_drop.head()"
   ]
  },
  {
   "cell_type": "code",
   "execution_count": 223,
   "metadata": {},
   "outputs": [
    {
     "data": {
      "text/html": [
       "<div>\n",
       "<style scoped>\n",
       "    .dataframe tbody tr th:only-of-type {\n",
       "        vertical-align: middle;\n",
       "    }\n",
       "\n",
       "    .dataframe tbody tr th {\n",
       "        vertical-align: top;\n",
       "    }\n",
       "\n",
       "    .dataframe thead th {\n",
       "        text-align: right;\n",
       "    }\n",
       "</style>\n",
       "<table border=\"1\" class=\"dataframe\">\n",
       "  <thead>\n",
       "    <tr style=\"text-align: right;\">\n",
       "      <th></th>\n",
       "      <th>LAX</th>\n",
       "      <th>LAY</th>\n",
       "      <th>LAZ</th>\n",
       "      <th>LA_mad</th>\n",
       "      <th>LA_max</th>\n",
       "      <th>LA_mean</th>\n",
       "      <th>LA_median</th>\n",
       "      <th>LA_min</th>\n",
       "      <th>LA_quantile</th>\n",
       "      <th>LA_skew</th>\n",
       "      <th>...</th>\n",
       "      <th>RP_max</th>\n",
       "      <th>RP_mean</th>\n",
       "      <th>RP_median</th>\n",
       "      <th>RP_min</th>\n",
       "      <th>RP_quantile</th>\n",
       "      <th>RP_skew</th>\n",
       "      <th>RP_sma</th>\n",
       "      <th>RP_std</th>\n",
       "      <th>RP_sum</th>\n",
       "      <th>RP_var</th>\n",
       "    </tr>\n",
       "  </thead>\n",
       "  <tbody>\n",
       "    <tr>\n",
       "      <th>count</th>\n",
       "      <td>18415.000000</td>\n",
       "      <td>18415.000000</td>\n",
       "      <td>18415.000000</td>\n",
       "      <td>18415.000000</td>\n",
       "      <td>18415.000000</td>\n",
       "      <td>18415.000000</td>\n",
       "      <td>18415.000000</td>\n",
       "      <td>18415.000000</td>\n",
       "      <td>18415.000000</td>\n",
       "      <td>18415.000000</td>\n",
       "      <td>...</td>\n",
       "      <td>18415.000000</td>\n",
       "      <td>18415.000000</td>\n",
       "      <td>18415.000000</td>\n",
       "      <td>18415.000000</td>\n",
       "      <td>18415.000000</td>\n",
       "      <td>18415.000000</td>\n",
       "      <td>18415.000000</td>\n",
       "      <td>18415.000000</td>\n",
       "      <td>18415.000000</td>\n",
       "      <td>18415.000000</td>\n",
       "    </tr>\n",
       "    <tr>\n",
       "      <th>mean</th>\n",
       "      <td>123.402226</td>\n",
       "      <td>132.287157</td>\n",
       "      <td>121.244420</td>\n",
       "      <td>50.825667</td>\n",
       "      <td>191.277328</td>\n",
       "      <td>125.644601</td>\n",
       "      <td>125.857399</td>\n",
       "      <td>59.799077</td>\n",
       "      <td>125.857399</td>\n",
       "      <td>0.006028</td>\n",
       "      <td>...</td>\n",
       "      <td>31.623839</td>\n",
       "      <td>14.853093</td>\n",
       "      <td>14.115232</td>\n",
       "      <td>4.164540</td>\n",
       "      <td>14.115232</td>\n",
       "      <td>0.934523</td>\n",
       "      <td>14.843905</td>\n",
       "      <td>9.222567</td>\n",
       "      <td>103.971654</td>\n",
       "      <td>129.703192</td>\n",
       "    </tr>\n",
       "    <tr>\n",
       "      <th>std</th>\n",
       "      <td>73.789386</td>\n",
       "      <td>72.821813</td>\n",
       "      <td>76.999869</td>\n",
       "      <td>22.395027</td>\n",
       "      <td>48.706861</td>\n",
       "      <td>42.455327</td>\n",
       "      <td>56.653730</td>\n",
       "      <td>50.195426</td>\n",
       "      <td>56.653730</td>\n",
       "      <td>1.238426</td>\n",
       "      <td>...</td>\n",
       "      <td>20.916449</td>\n",
       "      <td>10.861800</td>\n",
       "      <td>11.240877</td>\n",
       "      <td>6.269297</td>\n",
       "      <td>11.240877</td>\n",
       "      <td>1.073045</td>\n",
       "      <td>10.817515</td>\n",
       "      <td>6.682056</td>\n",
       "      <td>76.032602</td>\n",
       "      <td>158.918675</td>\n",
       "    </tr>\n",
       "    <tr>\n",
       "      <th>min</th>\n",
       "      <td>0.000000</td>\n",
       "      <td>0.000000</td>\n",
       "      <td>0.000000</td>\n",
       "      <td>0.000000</td>\n",
       "      <td>0.000000</td>\n",
       "      <td>0.000000</td>\n",
       "      <td>0.000000</td>\n",
       "      <td>0.000000</td>\n",
       "      <td>0.000000</td>\n",
       "      <td>-1.732051</td>\n",
       "      <td>...</td>\n",
       "      <td>0.000000</td>\n",
       "      <td>0.000000</td>\n",
       "      <td>0.000000</td>\n",
       "      <td>0.000000</td>\n",
       "      <td>0.000000</td>\n",
       "      <td>-2.645751</td>\n",
       "      <td>0.057143</td>\n",
       "      <td>0.000000</td>\n",
       "      <td>0.000000</td>\n",
       "      <td>0.000000</td>\n",
       "    </tr>\n",
       "    <tr>\n",
       "      <th>25%</th>\n",
       "      <td>60.000000</td>\n",
       "      <td>72.000000</td>\n",
       "      <td>52.000000</td>\n",
       "      <td>33.777778</td>\n",
       "      <td>160.000000</td>\n",
       "      <td>96.000000</td>\n",
       "      <td>84.000000</td>\n",
       "      <td>20.000000</td>\n",
       "      <td>84.000000</td>\n",
       "      <td>-1.263132</td>\n",
       "      <td>...</td>\n",
       "      <td>8.000000</td>\n",
       "      <td>3.571429</td>\n",
       "      <td>3.000000</td>\n",
       "      <td>1.000000</td>\n",
       "      <td>3.000000</td>\n",
       "      <td>0.000000</td>\n",
       "      <td>3.628571</td>\n",
       "      <td>2.380476</td>\n",
       "      <td>25.000000</td>\n",
       "      <td>5.666667</td>\n",
       "    </tr>\n",
       "    <tr>\n",
       "      <th>50%</th>\n",
       "      <td>120.000000</td>\n",
       "      <td>140.000000</td>\n",
       "      <td>120.000000</td>\n",
       "      <td>51.555556</td>\n",
       "      <td>204.000000</td>\n",
       "      <td>124.000000</td>\n",
       "      <td>124.000000</td>\n",
       "      <td>48.000000</td>\n",
       "      <td>124.000000</td>\n",
       "      <td>0.000000</td>\n",
       "      <td>...</td>\n",
       "      <td>38.000000</td>\n",
       "      <td>15.571429</td>\n",
       "      <td>14.000000</td>\n",
       "      <td>1.000000</td>\n",
       "      <td>14.000000</td>\n",
       "      <td>1.229634</td>\n",
       "      <td>15.542857</td>\n",
       "      <td>10.106575</td>\n",
       "      <td>109.000000</td>\n",
       "      <td>102.142857</td>\n",
       "    </tr>\n",
       "    <tr>\n",
       "      <th>75%</th>\n",
       "      <td>188.000000</td>\n",
       "      <td>196.000000</td>\n",
       "      <td>192.000000</td>\n",
       "      <td>68.444444</td>\n",
       "      <td>232.000000</td>\n",
       "      <td>156.000000</td>\n",
       "      <td>168.000000</td>\n",
       "      <td>88.000000</td>\n",
       "      <td>168.000000</td>\n",
       "      <td>1.235155</td>\n",
       "      <td>...</td>\n",
       "      <td>47.000000</td>\n",
       "      <td>23.857143</td>\n",
       "      <td>24.000000</td>\n",
       "      <td>5.000000</td>\n",
       "      <td>24.000000</td>\n",
       "      <td>1.727889</td>\n",
       "      <td>23.828571</td>\n",
       "      <td>13.098528</td>\n",
       "      <td>167.000000</td>\n",
       "      <td>171.571429</td>\n",
       "    </tr>\n",
       "    <tr>\n",
       "      <th>max</th>\n",
       "      <td>252.000000</td>\n",
       "      <td>252.000000</td>\n",
       "      <td>252.000000</td>\n",
       "      <td>111.111111</td>\n",
       "      <td>252.000000</td>\n",
       "      <td>250.666667</td>\n",
       "      <td>252.000000</td>\n",
       "      <td>248.000000</td>\n",
       "      <td>252.000000</td>\n",
       "      <td>1.732051</td>\n",
       "      <td>...</td>\n",
       "      <td>107.000000</td>\n",
       "      <td>35.714286</td>\n",
       "      <td>43.000000</td>\n",
       "      <td>28.000000</td>\n",
       "      <td>43.000000</td>\n",
       "      <td>2.645751</td>\n",
       "      <td>35.657143</td>\n",
       "      <td>40.074336</td>\n",
       "      <td>250.000000</td>\n",
       "      <td>1605.952381</td>\n",
       "    </tr>\n",
       "  </tbody>\n",
       "</table>\n",
       "<p>8 rows × 66 columns</p>\n",
       "</div>"
      ],
      "text/plain": [
       "                LAX           LAY           LAZ        LA_mad        LA_max  \\\n",
       "count  18415.000000  18415.000000  18415.000000  18415.000000  18415.000000   \n",
       "mean     123.402226    132.287157    121.244420     50.825667    191.277328   \n",
       "std       73.789386     72.821813     76.999869     22.395027     48.706861   \n",
       "min        0.000000      0.000000      0.000000      0.000000      0.000000   \n",
       "25%       60.000000     72.000000     52.000000     33.777778    160.000000   \n",
       "50%      120.000000    140.000000    120.000000     51.555556    204.000000   \n",
       "75%      188.000000    196.000000    192.000000     68.444444    232.000000   \n",
       "max      252.000000    252.000000    252.000000    111.111111    252.000000   \n",
       "\n",
       "            LA_mean     LA_median        LA_min   LA_quantile       LA_skew  \\\n",
       "count  18415.000000  18415.000000  18415.000000  18415.000000  18415.000000   \n",
       "mean     125.644601    125.857399     59.799077    125.857399      0.006028   \n",
       "std       42.455327     56.653730     50.195426     56.653730      1.238426   \n",
       "min        0.000000      0.000000      0.000000      0.000000     -1.732051   \n",
       "25%       96.000000     84.000000     20.000000     84.000000     -1.263132   \n",
       "50%      124.000000    124.000000     48.000000    124.000000      0.000000   \n",
       "75%      156.000000    168.000000     88.000000    168.000000      1.235155   \n",
       "max      250.666667    252.000000    248.000000    252.000000      1.732051   \n",
       "\n",
       "           ...             RP_max       RP_mean     RP_median        RP_min  \\\n",
       "count      ...       18415.000000  18415.000000  18415.000000  18415.000000   \n",
       "mean       ...          31.623839     14.853093     14.115232      4.164540   \n",
       "std        ...          20.916449     10.861800     11.240877      6.269297   \n",
       "min        ...           0.000000      0.000000      0.000000      0.000000   \n",
       "25%        ...           8.000000      3.571429      3.000000      1.000000   \n",
       "50%        ...          38.000000     15.571429     14.000000      1.000000   \n",
       "75%        ...          47.000000     23.857143     24.000000      5.000000   \n",
       "max        ...         107.000000     35.714286     43.000000     28.000000   \n",
       "\n",
       "        RP_quantile       RP_skew        RP_sma        RP_std        RP_sum  \\\n",
       "count  18415.000000  18415.000000  18415.000000  18415.000000  18415.000000   \n",
       "mean      14.115232      0.934523     14.843905      9.222567    103.971654   \n",
       "std       11.240877      1.073045     10.817515      6.682056     76.032602   \n",
       "min        0.000000     -2.645751      0.057143      0.000000      0.000000   \n",
       "25%        3.000000      0.000000      3.628571      2.380476     25.000000   \n",
       "50%       14.000000      1.229634     15.542857     10.106575    109.000000   \n",
       "75%       24.000000      1.727889     23.828571     13.098528    167.000000   \n",
       "max       43.000000      2.645751     35.657143     40.074336    250.000000   \n",
       "\n",
       "             RP_var  \n",
       "count  18415.000000  \n",
       "mean     129.703192  \n",
       "std      158.918675  \n",
       "min        0.000000  \n",
       "25%        5.666667  \n",
       "50%      102.142857  \n",
       "75%      171.571429  \n",
       "max     1605.952381  \n",
       "\n",
       "[8 rows x 66 columns]"
      ]
     },
     "execution_count": 223,
     "metadata": {},
     "output_type": "execute_result"
    }
   ],
   "source": [
    "sensor_data_drop.describe()"
   ]
  },
  {
   "cell_type": "code",
   "execution_count": 224,
   "metadata": {},
   "outputs": [],
   "source": [
    "X_train, X_test, y_train, y_test = train_test_split(sensor_data_drop, sensor_data_target, test_size=0.2, random_state=121)"
   ]
  },
  {
   "cell_type": "code",
   "execution_count": 225,
   "metadata": {},
   "outputs": [
    {
     "name": "stdout",
     "output_type": "stream",
     "text": [
      "예측정확도:0.8819\n",
      "DecisionTreeClassifier 기본 하이퍼 파라미터:\n",
      " {'class_weight': None, 'criterion': 'gini', 'max_depth': None, 'max_features': None, 'max_leaf_nodes': None, 'min_impurity_decrease': 0.0, 'min_impurity_split': None, 'min_samples_leaf': 1, 'min_samples_split': 2, 'min_weight_fraction_leaf': 0.0, 'presort': False, 'random_state': None, 'splitter': 'best'}\n"
     ]
    }
   ],
   "source": [
    "dt_clf = DecisionTreeClassifier()\n",
    "dt_clf.fit(X_train, y_train)\n",
    "pred=dt_clf.predict(X_test)\n",
    "print('예측정확도:{0:.4f}'.format(accuracy_score(y_test,pred)))\n",
    "#DecisioinTreeClassifier의 하이퍼 파라미터 추출\n",
    "print('DecisionTreeClassifier 기본 하이퍼 파라미터:\\n',dt_clf.get_params())"
   ]
  },
  {
   "cell_type": "code",
   "execution_count": 226,
   "metadata": {},
   "outputs": [
    {
     "name": "stdout",
     "output_type": "stream",
     "text": [
      "Fitting 3 folds for each of 4 candidates, totalling 12 fits\n"
     ]
    },
    {
     "name": "stderr",
     "output_type": "stream",
     "text": [
      "[Parallel(n_jobs=-1)]: Using backend LokyBackend with 8 concurrent workers.\n",
      "[Parallel(n_jobs=-1)]: Done  10 out of  12 | elapsed:    4.2s remaining:    0.8s\n",
      "[Parallel(n_jobs=-1)]: Done  12 out of  12 | elapsed:    4.2s finished\n"
     ]
    },
    {
     "name": "stdout",
     "output_type": "stream",
     "text": [
      "GridSearchCV 최고 평균 정확도 수치:0.8587\n",
      "GridSearchCV 최적 하이파 파라미터: {'max_depth': 22, 'min_samples_split': 12}\n"
     ]
    }
   ],
   "source": [
    "#최적의 파리미터 찾기\n",
    "from sklearn.model_selection import GridSearchCV\n",
    "params = {\n",
    "    'max_depth' : [22,23],\n",
    "    'min_samples_split' :[12,24]\n",
    "    }\n",
    "grid_cv=GridSearchCV(dt_clf, param_grid=params, scoring='accuracy', cv=3, verbose=1,n_jobs=-1)\n",
    "grid_cv.fit(X_train,y_train)\n",
    "print('GridSearchCV 최고 평균 정확도 수치:{0:.4f}'.format(grid_cv.best_score_))\n",
    "print('GridSearchCV 최적 하이파 파라미터:', grid_cv.best_params_)"
   ]
  },
  {
   "cell_type": "code",
   "execution_count": 227,
   "metadata": {
    "scrolled": true
   },
   "outputs": [
    {
     "data": {
      "text/html": [
       "<div>\n",
       "<style scoped>\n",
       "    .dataframe tbody tr th:only-of-type {\n",
       "        vertical-align: middle;\n",
       "    }\n",
       "\n",
       "    .dataframe tbody tr th {\n",
       "        vertical-align: top;\n",
       "    }\n",
       "\n",
       "    .dataframe thead th {\n",
       "        text-align: right;\n",
       "    }\n",
       "</style>\n",
       "<table border=\"1\" class=\"dataframe\">\n",
       "  <thead>\n",
       "    <tr style=\"text-align: right;\">\n",
       "      <th></th>\n",
       "      <th>param_max_depth</th>\n",
       "      <th>param_min_samples_split</th>\n",
       "      <th>mean_test_score</th>\n",
       "      <th>mean_train_score</th>\n",
       "    </tr>\n",
       "  </thead>\n",
       "  <tbody>\n",
       "    <tr>\n",
       "      <th>0</th>\n",
       "      <td>22</td>\n",
       "      <td>12</td>\n",
       "      <td>0.858675</td>\n",
       "      <td>0.964364</td>\n",
       "    </tr>\n",
       "    <tr>\n",
       "      <th>1</th>\n",
       "      <td>22</td>\n",
       "      <td>24</td>\n",
       "      <td>0.848697</td>\n",
       "      <td>0.935277</td>\n",
       "    </tr>\n",
       "    <tr>\n",
       "      <th>2</th>\n",
       "      <td>23</td>\n",
       "      <td>12</td>\n",
       "      <td>0.857860</td>\n",
       "      <td>0.964703</td>\n",
       "    </tr>\n",
       "    <tr>\n",
       "      <th>3</th>\n",
       "      <td>23</td>\n",
       "      <td>24</td>\n",
       "      <td>0.848425</td>\n",
       "      <td>0.935583</td>\n",
       "    </tr>\n",
       "  </tbody>\n",
       "</table>\n",
       "</div>"
      ],
      "text/plain": [
       "  param_max_depth param_min_samples_split  mean_test_score  mean_train_score\n",
       "0              22                      12         0.858675          0.964364\n",
       "1              22                      24         0.848697          0.935277\n",
       "2              23                      12         0.857860          0.964703\n",
       "3              23                      24         0.848425          0.935583"
      ]
     },
     "execution_count": 227,
     "metadata": {},
     "output_type": "execute_result"
    }
   ],
   "source": [
    "#GridSerarchCV 객체의 cv_results_속성을 DataFrame으로 생성\n",
    "import warnings\n",
    "warnings.filterwarnings('ignore')\n",
    "cv_result_df=pd.DataFrame(grid_cv.cv_results_)\n",
    "#max_depth 파라미터 값과 그때의 테스터 세트, 학습 데이터 세트의 정확도 수치를 추출\n",
    "#cv_result_df.columns 칼럼에서 명칭확인 시 입력\n",
    "cv_result_df[['param_max_depth','param_min_samples_split', 'mean_test_score','mean_train_score']]"
   ]
  },
  {
   "cell_type": "code",
   "execution_count": 228,
   "metadata": {},
   "outputs": [
    {
     "name": "stdout",
     "output_type": "stream",
     "text": [
      "GridSerarchCV로 결정된 파라미터의 결정 트리 예측 정확도 :0.8765\n"
     ]
    }
   ],
   "source": [
    "#아래의 방법도 있고 두번째 직접 모델에 입력해서 넣는 방법이 있는데 장단점이 있음.\n",
    "#직접 모델에 넣는 방법은 많은 파라미터가 있는 경우 유효함.\n",
    "best_df_clf = grid_cv.best_estimator_\n",
    "pred1=best_df_clf.predict(X_test)\n",
    "accuracy = accuracy_score(y_test,pred1)\n",
    "print('GridSerarchCV로 결정된 파라미터의 결정 트리 예측 정확도 :{0:.4f}'.format(accuracy))"
   ]
  },
  {
   "cell_type": "code",
   "execution_count": 230,
   "metadata": {},
   "outputs": [
    {
     "name": "stdout",
     "output_type": "stream",
     "text": [
      "DecisionTree 성능향상 예측정확도:0.8778\n"
     ]
    }
   ],
   "source": [
    "#많은 파라미터의 튜닝시 일부 파라미터 튜닝 후 고정하여 진행할 경우 이방법이 선호됨.\n",
    "dt_clf1 = DecisionTreeClassifier(max_depth=22, min_samples_split=12)\n",
    "dt_clf1.fit(X_train,y_train)\n",
    "pred = dt_clf1.predict(X_test)\n",
    "print('DecisionTree 성능향상 예측정확도:{0:.4f}'.format(accuracy_score(y_test,pred)))"
   ]
  },
  {
   "cell_type": "code",
   "execution_count": 231,
   "metadata": {
    "scrolled": false
   },
   "outputs": [
    {
     "data": {
      "text/plain": [
       "<matplotlib.axes._subplots.AxesSubplot at 0x1895bcee550>"
      ]
     },
     "execution_count": 231,
     "metadata": {},
     "output_type": "execute_result"
    },
    {
     "data": {
      "image/png": "[encoded data removed]",
      "text/plain": [
       "<Figure size 576x432 with 1 Axes>"
      ]
     },
     "metadata": {
      "needs_background": "light"
     },
     "output_type": "display_data"
    }
   ],
   "source": [
    "#특성값 중 상위 20위 확인\n",
    "ftr_importances_values=dt_clf1.feature_importances_\n",
    "ftr_importances = pd.Series(ftr_importances_values, index=Xtrain.columns)\n",
    "ftr_top20 = ftr_importances.sort_values(ascending=False)[:20]\n",
    "plt.figure(figsize=(8,6))\n",
    "plt.title('Feature importances Top 20')\n",
    "sns.barplot(x=ftr_top20, y = ftr_top20.index)"
   ]
  },
  {
   "cell_type": "code",
   "execution_count": 232,
   "metadata": {},
   "outputs": [],
   "source": [
    "#평가\n",
    "from sklearn.metrics import accuracy_score, precision_score, recall_score, confusion_matrix, f1_score\n",
    "def get_clf_eval(y_test, pred):\n",
    "    confusion = confusion_matrix(y_test,pred)\n",
    "    accuracy = accuracy_score(y_test,pred)\n",
    "    #precision = precision_score(y_test,pred)\n",
    "    #recall = recall_score(y_test,pred)\n",
    "    #f1 = f1_score(y_test,pred)\n",
    "    print('오차행렬')\n",
    "    print(confusion)\n",
    "    #print('정확도:{0:.4f}, 정밀도:{1:.4f}, 재현율:{2:.4f},f1:{3:.4f}'.format(accuracy,precision,recall))\n",
    "    print('정확도:{0:.4f}'.format(accuracy))\n",
    "    "
   ]
  },
  {
   "cell_type": "code",
   "execution_count": 233,
   "metadata": {},
   "outputs": [
    {
     "name": "stdout",
     "output_type": "stream",
     "text": [
      "오차행렬\n",
      "[[1622   60    0    0]\n",
      " [  83  517   46   37]\n",
      " [   1   48  486   84]\n",
      " [   1   26   64  608]]\n",
      "정확도:0.8778\n"
     ]
    }
   ],
   "source": [
    "get_clf_eval(y_test, pred)"
   ]
  },
  {
   "cell_type": "code",
   "execution_count": 266,
   "metadata": {
    "scrolled": true
   },
   "outputs": [
    {
     "name": "stderr",
     "output_type": "stream",
     "text": [
      "dot: graph is too large for cairo-renderer bitmaps. Scaling by 0.473737 to fit\n"
     ]
    },
    {
     "data": {
      "text/plain": [
       "'dt_tree.png.png'"
      ]
     },
     "execution_count": 266,
     "metadata": {},
     "output_type": "execute_result"
    }
   ],
   "source": [
    "import warnings\n",
    "warnings.filterwarnings('ignore')\n",
    "from sklearn.tree import export_graphviz\n",
    "#그림이 너무 커서 비주얼스튜디오로 그려야함.\n",
    "export_graphviz(dt_clf, out_file='dt_tree.dot', impurity=True, filled=True)\n",
    "#class_names=iris_data.target_names,feature_names=iris_data.feature_names에 대한 속성확인 후 적용\n",
    "import graphviz\n",
    "with open('tree.dot') as f:\n",
    "    dot_graph = f.read()\n",
    "    \n",
    "graphviz.Source(dot_graph)\n",
    "dot = graphviz.Source(dot_graph)\n",
    "dot.format = 'png'\n",
    "dot.render(filename='dt_tree.png')"
   ]
  },
  {
   "cell_type": "code",
   "execution_count": 234,
   "metadata": {},
   "outputs": [],
   "source": [
    "from sklearn.ensemble import RandomForestClassifier"
   ]
  },
  {
   "cell_type": "code",
   "execution_count": 235,
   "metadata": {},
   "outputs": [
    {
     "name": "stdout",
     "output_type": "stream",
     "text": [
      "랜덤포레스트 정확도 : 0.9101\n",
      "랜덤포레스트 기본 하이퍼 파라미터:\n",
      " {'bootstrap': True, 'class_weight': None, 'criterion': 'gini', 'max_depth': None, 'max_features': 'auto', 'max_leaf_nodes': None, 'min_impurity_decrease': 0.0, 'min_impurity_split': None, 'min_samples_leaf': 1, 'min_samples_split': 2, 'min_weight_fraction_leaf': 0.0, 'n_estimators': 10, 'n_jobs': None, 'oob_score': False, 'random_state': 0, 'verbose': 0, 'warm_start': False}\n"
     ]
    }
   ],
   "source": [
    "#랜덤포레스트 학습 및 별도의 테스트 세트로 예측성능평가\n",
    "rf_clf = RandomForestClassifier(random_state=0)\n",
    "rf_clf.fit(X_train, y_train)\n",
    "pred = rf_clf.predict(X_test)\n",
    "accuracy=accuracy_score(y_test,pred)\n",
    "print('랜덤포레스트 정확도 : {0:.4f}'.format(accuracy))\n",
    "print('랜덤포레스트 기본 하이퍼 파라미터:\\n',rf_clf.get_params())"
   ]
  },
  {
   "cell_type": "code",
   "execution_count": 236,
   "metadata": {},
   "outputs": [
    {
     "name": "stdout",
     "output_type": "stream",
     "text": [
      "GridSearchCV 랜덤포레스트 최고 예측 정확도:0.9010\n",
      "GridSearchCV 랜덤포레스트 최적 하이파 파라미터: {'max_depth': 19, 'min_samples_leaf': 1, 'min_samples_split': 3, 'n_estimators': 100}\n"
     ]
    }
   ],
   "source": [
    "#최적의 파리미터 찾기\n",
    "params = {\n",
    "    'n_estimators':[100],\n",
    "    'max_depth' : [18,19],\n",
    "    'min_samples_leaf' :[1,2],\n",
    "    'min_samples_split' :[2,3]\n",
    "    }\n",
    "rf_clf = RandomForestClassifier(random_state=0, n_jobs=-1)\n",
    "grid_cv=GridSearchCV(rf_clf, param_grid=params, scoring='accuracy', cv=2, n_jobs=-1)\n",
    "grid_cv.fit(X_train,y_train)\n",
    "print('GridSearchCV 랜덤포레스트 최고 예측 정확도:{0:.4f}'.format(grid_cv.best_score_))\n",
    "print('GridSearchCV 랜덤포레스트 최적 하이파 파라미터:', grid_cv.best_params_)"
   ]
  },
  {
   "cell_type": "code",
   "execution_count": 202,
   "metadata": {},
   "outputs": [
    {
     "data": {
      "text/plain": [
       "\"cv_result_df=pd.DataFrame(grid_cv.cv_results_)\\n#max_depth 파라미터 값과 그때의 테스터 세트, 학습 데이터 세트의 정확도 수치를 추출\\n#cv_result_df.columns 칼럼에서 명칭확인 시 입력\\ncv_result_df[['param_max_depth','param_min_samples_split', 'mean_test_score','mean_train_score']]\""
      ]
     },
     "execution_count": 202,
     "metadata": {},
     "output_type": "execute_result"
    }
   ],
   "source": [
    "\"\"\"cv_result_df=pd.DataFrame(grid_cv.cv_results_)\n",
    "#max_depth 파라미터 값과 그때의 테스터 세트, 학습 데이터 세트의 정확도 수치를 추출\n",
    "#cv_result_df.columns 칼럼에서 명칭확인 시 입력\n",
    "cv_result_df[['param_max_depth','param_min_samples_split', 'mean_test_score','mean_train_score']]\"\"\""
   ]
  },
  {
   "cell_type": "code",
   "execution_count": 237,
   "metadata": {},
   "outputs": [
    {
     "name": "stdout",
     "output_type": "stream",
     "text": [
      "GridSerarchCV로 결정된 파라미터의 랜덤 트리 예측 정확도 :0.9343\n"
     ]
    }
   ],
   "source": [
    "best_df_clf = grid_cv.best_estimator_\n",
    "pred1=best_df_clf.predict(X_test)\n",
    "accuracy = accuracy_score(y_test,pred1)\n",
    "print('GridSerarchCV로 결정된 파라미터의 랜덤 트리 예측 정확도 :{0:.4f}'.format(accuracy))"
   ]
  },
  {
   "cell_type": "code",
   "execution_count": 238,
   "metadata": {},
   "outputs": [
    {
     "name": "stdout",
     "output_type": "stream",
     "text": [
      "예측정확도:0.9318\n"
     ]
    }
   ],
   "source": [
    "rf_clf1 = RandomForestClassifier(n_estimators=100,max_depth=19,min_samples_leaf=1,min_samples_split=3)\n",
    "rf_clf1.fit(X_train,y_train)\n",
    "pred = rf_clf1.predict(X_test)\n",
    "print('예측정확도:{0:.4f}'.format(accuracy_score(y_test,pred)))"
   ]
  },
  {
   "cell_type": "code",
   "execution_count": 262,
   "metadata": {},
   "outputs": [
    {
     "name": "stderr",
     "output_type": "stream",
     "text": [
      "dot: graph is too large for cairo-renderer bitmaps. Scaling by 0.473737 to fit\n"
     ]
    },
    {
     "data": {
      "text/plain": [
       "'rf_clf1_tree.png.png'"
      ]
     },
     "execution_count": 262,
     "metadata": {},
     "output_type": "execute_result"
    }
   ],
   "source": [
    "import warnings\n",
    "warnings.filterwarnings('ignore')\n",
    "from sklearn.tree import export_graphviz\n",
    "export_graphviz(dt_clf, out_file='rf_clf1_tree.dot', impurity=True, filled=True) \n",
    "#class_names=iris_data.target_names,feature_names=iris_data.feature_names에 대한 속성확인 후 적용\n",
    "import graphviz\n",
    "with open('rf_clf1_tree.dot') as f:\n",
    "    dot_graph = f.read()\n",
    "    \n",
    "graphviz.Source(dot_graph)\n",
    "dot = graphviz.Source(dot_graph)\n",
    "dot.format = 'png'\n",
    "dot.render(filename='rf_clf1_tree.png')"
   ]
  },
  {
   "cell_type": "code",
   "execution_count": 239,
   "metadata": {},
   "outputs": [
    {
     "data": {
      "text/plain": [
       "<matplotlib.axes._subplots.AxesSubplot at 0x189603b3160>"
      ]
     },
     "execution_count": 239,
     "metadata": {},
     "output_type": "execute_result"
    },
    {
     "data": {
      "image/png": "[encoded data removed]",
      "text/plain": [
       "<Figure size 576x432 with 1 Axes>"
      ]
     },
     "metadata": {
      "needs_background": "light"
     },
     "output_type": "display_data"
    }
   ],
   "source": [
    "#특성값 중 상위 20위 확인\n",
    "ftr_importances_values=rf_clf1.feature_importances_\n",
    "ftr_importances = pd.Series(ftr_importances_values, index=Xtrain.columns)\n",
    "ftr_top20 = ftr_importances.sort_values(ascending=False)[:20]\n",
    "\n",
    "plt.figure(figsize=(8,6))\n",
    "plt.title('Feature importances Top 20')\n",
    "sns.barplot(x=ftr_top20, y = ftr_top20.index)"
   ]
  },
  {
   "cell_type": "code",
   "execution_count": 240,
   "metadata": {},
   "outputs": [],
   "source": [
    "from sklearn.ensemble import GradientBoostingClassifier\n",
    "import time"
   ]
  },
  {
   "cell_type": "code",
   "execution_count": 241,
   "metadata": {},
   "outputs": [
    {
     "name": "stdout",
     "output_type": "stream",
     "text": [
      "GBM 정확도:0.8526\n",
      "GBM 수행시간 : 19.2139초\n",
      "GBM 기본 하이퍼 파라미터:\n",
      " {'criterion': 'friedman_mse', 'init': None, 'learning_rate': 0.1, 'loss': 'deviance', 'max_depth': 3, 'max_features': None, 'max_leaf_nodes': None, 'min_impurity_decrease': 0.0, 'min_impurity_split': None, 'min_samples_leaf': 1, 'min_samples_split': 2, 'min_weight_fraction_leaf': 0.0, 'n_estimators': 100, 'n_iter_no_change': None, 'presort': 'auto', 'random_state': 0, 'subsample': 1.0, 'tol': 0.0001, 'validation_fraction': 0.1, 'verbose': 0, 'warm_start': False}\n"
     ]
    }
   ],
   "source": [
    "#GBM의 시간 측정을 위함 시작시간 설정\n",
    "start_time =time.time()\n",
    "#GBM모델 셋업\n",
    "gb_clf=GradientBoostingClassifier(random_state=0)\n",
    "gb_clf.fit(X_train,y_train)\n",
    "gb_pred=gb_clf.predict(X_test)\n",
    "gb_accuracy = accuracy_score(y_test,gb_pred)\n",
    "\n",
    "print('GBM 정확도:{0:.4f}'.format(gb_accuracy))\n",
    "print(\"GBM 수행시간 : {0:1.4f}초\".format(time.time()-start_time))\n",
    "print('GBM 기본 하이퍼 파라미터:\\n',gb_clf.get_params())"
   ]
  },
  {
   "cell_type": "code",
   "execution_count": 242,
   "metadata": {},
   "outputs": [
    {
     "name": "stdout",
     "output_type": "stream",
     "text": [
      "Fitting 2 folds for each of 4 candidates, totalling 8 fits\n"
     ]
    },
    {
     "name": "stderr",
     "output_type": "stream",
     "text": [
      "[Parallel(n_jobs=-1)]: Using backend LokyBackend with 8 concurrent workers.\n",
      "[Parallel(n_jobs=-1)]: Done   2 out of   8 | elapsed:   17.1s remaining:   51.6s\n",
      "[Parallel(n_jobs=-1)]: Done   8 out of   8 | elapsed:   39.1s finished\n"
     ]
    },
    {
     "name": "stdout",
     "output_type": "stream",
     "text": [
      "GBM 최고 예측 정확도:0.9059\n",
      "GBM 최적 하이파 파라미터: {'learning_rate': 0.1, 'max_depth': 6}\n"
     ]
    }
   ],
   "source": [
    "#최적의 파리미터 찾기\n",
    "gb_clf=GradientBoostingClassifier(random_state=0,n_estimators = 100 )\n",
    "params = {\n",
    "    'learning_rate' :[0.05,0.1],\n",
    "    'max_depth' : [3,6]    \n",
    "    }\n",
    "grid_cv=GridSearchCV(gb_clf, param_grid=params, scoring='accuracy', cv=2, verbose=1, n_jobs=-1)\n",
    "grid_cv.fit(X_train,y_train)\n",
    "print('GradientBoosting 최고 예측 정확도:{0:.4f}'.format(grid_cv.best_score_))\n",
    "print('GradientBoosting 최적 하이파 파라미터:', grid_cv.best_params_)"
   ]
  },
  {
   "cell_type": "code",
   "execution_count": 243,
   "metadata": {},
   "outputs": [
    {
     "name": "stdout",
     "output_type": "stream",
     "text": [
      "GradientBoosting 정확도 : 0.8526\n"
     ]
    }
   ],
   "source": [
    "#GridSearchCV를 이용해 최적으로 학습된 estimator로 예측 수행\n",
    "gb_pred = grid_cv.best_estimator_.predict(X_test)\n",
    "ab_accuracy = accuracy_score(y_test, gb_pred)\n",
    "print('GradientBoosting 정확도 : {0:.4f}'.format(gb_accuracy))"
   ]
  },
  {
   "cell_type": "code",
   "execution_count": 245,
   "metadata": {},
   "outputs": [
    {
     "name": "stdout",
     "output_type": "stream",
     "text": [
      "GradientBoosting 예측정확도:0.9289\n"
     ]
    }
   ],
   "source": [
    "#GridSearchCV에서 적용한 파라미터 적용\n",
    "gb_clf1 = GradientBoostingClassifier(learning_rate= 0.11, max_depth= 6, n_estimators = 100) #n_estimators= 300\n",
    "gb_clf1.fit(X_train,y_train)\n",
    "pred = gb_clf1.predict(X_test)\n",
    "print('GradientBoosting 예측정확도:{0:.4f}'.format(accuracy_score(y_test,pred)))"
   ]
  },
  {
   "cell_type": "code",
   "execution_count": 246,
   "metadata": {},
   "outputs": [
    {
     "data": {
      "text/plain": [
       "<matplotlib.axes._subplots.AxesSubplot at 0x1895bceeeb8>"
      ]
     },
     "execution_count": 246,
     "metadata": {},
     "output_type": "execute_result"
    },
    {
     "data": {
      "image/png": "[encoded data removed]",
      "text/plain": [
       "<Figure size 576x432 with 1 Axes>"
      ]
     },
     "metadata": {
      "needs_background": "light"
     },
     "output_type": "display_data"
    }
   ],
   "source": [
    "#특성값 중 상위 20위 확인\n",
    "ftr_importances_values=gb_clf1.feature_importances_\n",
    "ftr_importances = pd.Series(ftr_importances_values, index=Xtrain.columns)\n",
    "ftr_top20 = ftr_importances.sort_values(ascending=False)[:20]\n",
    "\n",
    "plt.figure(figsize=(8,6))\n",
    "plt.title('GBM Feature importances Top 20')\n",
    "sns.barplot(x=ftr_top20, y = ftr_top20.index)"
   ]
  },
  {
   "cell_type": "code",
   "execution_count": 247,
   "metadata": {},
   "outputs": [],
   "source": [
    "#사이킷런 래퍼 SGBoost 클래스인 XGBClassifier임포트\n",
    "from xgboost import XGBClassifier\n",
    "xgb_clf = XGBClassifier(random_state=0)\n",
    "xgb_clf.fit(X_train,y_train)\n",
    "pred = xgb_clf.predict(X_test)"
   ]
  },
  {
   "cell_type": "code",
   "execution_count": 248,
   "metadata": {},
   "outputs": [
    {
     "name": "stdout",
     "output_type": "stream",
     "text": [
      "오차행렬\n",
      "[[1670   12    0    0]\n",
      " [ 225  275   96   87]\n",
      " [   5   26  465  123]\n",
      " [   3   28   95  573]]\n",
      "정확도:0.8099\n"
     ]
    }
   ],
   "source": [
    "get_clf_eval(y_test,pred)"
   ]
  },
  {
   "cell_type": "code",
   "execution_count": 250,
   "metadata": {
    "scrolled": true
   },
   "outputs": [
    {
     "name": "stdout",
     "output_type": "stream",
     "text": [
      "[0]\tvalidation_0-mlogloss:1.29949\n",
      "Will train until validation_0-mlogloss hasn't improved in 100 rounds.\n",
      "[1]\tvalidation_0-mlogloss:1.22998\n",
      "[2]\tvalidation_0-mlogloss:1.16989\n",
      "[3]\tvalidation_0-mlogloss:1.11688\n",
      "[4]\tvalidation_0-mlogloss:1.07142\n",
      "[5]\tvalidation_0-mlogloss:1.03005\n",
      "[6]\tvalidation_0-mlogloss:0.994663\n",
      "[7]\tvalidation_0-mlogloss:0.962535\n",
      "[8]\tvalidation_0-mlogloss:0.93327\n",
      "[9]\tvalidation_0-mlogloss:0.908417\n",
      "[10]\tvalidation_0-mlogloss:0.884425\n",
      "[11]\tvalidation_0-mlogloss:0.864297\n",
      "[12]\tvalidation_0-mlogloss:0.843954\n",
      "[13]\tvalidation_0-mlogloss:0.825229\n",
      "[14]\tvalidation_0-mlogloss:0.808485\n",
      "[15]\tvalidation_0-mlogloss:0.79305\n",
      "[16]\tvalidation_0-mlogloss:0.779419\n",
      "[17]\tvalidation_0-mlogloss:0.767145\n",
      "[18]\tvalidation_0-mlogloss:0.755989\n",
      "[19]\tvalidation_0-mlogloss:0.744868\n",
      "[20]\tvalidation_0-mlogloss:0.734518\n",
      "[21]\tvalidation_0-mlogloss:0.725433\n",
      "[22]\tvalidation_0-mlogloss:0.717586\n",
      "[23]\tvalidation_0-mlogloss:0.709051\n",
      "[24]\tvalidation_0-mlogloss:0.700974\n",
      "[25]\tvalidation_0-mlogloss:0.694292\n",
      "[26]\tvalidation_0-mlogloss:0.68724\n",
      "[27]\tvalidation_0-mlogloss:0.680104\n",
      "[28]\tvalidation_0-mlogloss:0.67433\n",
      "[29]\tvalidation_0-mlogloss:0.668393\n",
      "[30]\tvalidation_0-mlogloss:0.662682\n",
      "[31]\tvalidation_0-mlogloss:0.656943\n",
      "[32]\tvalidation_0-mlogloss:0.652478\n",
      "[33]\tvalidation_0-mlogloss:0.647539\n",
      "[34]\tvalidation_0-mlogloss:0.642738\n",
      "[35]\tvalidation_0-mlogloss:0.637939\n",
      "[36]\tvalidation_0-mlogloss:0.633204\n",
      "[37]\tvalidation_0-mlogloss:0.627708\n",
      "[38]\tvalidation_0-mlogloss:0.623691\n",
      "[39]\tvalidation_0-mlogloss:0.619968\n",
      "[40]\tvalidation_0-mlogloss:0.616033\n",
      "[41]\tvalidation_0-mlogloss:0.613145\n",
      "[42]\tvalidation_0-mlogloss:0.608137\n",
      "[43]\tvalidation_0-mlogloss:0.605546\n",
      "[44]\tvalidation_0-mlogloss:0.601518\n",
      "[45]\tvalidation_0-mlogloss:0.598199\n",
      "[46]\tvalidation_0-mlogloss:0.594112\n",
      "[47]\tvalidation_0-mlogloss:0.591115\n",
      "[48]\tvalidation_0-mlogloss:0.587985\n",
      "[49]\tvalidation_0-mlogloss:0.585055\n",
      "[50]\tvalidation_0-mlogloss:0.582142\n",
      "[51]\tvalidation_0-mlogloss:0.578355\n",
      "[52]\tvalidation_0-mlogloss:0.575216\n",
      "[53]\tvalidation_0-mlogloss:0.572249\n",
      "[54]\tvalidation_0-mlogloss:0.569943\n",
      "[55]\tvalidation_0-mlogloss:0.568062\n",
      "[56]\tvalidation_0-mlogloss:0.565151\n",
      "[57]\tvalidation_0-mlogloss:0.562111\n",
      "[58]\tvalidation_0-mlogloss:0.559616\n",
      "[59]\tvalidation_0-mlogloss:0.5564\n",
      "[60]\tvalidation_0-mlogloss:0.553537\n",
      "[61]\tvalidation_0-mlogloss:0.550248\n",
      "[62]\tvalidation_0-mlogloss:0.54699\n",
      "[63]\tvalidation_0-mlogloss:0.54492\n",
      "[64]\tvalidation_0-mlogloss:0.542403\n",
      "[65]\tvalidation_0-mlogloss:0.539778\n",
      "[66]\tvalidation_0-mlogloss:0.536932\n",
      "[67]\tvalidation_0-mlogloss:0.534099\n",
      "[68]\tvalidation_0-mlogloss:0.531527\n",
      "[69]\tvalidation_0-mlogloss:0.529143\n",
      "[70]\tvalidation_0-mlogloss:0.526335\n",
      "[71]\tvalidation_0-mlogloss:0.523621\n",
      "[72]\tvalidation_0-mlogloss:0.520396\n",
      "[73]\tvalidation_0-mlogloss:0.518299\n",
      "[74]\tvalidation_0-mlogloss:0.516041\n",
      "[75]\tvalidation_0-mlogloss:0.514391\n",
      "[76]\tvalidation_0-mlogloss:0.512599\n",
      "[77]\tvalidation_0-mlogloss:0.510672\n",
      "[78]\tvalidation_0-mlogloss:0.508366\n",
      "[79]\tvalidation_0-mlogloss:0.507164\n",
      "[80]\tvalidation_0-mlogloss:0.505552\n",
      "[81]\tvalidation_0-mlogloss:0.504002\n",
      "[82]\tvalidation_0-mlogloss:0.501804\n",
      "[83]\tvalidation_0-mlogloss:0.500505\n",
      "[84]\tvalidation_0-mlogloss:0.49876\n",
      "[85]\tvalidation_0-mlogloss:0.497124\n",
      "[86]\tvalidation_0-mlogloss:0.495647\n",
      "[87]\tvalidation_0-mlogloss:0.493768\n",
      "[88]\tvalidation_0-mlogloss:0.492447\n",
      "[89]\tvalidation_0-mlogloss:0.491217\n",
      "[90]\tvalidation_0-mlogloss:0.489562\n",
      "[91]\tvalidation_0-mlogloss:0.488602\n",
      "[92]\tvalidation_0-mlogloss:0.487483\n",
      "[93]\tvalidation_0-mlogloss:0.485436\n",
      "[94]\tvalidation_0-mlogloss:0.483814\n",
      "[95]\tvalidation_0-mlogloss:0.482139\n",
      "[96]\tvalidation_0-mlogloss:0.4812\n",
      "[97]\tvalidation_0-mlogloss:0.47958\n",
      "[98]\tvalidation_0-mlogloss:0.477873\n",
      "[99]\tvalidation_0-mlogloss:0.476232\n",
      "[100]\tvalidation_0-mlogloss:0.473949\n",
      "[101]\tvalidation_0-mlogloss:0.472325\n",
      "[102]\tvalidation_0-mlogloss:0.471002\n",
      "[103]\tvalidation_0-mlogloss:0.46966\n",
      "[104]\tvalidation_0-mlogloss:0.468452\n",
      "[105]\tvalidation_0-mlogloss:0.467001\n",
      "[106]\tvalidation_0-mlogloss:0.465362\n",
      "[107]\tvalidation_0-mlogloss:0.463509\n",
      "[108]\tvalidation_0-mlogloss:0.461552\n",
      "[109]\tvalidation_0-mlogloss:0.460484\n",
      "[110]\tvalidation_0-mlogloss:0.459255\n",
      "[111]\tvalidation_0-mlogloss:0.458307\n",
      "[112]\tvalidation_0-mlogloss:0.456793\n",
      "[113]\tvalidation_0-mlogloss:0.455855\n",
      "[114]\tvalidation_0-mlogloss:0.454966\n",
      "[115]\tvalidation_0-mlogloss:0.453732\n",
      "[116]\tvalidation_0-mlogloss:0.451489\n",
      "[117]\tvalidation_0-mlogloss:0.450925\n",
      "[118]\tvalidation_0-mlogloss:0.449479\n",
      "[119]\tvalidation_0-mlogloss:0.448591\n",
      "[120]\tvalidation_0-mlogloss:0.44794\n",
      "[121]\tvalidation_0-mlogloss:0.447241\n",
      "[122]\tvalidation_0-mlogloss:0.445769\n",
      "[123]\tvalidation_0-mlogloss:0.444392\n",
      "[124]\tvalidation_0-mlogloss:0.44373\n",
      "[125]\tvalidation_0-mlogloss:0.442889\n",
      "[126]\tvalidation_0-mlogloss:0.442047\n",
      "[127]\tvalidation_0-mlogloss:0.441145\n",
      "[128]\tvalidation_0-mlogloss:0.440059\n",
      "[129]\tvalidation_0-mlogloss:0.438516\n",
      "[130]\tvalidation_0-mlogloss:0.437886\n",
      "[131]\tvalidation_0-mlogloss:0.436453\n",
      "[132]\tvalidation_0-mlogloss:0.435023\n",
      "[133]\tvalidation_0-mlogloss:0.433974\n",
      "[134]\tvalidation_0-mlogloss:0.432788\n",
      "[135]\tvalidation_0-mlogloss:0.431655\n",
      "[136]\tvalidation_0-mlogloss:0.430945\n",
      "[137]\tvalidation_0-mlogloss:0.430249\n",
      "[138]\tvalidation_0-mlogloss:0.429194\n",
      "[139]\tvalidation_0-mlogloss:0.428086\n",
      "[140]\tvalidation_0-mlogloss:0.427241\n",
      "[141]\tvalidation_0-mlogloss:0.426283\n",
      "[142]\tvalidation_0-mlogloss:0.425717\n",
      "[143]\tvalidation_0-mlogloss:0.424793\n",
      "[144]\tvalidation_0-mlogloss:0.423428\n",
      "[145]\tvalidation_0-mlogloss:0.421765\n",
      "[146]\tvalidation_0-mlogloss:0.421209\n",
      "[147]\tvalidation_0-mlogloss:0.420507\n",
      "[148]\tvalidation_0-mlogloss:0.419943\n",
      "[149]\tvalidation_0-mlogloss:0.419221\n",
      "[150]\tvalidation_0-mlogloss:0.41819\n",
      "[151]\tvalidation_0-mlogloss:0.417055\n",
      "[152]\tvalidation_0-mlogloss:0.415646\n",
      "[153]\tvalidation_0-mlogloss:0.414987\n",
      "[154]\tvalidation_0-mlogloss:0.413961\n",
      "[155]\tvalidation_0-mlogloss:0.412971\n",
      "[156]\tvalidation_0-mlogloss:0.412396\n",
      "[157]\tvalidation_0-mlogloss:0.411563\n",
      "[158]\tvalidation_0-mlogloss:0.411042\n",
      "[159]\tvalidation_0-mlogloss:0.409844\n",
      "[160]\tvalidation_0-mlogloss:0.409063\n",
      "[161]\tvalidation_0-mlogloss:0.408427\n",
      "[162]\tvalidation_0-mlogloss:0.407559\n",
      "[163]\tvalidation_0-mlogloss:0.40686\n",
      "[164]\tvalidation_0-mlogloss:0.406209\n",
      "[165]\tvalidation_0-mlogloss:0.405418\n",
      "[166]\tvalidation_0-mlogloss:0.404354\n",
      "[167]\tvalidation_0-mlogloss:0.403537\n",
      "[168]\tvalidation_0-mlogloss:0.402553\n",
      "[169]\tvalidation_0-mlogloss:0.402034\n",
      "[170]\tvalidation_0-mlogloss:0.400852\n",
      "[171]\tvalidation_0-mlogloss:0.399799\n",
      "[172]\tvalidation_0-mlogloss:0.399281\n",
      "[173]\tvalidation_0-mlogloss:0.398647\n",
      "[174]\tvalidation_0-mlogloss:0.398231\n",
      "[175]\tvalidation_0-mlogloss:0.397577\n",
      "[176]\tvalidation_0-mlogloss:0.396643\n",
      "[177]\tvalidation_0-mlogloss:0.396379\n",
      "[178]\tvalidation_0-mlogloss:0.395503\n",
      "[179]\tvalidation_0-mlogloss:0.394931\n",
      "[180]\tvalidation_0-mlogloss:0.39431\n",
      "[181]\tvalidation_0-mlogloss:0.393669\n",
      "[182]\tvalidation_0-mlogloss:0.392317\n",
      "[183]\tvalidation_0-mlogloss:0.391604\n",
      "[184]\tvalidation_0-mlogloss:0.390858\n",
      "[185]\tvalidation_0-mlogloss:0.390449\n",
      "[186]\tvalidation_0-mlogloss:0.389782\n",
      "[187]\tvalidation_0-mlogloss:0.388874\n",
      "[188]\tvalidation_0-mlogloss:0.388093\n",
      "[189]\tvalidation_0-mlogloss:0.387133\n",
      "[190]\tvalidation_0-mlogloss:0.386302\n",
      "[191]\tvalidation_0-mlogloss:0.385686\n",
      "[192]\tvalidation_0-mlogloss:0.384586\n",
      "[193]\tvalidation_0-mlogloss:0.383768\n",
      "[194]\tvalidation_0-mlogloss:0.38317\n",
      "[195]\tvalidation_0-mlogloss:0.382487\n",
      "[196]\tvalidation_0-mlogloss:0.381406\n",
      "[197]\tvalidation_0-mlogloss:0.380904\n",
      "[198]\tvalidation_0-mlogloss:0.380444\n",
      "[199]\tvalidation_0-mlogloss:0.379701\n"
     ]
    }
   ],
   "source": [
    "xgb_clf = XGBClassifier(random_state=0, n_estimators=200, learning_rate=0.1, max_depth=3)\n",
    "evals = [(X_test, y_test)]\n",
    "xgb_clf.fit(X_train, y_train, early_stopping_rounds=100, eval_metric='mlogloss',\n",
    "           eval_set=evals, verbose=True) #merror\n",
    "st100_pred = xgb_clf.predict(X_test)"
   ]
  },
  {
   "cell_type": "code",
   "execution_count": 251,
   "metadata": {},
   "outputs": [
    {
     "name": "stdout",
     "output_type": "stream",
     "text": [
      "오차행렬\n",
      "[[1670   12    0    0]\n",
      " [ 225  275   96   87]\n",
      " [   5   26  465  123]\n",
      " [   3   28   95  573]]\n",
      "정확도:0.8099\n",
      "XGBoost 기본 하이퍼 파라미터:\n",
      " {'base_score': 0.5, 'booster': 'gbtree', 'colsample_bylevel': 1, 'colsample_bytree': 1, 'gamma': 0, 'learning_rate': 0.1, 'max_delta_step': 0, 'max_depth': 3, 'min_child_weight': 1, 'missing': None, 'n_estimators': 200, 'n_jobs': 1, 'nthread': None, 'objective': 'multi:softprob', 'random_state': 0, 'reg_alpha': 0, 'reg_lambda': 1, 'scale_pos_weight': 1, 'seed': None, 'silent': True, 'subsample': 1}\n"
     ]
    }
   ],
   "source": [
    "get_clf_eval(y_test,pred)\n",
    "print('XGBoost 기본 하이퍼 파라미터:\\n',xgb_clf.get_params())"
   ]
  },
  {
   "cell_type": "code",
   "execution_count": 252,
   "metadata": {},
   "outputs": [
    {
     "name": "stdout",
     "output_type": "stream",
     "text": [
      "Fitting 2 folds for each of 16 candidates, totalling 32 fits\n"
     ]
    },
    {
     "name": "stderr",
     "output_type": "stream",
     "text": [
      "[Parallel(n_jobs=-1)]: Using backend LokyBackend with 8 concurrent workers.\n",
      "[Parallel(n_jobs=-1)]: Done  32 out of  32 | elapsed:   42.9s finished\n"
     ]
    },
    {
     "name": "stdout",
     "output_type": "stream",
     "text": [
      "XGB 최고 예측 정확도:0.8850\n",
      "XGB 최적 하이파 파라미터: {'colsample_bytree': 0.75, 'learning_rate': 0.1, 'max_depth': 6, 'min_child_weight': 3}\n"
     ]
    }
   ],
   "source": [
    "#최적의 파리미터 찾기\n",
    "xgb_clf = XGBClassifier(random_state=0, n_estimators=100)\n",
    "params = {\n",
    "    'learning_rate' :[0.05,0.1],\n",
    "    'max_depth' : [3,6],\n",
    "    'min_child_weight':[1,3],\n",
    "    'colsample_bytree' :[0.5,0.75]\n",
    "    }\n",
    "grid_cv=GridSearchCV(xgb_clf, param_grid=params, scoring='accuracy', cv=2, verbose=1, n_jobs=-1)\n",
    "grid_cv.fit(X_train,y_train)\n",
    "print('XGB 최고 예측 정확도:{0:.4f}'.format(grid_cv.best_score_))\n",
    "print('XGB 최적 하이파 파라미터:', grid_cv.best_params_)"
   ]
  },
  {
   "cell_type": "code",
   "execution_count": 253,
   "metadata": {},
   "outputs": [
    {
     "name": "stdout",
     "output_type": "stream",
     "text": [
      "예측정확도:0.9033\n"
     ]
    }
   ],
   "source": [
    "#GridSearchCV를 그래프 작성용\n",
    "xgb_clf1 = XGBClassifier(random_state=0, colsample_bytree= 0.75, learning_rate= 0.1, max_depth= 6, \n",
    "                         min_child_weight= 3, n_estimators= 100)\n",
    "#evals = [(X_test, y_test)]\n",
    "xgb_clf1.fit(X_train, y_train, eval_metric='merror') #merror, eval_set=evals,early_stopping_rounds=100\n",
    "xgb_clf1.fit(X_train,y_train)\n",
    "pred = xgb_clf1.predict(X_test)\n",
    "print('예측정확도:{0:.4f}'.format(accuracy_score(y_test,pred)))"
   ]
  },
  {
   "cell_type": "code",
   "execution_count": 254,
   "metadata": {},
   "outputs": [
    {
     "data": {
      "text/plain": [
       "<matplotlib.axes._subplots.AxesSubplot at 0x1895d6363c8>"
      ]
     },
     "execution_count": 254,
     "metadata": {},
     "output_type": "execute_result"
    },
    {
     "data": {
      "image/png": "[encoded data removed]",
      "text/plain": [
       "<Figure size 576x432 with 1 Axes>"
      ]
     },
     "metadata": {
      "needs_background": "light"
     },
     "output_type": "display_data"
    }
   ],
   "source": [
    "#특성값 중 상위 20위 확인\n",
    "ftr_importances_values=xgb_clf1.feature_importances_\n",
    "ftr_importances = pd.Series(ftr_importances_values, index=Xtrain.columns)\n",
    "ftr_top20 = ftr_importances.sort_values(ascending=False)[:20]\n",
    "\n",
    "plt.figure(figsize=(8,6))\n",
    "plt.title('XGB Feature importances Top 20')\n",
    "sns.barplot(x=ftr_top20, y = ftr_top20.index)"
   ]
  },
  {
   "cell_type": "code",
   "execution_count": 255,
   "metadata": {},
   "outputs": [
    {
     "data": {
      "text/plain": [
       "<matplotlib.axes._subplots.AxesSubplot at 0x1895d6583c8>"
      ]
     },
     "execution_count": 255,
     "metadata": {},
     "output_type": "execute_result"
    },
    {
     "data": {
      "image/png": "[encoded data removed]",
      "text/plain": [
       "<Figure size 720x864 with 1 Axes>"
      ]
     },
     "metadata": {
      "needs_background": "light"
     },
     "output_type": "display_data"
    }
   ],
   "source": [
    "from xgboost import plot_importance\n",
    "fig, ax = plt.subplots(figsize=(10,12))\n",
    "plot_importance(xgb_clf1, ax=ax)"
   ]
  },
  {
   "cell_type": "code",
   "execution_count": 256,
   "metadata": {},
   "outputs": [
    {
     "name": "stdout",
     "output_type": "stream",
     "text": [
      "[1]\tvalid_0's multi_logloss: 1.18062\tvalid_0's multi_logloss: 1.18062\n",
      "Training until validation scores don't improve for 100 rounds.\n",
      "[2]\tvalid_0's multi_logloss: 1.0939\tvalid_0's multi_logloss: 1.0939\n",
      "[3]\tvalid_0's multi_logloss: 1.02003\tvalid_0's multi_logloss: 1.02003\n",
      "[4]\tvalid_0's multi_logloss: 0.956002\tvalid_0's multi_logloss: 0.956002\n",
      "[5]\tvalid_0's multi_logloss: 0.899302\tvalid_0's multi_logloss: 0.899302\n",
      "[6]\tvalid_0's multi_logloss: 0.848361\tvalid_0's multi_logloss: 0.848361\n",
      "[7]\tvalid_0's multi_logloss: 0.802985\tvalid_0's multi_logloss: 0.802985\n",
      "[8]\tvalid_0's multi_logloss: 0.762662\tvalid_0's multi_logloss: 0.762662\n",
      "[9]\tvalid_0's multi_logloss: 0.726149\tvalid_0's multi_logloss: 0.726149\n",
      "[10]\tvalid_0's multi_logloss: 0.693011\tvalid_0's multi_logloss: 0.693011\n",
      "[11]\tvalid_0's multi_logloss: 0.662424\tvalid_0's multi_logloss: 0.662424\n",
      "[12]\tvalid_0's multi_logloss: 0.634134\tvalid_0's multi_logloss: 0.634134\n",
      "[13]\tvalid_0's multi_logloss: 0.608586\tvalid_0's multi_logloss: 0.608586\n",
      "[14]\tvalid_0's multi_logloss: 0.585077\tvalid_0's multi_logloss: 0.585077\n",
      "[15]\tvalid_0's multi_logloss: 0.563015\tvalid_0's multi_logloss: 0.563015\n",
      "[16]\tvalid_0's multi_logloss: 0.542869\tvalid_0's multi_logloss: 0.542869\n",
      "[17]\tvalid_0's multi_logloss: 0.524178\tvalid_0's multi_logloss: 0.524178\n",
      "[18]\tvalid_0's multi_logloss: 0.506275\tvalid_0's multi_logloss: 0.506275\n",
      "[19]\tvalid_0's multi_logloss: 0.490306\tvalid_0's multi_logloss: 0.490306\n",
      "[20]\tvalid_0's multi_logloss: 0.47505\tvalid_0's multi_logloss: 0.47505\n",
      "[21]\tvalid_0's multi_logloss: 0.461248\tvalid_0's multi_logloss: 0.461248\n",
      "[22]\tvalid_0's multi_logloss: 0.448406\tvalid_0's multi_logloss: 0.448406\n",
      "[23]\tvalid_0's multi_logloss: 0.436456\tvalid_0's multi_logloss: 0.436456\n",
      "[24]\tvalid_0's multi_logloss: 0.425024\tvalid_0's multi_logloss: 0.425024\n",
      "[25]\tvalid_0's multi_logloss: 0.41485\tvalid_0's multi_logloss: 0.41485\n",
      "[26]\tvalid_0's multi_logloss: 0.405554\tvalid_0's multi_logloss: 0.405554\n",
      "[27]\tvalid_0's multi_logloss: 0.396431\tvalid_0's multi_logloss: 0.396431\n",
      "[28]\tvalid_0's multi_logloss: 0.388417\tvalid_0's multi_logloss: 0.388417\n",
      "[29]\tvalid_0's multi_logloss: 0.380793\tvalid_0's multi_logloss: 0.380793\n",
      "[30]\tvalid_0's multi_logloss: 0.373556\tvalid_0's multi_logloss: 0.373556\n",
      "[31]\tvalid_0's multi_logloss: 0.366475\tvalid_0's multi_logloss: 0.366475\n",
      "[32]\tvalid_0's multi_logloss: 0.360237\tvalid_0's multi_logloss: 0.360237\n",
      "[33]\tvalid_0's multi_logloss: 0.353792\tvalid_0's multi_logloss: 0.353792\n",
      "[34]\tvalid_0's multi_logloss: 0.347039\tvalid_0's multi_logloss: 0.347039\n",
      "[35]\tvalid_0's multi_logloss: 0.340288\tvalid_0's multi_logloss: 0.340288\n",
      "[36]\tvalid_0's multi_logloss: 0.335629\tvalid_0's multi_logloss: 0.335629\n",
      "[37]\tvalid_0's multi_logloss: 0.330677\tvalid_0's multi_logloss: 0.330677\n",
      "[38]\tvalid_0's multi_logloss: 0.325739\tvalid_0's multi_logloss: 0.325739\n",
      "[39]\tvalid_0's multi_logloss: 0.320422\tvalid_0's multi_logloss: 0.320422\n",
      "[40]\tvalid_0's multi_logloss: 0.316226\tvalid_0's multi_logloss: 0.316226\n",
      "[41]\tvalid_0's multi_logloss: 0.311303\tvalid_0's multi_logloss: 0.311303\n",
      "[42]\tvalid_0's multi_logloss: 0.307244\tvalid_0's multi_logloss: 0.307244\n",
      "[43]\tvalid_0's multi_logloss: 0.303439\tvalid_0's multi_logloss: 0.303439\n",
      "[44]\tvalid_0's multi_logloss: 0.299287\tvalid_0's multi_logloss: 0.299287\n",
      "[45]\tvalid_0's multi_logloss: 0.29535\tvalid_0's multi_logloss: 0.29535\n",
      "[46]\tvalid_0's multi_logloss: 0.292155\tvalid_0's multi_logloss: 0.292155\n",
      "[47]\tvalid_0's multi_logloss: 0.288597\tvalid_0's multi_logloss: 0.288597\n",
      "[48]\tvalid_0's multi_logloss: 0.284472\tvalid_0's multi_logloss: 0.284472\n",
      "[49]\tvalid_0's multi_logloss: 0.281197\tvalid_0's multi_logloss: 0.281197\n",
      "[50]\tvalid_0's multi_logloss: 0.278128\tvalid_0's multi_logloss: 0.278128\n",
      "[51]\tvalid_0's multi_logloss: 0.275075\tvalid_0's multi_logloss: 0.275075\n",
      "[52]\tvalid_0's multi_logloss: 0.273074\tvalid_0's multi_logloss: 0.273074\n",
      "[53]\tvalid_0's multi_logloss: 0.270246\tvalid_0's multi_logloss: 0.270246\n",
      "[54]\tvalid_0's multi_logloss: 0.267713\tvalid_0's multi_logloss: 0.267713\n",
      "[55]\tvalid_0's multi_logloss: 0.265541\tvalid_0's multi_logloss: 0.265541\n",
      "[56]\tvalid_0's multi_logloss: 0.262676\tvalid_0's multi_logloss: 0.262676\n",
      "[57]\tvalid_0's multi_logloss: 0.260338\tvalid_0's multi_logloss: 0.260338\n",
      "[58]\tvalid_0's multi_logloss: 0.258462\tvalid_0's multi_logloss: 0.258462\n",
      "[59]\tvalid_0's multi_logloss: 0.256654\tvalid_0's multi_logloss: 0.256654\n",
      "[60]\tvalid_0's multi_logloss: 0.254923\tvalid_0's multi_logloss: 0.254923\n",
      "[61]\tvalid_0's multi_logloss: 0.252699\tvalid_0's multi_logloss: 0.252699\n",
      "[62]\tvalid_0's multi_logloss: 0.250783\tvalid_0's multi_logloss: 0.250783\n",
      "[63]\tvalid_0's multi_logloss: 0.248912\tvalid_0's multi_logloss: 0.248912\n",
      "[64]\tvalid_0's multi_logloss: 0.247443\tvalid_0's multi_logloss: 0.247443\n",
      "[65]\tvalid_0's multi_logloss: 0.24549\tvalid_0's multi_logloss: 0.24549\n",
      "[66]\tvalid_0's multi_logloss: 0.243543\tvalid_0's multi_logloss: 0.243543\n",
      "[67]\tvalid_0's multi_logloss: 0.242081\tvalid_0's multi_logloss: 0.242081\n",
      "[68]\tvalid_0's multi_logloss: 0.240455\tvalid_0's multi_logloss: 0.240455\n",
      "[69]\tvalid_0's multi_logloss: 0.238712\tvalid_0's multi_logloss: 0.238712\n",
      "[70]\tvalid_0's multi_logloss: 0.237104\tvalid_0's multi_logloss: 0.237104\n",
      "[71]\tvalid_0's multi_logloss: 0.235483\tvalid_0's multi_logloss: 0.235483\n",
      "[72]\tvalid_0's multi_logloss: 0.234044\tvalid_0's multi_logloss: 0.234044\n",
      "[73]\tvalid_0's multi_logloss: 0.232855\tvalid_0's multi_logloss: 0.232855\n",
      "[74]\tvalid_0's multi_logloss: 0.231033\tvalid_0's multi_logloss: 0.231033\n",
      "[75]\tvalid_0's multi_logloss: 0.229403\tvalid_0's multi_logloss: 0.229403\n",
      "[76]\tvalid_0's multi_logloss: 0.228107\tvalid_0's multi_logloss: 0.228107\n",
      "[77]\tvalid_0's multi_logloss: 0.226735\tvalid_0's multi_logloss: 0.226735\n",
      "[78]\tvalid_0's multi_logloss: 0.225441\tvalid_0's multi_logloss: 0.225441\n",
      "[79]\tvalid_0's multi_logloss: 0.224533\tvalid_0's multi_logloss: 0.224533\n",
      "[80]\tvalid_0's multi_logloss: 0.22367\tvalid_0's multi_logloss: 0.22367\n",
      "[81]\tvalid_0's multi_logloss: 0.222766\tvalid_0's multi_logloss: 0.222766\n",
      "[82]\tvalid_0's multi_logloss: 0.221635\tvalid_0's multi_logloss: 0.221635\n",
      "[83]\tvalid_0's multi_logloss: 0.220912\tvalid_0's multi_logloss: 0.220912\n",
      "[84]\tvalid_0's multi_logloss: 0.219752\tvalid_0's multi_logloss: 0.219752\n",
      "[85]\tvalid_0's multi_logloss: 0.218698\tvalid_0's multi_logloss: 0.218698\n",
      "[86]\tvalid_0's multi_logloss: 0.217701\tvalid_0's multi_logloss: 0.217701\n",
      "[87]\tvalid_0's multi_logloss: 0.216433\tvalid_0's multi_logloss: 0.216433\n",
      "[88]\tvalid_0's multi_logloss: 0.215477\tvalid_0's multi_logloss: 0.215477\n",
      "[89]\tvalid_0's multi_logloss: 0.214874\tvalid_0's multi_logloss: 0.214874\n",
      "[90]\tvalid_0's multi_logloss: 0.213896\tvalid_0's multi_logloss: 0.213896\n",
      "[91]\tvalid_0's multi_logloss: 0.212746\tvalid_0's multi_logloss: 0.212746\n",
      "[92]\tvalid_0's multi_logloss: 0.211759\tvalid_0's multi_logloss: 0.211759\n",
      "[93]\tvalid_0's multi_logloss: 0.210369\tvalid_0's multi_logloss: 0.210369\n",
      "[94]\tvalid_0's multi_logloss: 0.209456\tvalid_0's multi_logloss: 0.209456\n",
      "[95]\tvalid_0's multi_logloss: 0.208623\tvalid_0's multi_logloss: 0.208623\n",
      "[96]\tvalid_0's multi_logloss: 0.20752\tvalid_0's multi_logloss: 0.20752\n",
      "[97]\tvalid_0's multi_logloss: 0.206611\tvalid_0's multi_logloss: 0.206611\n",
      "[98]\tvalid_0's multi_logloss: 0.205964\tvalid_0's multi_logloss: 0.205964\n",
      "[99]\tvalid_0's multi_logloss: 0.205115\tvalid_0's multi_logloss: 0.205115\n",
      "[100]\tvalid_0's multi_logloss: 0.204207\tvalid_0's multi_logloss: 0.204207\n",
      "[101]\tvalid_0's multi_logloss: 0.20362\tvalid_0's multi_logloss: 0.20362\n",
      "[102]\tvalid_0's multi_logloss: 0.202563\tvalid_0's multi_logloss: 0.202563\n",
      "[103]\tvalid_0's multi_logloss: 0.201949\tvalid_0's multi_logloss: 0.201949\n",
      "[104]\tvalid_0's multi_logloss: 0.201442\tvalid_0's multi_logloss: 0.201442\n",
      "[105]\tvalid_0's multi_logloss: 0.200623\tvalid_0's multi_logloss: 0.200623\n",
      "[106]\tvalid_0's multi_logloss: 0.200225\tvalid_0's multi_logloss: 0.200225\n",
      "[107]\tvalid_0's multi_logloss: 0.199714\tvalid_0's multi_logloss: 0.199714\n",
      "[108]\tvalid_0's multi_logloss: 0.199053\tvalid_0's multi_logloss: 0.199053\n",
      "[109]\tvalid_0's multi_logloss: 0.198307\tvalid_0's multi_logloss: 0.198307\n",
      "[110]\tvalid_0's multi_logloss: 0.197844\tvalid_0's multi_logloss: 0.197844\n",
      "[111]\tvalid_0's multi_logloss: 0.197071\tvalid_0's multi_logloss: 0.197071\n",
      "[112]\tvalid_0's multi_logloss: 0.196413\tvalid_0's multi_logloss: 0.196413\n",
      "[113]\tvalid_0's multi_logloss: 0.195729\tvalid_0's multi_logloss: 0.195729\n",
      "[114]\tvalid_0's multi_logloss: 0.194988\tvalid_0's multi_logloss: 0.194988\n",
      "[115]\tvalid_0's multi_logloss: 0.194555\tvalid_0's multi_logloss: 0.194555\n",
      "[116]\tvalid_0's multi_logloss: 0.193844\tvalid_0's multi_logloss: 0.193844\n",
      "[117]\tvalid_0's multi_logloss: 0.193194\tvalid_0's multi_logloss: 0.193194\n",
      "[118]\tvalid_0's multi_logloss: 0.1926\tvalid_0's multi_logloss: 0.1926\n",
      "[119]\tvalid_0's multi_logloss: 0.192272\tvalid_0's multi_logloss: 0.192272\n",
      "[120]\tvalid_0's multi_logloss: 0.191758\tvalid_0's multi_logloss: 0.191758\n",
      "[121]\tvalid_0's multi_logloss: 0.191057\tvalid_0's multi_logloss: 0.191057\n",
      "[122]\tvalid_0's multi_logloss: 0.190658\tvalid_0's multi_logloss: 0.190658\n",
      "[123]\tvalid_0's multi_logloss: 0.18997\tvalid_0's multi_logloss: 0.18997\n",
      "[124]\tvalid_0's multi_logloss: 0.189359\tvalid_0's multi_logloss: 0.189359\n",
      "[125]\tvalid_0's multi_logloss: 0.188891\tvalid_0's multi_logloss: 0.188891\n",
      "[126]\tvalid_0's multi_logloss: 0.188357\tvalid_0's multi_logloss: 0.188357\n",
      "[127]\tvalid_0's multi_logloss: 0.187778\tvalid_0's multi_logloss: 0.187778\n",
      "[128]\tvalid_0's multi_logloss: 0.18772\tvalid_0's multi_logloss: 0.18772\n",
      "[129]\tvalid_0's multi_logloss: 0.186896\tvalid_0's multi_logloss: 0.186896\n",
      "[130]\tvalid_0's multi_logloss: 0.186324\tvalid_0's multi_logloss: 0.186324\n",
      "[131]\tvalid_0's multi_logloss: 0.185595\tvalid_0's multi_logloss: 0.185595\n",
      "[132]\tvalid_0's multi_logloss: 0.184917\tvalid_0's multi_logloss: 0.184917\n",
      "[133]\tvalid_0's multi_logloss: 0.184092\tvalid_0's multi_logloss: 0.184092\n",
      "[134]\tvalid_0's multi_logloss: 0.18352\tvalid_0's multi_logloss: 0.18352\n",
      "[135]\tvalid_0's multi_logloss: 0.183164\tvalid_0's multi_logloss: 0.183164\n",
      "[136]\tvalid_0's multi_logloss: 0.182513\tvalid_0's multi_logloss: 0.182513\n",
      "[137]\tvalid_0's multi_logloss: 0.181684\tvalid_0's multi_logloss: 0.181684\n",
      "[138]\tvalid_0's multi_logloss: 0.180993\tvalid_0's multi_logloss: 0.180993\n",
      "[139]\tvalid_0's multi_logloss: 0.180685\tvalid_0's multi_logloss: 0.180685\n",
      "[140]\tvalid_0's multi_logloss: 0.1802\tvalid_0's multi_logloss: 0.1802\n",
      "[141]\tvalid_0's multi_logloss: 0.179416\tvalid_0's multi_logloss: 0.179416\n",
      "[142]\tvalid_0's multi_logloss: 0.179187\tvalid_0's multi_logloss: 0.179187\n",
      "[143]\tvalid_0's multi_logloss: 0.178353\tvalid_0's multi_logloss: 0.178353\n",
      "[144]\tvalid_0's multi_logloss: 0.177899\tvalid_0's multi_logloss: 0.177899\n",
      "[145]\tvalid_0's multi_logloss: 0.177356\tvalid_0's multi_logloss: 0.177356\n",
      "[146]\tvalid_0's multi_logloss: 0.176659\tvalid_0's multi_logloss: 0.176659\n",
      "[147]\tvalid_0's multi_logloss: 0.176259\tvalid_0's multi_logloss: 0.176259\n",
      "[148]\tvalid_0's multi_logloss: 0.175938\tvalid_0's multi_logloss: 0.175938\n",
      "[149]\tvalid_0's multi_logloss: 0.175501\tvalid_0's multi_logloss: 0.175501\n",
      "[150]\tvalid_0's multi_logloss: 0.174793\tvalid_0's multi_logloss: 0.174793\n",
      "[151]\tvalid_0's multi_logloss: 0.174442\tvalid_0's multi_logloss: 0.174442\n",
      "[152]\tvalid_0's multi_logloss: 0.174184\tvalid_0's multi_logloss: 0.174184\n",
      "[153]\tvalid_0's multi_logloss: 0.173799\tvalid_0's multi_logloss: 0.173799\n",
      "[154]\tvalid_0's multi_logloss: 0.173202\tvalid_0's multi_logloss: 0.173202\n",
      "[155]\tvalid_0's multi_logloss: 0.17261\tvalid_0's multi_logloss: 0.17261\n",
      "[156]\tvalid_0's multi_logloss: 0.171943\tvalid_0's multi_logloss: 0.171943\n",
      "[157]\tvalid_0's multi_logloss: 0.171672\tvalid_0's multi_logloss: 0.171672\n",
      "[158]\tvalid_0's multi_logloss: 0.171248\tvalid_0's multi_logloss: 0.171248\n",
      "[159]\tvalid_0's multi_logloss: 0.170918\tvalid_0's multi_logloss: 0.170918\n",
      "[160]\tvalid_0's multi_logloss: 0.170573\tvalid_0's multi_logloss: 0.170573\n",
      "[161]\tvalid_0's multi_logloss: 0.170344\tvalid_0's multi_logloss: 0.170344\n",
      "[162]\tvalid_0's multi_logloss: 0.169482\tvalid_0's multi_logloss: 0.169482\n",
      "[163]\tvalid_0's multi_logloss: 0.169246\tvalid_0's multi_logloss: 0.169246\n",
      "[164]\tvalid_0's multi_logloss: 0.168782\tvalid_0's multi_logloss: 0.168782\n",
      "[165]\tvalid_0's multi_logloss: 0.168226\tvalid_0's multi_logloss: 0.168226\n",
      "[166]\tvalid_0's multi_logloss: 0.167981\tvalid_0's multi_logloss: 0.167981\n",
      "[167]\tvalid_0's multi_logloss: 0.167259\tvalid_0's multi_logloss: 0.167259\n",
      "[168]\tvalid_0's multi_logloss: 0.166967\tvalid_0's multi_logloss: 0.166967\n",
      "[169]\tvalid_0's multi_logloss: 0.16603\tvalid_0's multi_logloss: 0.16603\n",
      "[170]\tvalid_0's multi_logloss: 0.165677\tvalid_0's multi_logloss: 0.165677\n",
      "[171]\tvalid_0's multi_logloss: 0.165182\tvalid_0's multi_logloss: 0.165182\n",
      "[172]\tvalid_0's multi_logloss: 0.164916\tvalid_0's multi_logloss: 0.164916\n",
      "[173]\tvalid_0's multi_logloss: 0.164789\tvalid_0's multi_logloss: 0.164789\n",
      "[174]\tvalid_0's multi_logloss: 0.164778\tvalid_0's multi_logloss: 0.164778\n",
      "[175]\tvalid_0's multi_logloss: 0.164407\tvalid_0's multi_logloss: 0.164407\n",
      "[176]\tvalid_0's multi_logloss: 0.164031\tvalid_0's multi_logloss: 0.164031\n",
      "[177]\tvalid_0's multi_logloss: 0.163647\tvalid_0's multi_logloss: 0.163647\n",
      "[178]\tvalid_0's multi_logloss: 0.162894\tvalid_0's multi_logloss: 0.162894\n",
      "[179]\tvalid_0's multi_logloss: 0.16258\tvalid_0's multi_logloss: 0.16258\n",
      "[180]\tvalid_0's multi_logloss: 0.162065\tvalid_0's multi_logloss: 0.162065\n",
      "[181]\tvalid_0's multi_logloss: 0.161824\tvalid_0's multi_logloss: 0.161824\n",
      "[182]\tvalid_0's multi_logloss: 0.16121\tvalid_0's multi_logloss: 0.16121\n",
      "[183]\tvalid_0's multi_logloss: 0.160887\tvalid_0's multi_logloss: 0.160887\n",
      "[184]\tvalid_0's multi_logloss: 0.160457\tvalid_0's multi_logloss: 0.160457\n",
      "[185]\tvalid_0's multi_logloss: 0.16003\tvalid_0's multi_logloss: 0.16003\n",
      "[186]\tvalid_0's multi_logloss: 0.159728\tvalid_0's multi_logloss: 0.159728\n",
      "[187]\tvalid_0's multi_logloss: 0.159553\tvalid_0's multi_logloss: 0.159553\n",
      "[188]\tvalid_0's multi_logloss: 0.159299\tvalid_0's multi_logloss: 0.159299\n",
      "[189]\tvalid_0's multi_logloss: 0.158953\tvalid_0's multi_logloss: 0.158953\n",
      "[190]\tvalid_0's multi_logloss: 0.158763\tvalid_0's multi_logloss: 0.158763\n",
      "[191]\tvalid_0's multi_logloss: 0.158306\tvalid_0's multi_logloss: 0.158306\n",
      "[192]\tvalid_0's multi_logloss: 0.157896\tvalid_0's multi_logloss: 0.157896\n",
      "[193]\tvalid_0's multi_logloss: 0.157782\tvalid_0's multi_logloss: 0.157782\n",
      "[194]\tvalid_0's multi_logloss: 0.157315\tvalid_0's multi_logloss: 0.157315\n",
      "[195]\tvalid_0's multi_logloss: 0.156935\tvalid_0's multi_logloss: 0.156935\n",
      "[196]\tvalid_0's multi_logloss: 0.156799\tvalid_0's multi_logloss: 0.156799\n",
      "[197]\tvalid_0's multi_logloss: 0.156492\tvalid_0's multi_logloss: 0.156492\n",
      "[198]\tvalid_0's multi_logloss: 0.156224\tvalid_0's multi_logloss: 0.156224\n",
      "[199]\tvalid_0's multi_logloss: 0.155975\tvalid_0's multi_logloss: 0.155975\n",
      "[200]\tvalid_0's multi_logloss: 0.155661\tvalid_0's multi_logloss: 0.155661\n",
      "[201]\tvalid_0's multi_logloss: 0.155169\tvalid_0's multi_logloss: 0.155169\n",
      "[202]\tvalid_0's multi_logloss: 0.154899\tvalid_0's multi_logloss: 0.154899\n",
      "[203]\tvalid_0's multi_logloss: 0.154659\tvalid_0's multi_logloss: 0.154659\n",
      "[204]\tvalid_0's multi_logloss: 0.154486\tvalid_0's multi_logloss: 0.154486\n",
      "[205]\tvalid_0's multi_logloss: 0.1541\tvalid_0's multi_logloss: 0.1541\n",
      "[206]\tvalid_0's multi_logloss: 0.153835\tvalid_0's multi_logloss: 0.153835\n",
      "[207]\tvalid_0's multi_logloss: 0.153502\tvalid_0's multi_logloss: 0.153502\n",
      "[208]\tvalid_0's multi_logloss: 0.153226\tvalid_0's multi_logloss: 0.153226\n",
      "[209]\tvalid_0's multi_logloss: 0.153109\tvalid_0's multi_logloss: 0.153109\n",
      "[210]\tvalid_0's multi_logloss: 0.152867\tvalid_0's multi_logloss: 0.152867\n",
      "[211]\tvalid_0's multi_logloss: 0.152617\tvalid_0's multi_logloss: 0.152617\n",
      "[212]\tvalid_0's multi_logloss: 0.152181\tvalid_0's multi_logloss: 0.152181\n",
      "[213]\tvalid_0's multi_logloss: 0.151945\tvalid_0's multi_logloss: 0.151945\n",
      "[214]\tvalid_0's multi_logloss: 0.151823\tvalid_0's multi_logloss: 0.151823\n",
      "[215]\tvalid_0's multi_logloss: 0.151696\tvalid_0's multi_logloss: 0.151696\n",
      "[216]\tvalid_0's multi_logloss: 0.151616\tvalid_0's multi_logloss: 0.151616\n",
      "[217]\tvalid_0's multi_logloss: 0.15161\tvalid_0's multi_logloss: 0.15161\n",
      "[218]\tvalid_0's multi_logloss: 0.151292\tvalid_0's multi_logloss: 0.151292\n",
      "[219]\tvalid_0's multi_logloss: 0.151169\tvalid_0's multi_logloss: 0.151169\n",
      "[220]\tvalid_0's multi_logloss: 0.150947\tvalid_0's multi_logloss: 0.150947\n",
      "[221]\tvalid_0's multi_logloss: 0.150566\tvalid_0's multi_logloss: 0.150566\n",
      "[222]\tvalid_0's multi_logloss: 0.150383\tvalid_0's multi_logloss: 0.150383\n",
      "[223]\tvalid_0's multi_logloss: 0.150245\tvalid_0's multi_logloss: 0.150245\n",
      "[224]\tvalid_0's multi_logloss: 0.15002\tvalid_0's multi_logloss: 0.15002\n",
      "[225]\tvalid_0's multi_logloss: 0.149765\tvalid_0's multi_logloss: 0.149765\n",
      "[226]\tvalid_0's multi_logloss: 0.149449\tvalid_0's multi_logloss: 0.149449\n",
      "[227]\tvalid_0's multi_logloss: 0.149415\tvalid_0's multi_logloss: 0.149415\n",
      "[228]\tvalid_0's multi_logloss: 0.149304\tvalid_0's multi_logloss: 0.149304\n",
      "[229]\tvalid_0's multi_logloss: 0.149114\tvalid_0's multi_logloss: 0.149114\n",
      "[230]\tvalid_0's multi_logloss: 0.14886\tvalid_0's multi_logloss: 0.14886\n",
      "[231]\tvalid_0's multi_logloss: 0.148585\tvalid_0's multi_logloss: 0.148585\n",
      "[232]\tvalid_0's multi_logloss: 0.148314\tvalid_0's multi_logloss: 0.148314\n",
      "[233]\tvalid_0's multi_logloss: 0.148071\tvalid_0's multi_logloss: 0.148071\n",
      "[234]\tvalid_0's multi_logloss: 0.147723\tvalid_0's multi_logloss: 0.147723\n",
      "[235]\tvalid_0's multi_logloss: 0.147441\tvalid_0's multi_logloss: 0.147441\n",
      "[236]\tvalid_0's multi_logloss: 0.147297\tvalid_0's multi_logloss: 0.147297\n",
      "[237]\tvalid_0's multi_logloss: 0.147065\tvalid_0's multi_logloss: 0.147065\n",
      "[238]\tvalid_0's multi_logloss: 0.146697\tvalid_0's multi_logloss: 0.146697\n",
      "[239]\tvalid_0's multi_logloss: 0.146521\tvalid_0's multi_logloss: 0.146521\n",
      "[240]\tvalid_0's multi_logloss: 0.146526\tvalid_0's multi_logloss: 0.146526\n",
      "[241]\tvalid_0's multi_logloss: 0.146278\tvalid_0's multi_logloss: 0.146278\n",
      "[242]\tvalid_0's multi_logloss: 0.146077\tvalid_0's multi_logloss: 0.146077\n",
      "[243]\tvalid_0's multi_logloss: 0.145944\tvalid_0's multi_logloss: 0.145944\n",
      "[244]\tvalid_0's multi_logloss: 0.145611\tvalid_0's multi_logloss: 0.145611\n",
      "[245]\tvalid_0's multi_logloss: 0.145401\tvalid_0's multi_logloss: 0.145401\n",
      "[246]\tvalid_0's multi_logloss: 0.145165\tvalid_0's multi_logloss: 0.145165\n",
      "[247]\tvalid_0's multi_logloss: 0.144928\tvalid_0's multi_logloss: 0.144928\n",
      "[248]\tvalid_0's multi_logloss: 0.144751\tvalid_0's multi_logloss: 0.144751\n",
      "[249]\tvalid_0's multi_logloss: 0.144437\tvalid_0's multi_logloss: 0.144437\n",
      "[250]\tvalid_0's multi_logloss: 0.144318\tvalid_0's multi_logloss: 0.144318\n",
      "[251]\tvalid_0's multi_logloss: 0.144219\tvalid_0's multi_logloss: 0.144219\n",
      "[252]\tvalid_0's multi_logloss: 0.14389\tvalid_0's multi_logloss: 0.14389\n",
      "[253]\tvalid_0's multi_logloss: 0.143738\tvalid_0's multi_logloss: 0.143738\n",
      "[254]\tvalid_0's multi_logloss: 0.143756\tvalid_0's multi_logloss: 0.143756\n",
      "[255]\tvalid_0's multi_logloss: 0.143567\tvalid_0's multi_logloss: 0.143567\n",
      "[256]\tvalid_0's multi_logloss: 0.143418\tvalid_0's multi_logloss: 0.143418\n",
      "[257]\tvalid_0's multi_logloss: 0.143421\tvalid_0's multi_logloss: 0.143421\n",
      "[258]\tvalid_0's multi_logloss: 0.143153\tvalid_0's multi_logloss: 0.143153\n",
      "[259]\tvalid_0's multi_logloss: 0.143066\tvalid_0's multi_logloss: 0.143066\n",
      "[260]\tvalid_0's multi_logloss: 0.142883\tvalid_0's multi_logloss: 0.142883\n",
      "[261]\tvalid_0's multi_logloss: 0.142623\tvalid_0's multi_logloss: 0.142623\n",
      "[262]\tvalid_0's multi_logloss: 0.142568\tvalid_0's multi_logloss: 0.142568\n",
      "[263]\tvalid_0's multi_logloss: 0.142448\tvalid_0's multi_logloss: 0.142448\n",
      "[264]\tvalid_0's multi_logloss: 0.142115\tvalid_0's multi_logloss: 0.142115\n",
      "[265]\tvalid_0's multi_logloss: 0.14186\tvalid_0's multi_logloss: 0.14186\n",
      "[266]\tvalid_0's multi_logloss: 0.141742\tvalid_0's multi_logloss: 0.141742\n",
      "[267]\tvalid_0's multi_logloss: 0.141696\tvalid_0's multi_logloss: 0.141696\n",
      "[268]\tvalid_0's multi_logloss: 0.141555\tvalid_0's multi_logloss: 0.141555\n",
      "[269]\tvalid_0's multi_logloss: 0.141342\tvalid_0's multi_logloss: 0.141342\n",
      "[270]\tvalid_0's multi_logloss: 0.141257\tvalid_0's multi_logloss: 0.141257\n",
      "[271]\tvalid_0's multi_logloss: 0.141011\tvalid_0's multi_logloss: 0.141011\n",
      "[272]\tvalid_0's multi_logloss: 0.140785\tvalid_0's multi_logloss: 0.140785\n",
      "[273]\tvalid_0's multi_logloss: 0.140716\tvalid_0's multi_logloss: 0.140716\n",
      "[274]\tvalid_0's multi_logloss: 0.140717\tvalid_0's multi_logloss: 0.140717\n",
      "[275]\tvalid_0's multi_logloss: 0.14057\tvalid_0's multi_logloss: 0.14057\n",
      "[276]\tvalid_0's multi_logloss: 0.140542\tvalid_0's multi_logloss: 0.140542\n",
      "[277]\tvalid_0's multi_logloss: 0.140261\tvalid_0's multi_logloss: 0.140261\n",
      "[278]\tvalid_0's multi_logloss: 0.140153\tvalid_0's multi_logloss: 0.140153\n",
      "[279]\tvalid_0's multi_logloss: 0.140209\tvalid_0's multi_logloss: 0.140209\n",
      "[280]\tvalid_0's multi_logloss: 0.140146\tvalid_0's multi_logloss: 0.140146\n",
      "[281]\tvalid_0's multi_logloss: 0.140181\tvalid_0's multi_logloss: 0.140181\n",
      "[282]\tvalid_0's multi_logloss: 0.1401\tvalid_0's multi_logloss: 0.1401\n",
      "[283]\tvalid_0's multi_logloss: 0.14\tvalid_0's multi_logloss: 0.14\n",
      "[284]\tvalid_0's multi_logloss: 0.139815\tvalid_0's multi_logloss: 0.139815\n",
      "[285]\tvalid_0's multi_logloss: 0.13989\tvalid_0's multi_logloss: 0.13989\n",
      "[286]\tvalid_0's multi_logloss: 0.139817\tvalid_0's multi_logloss: 0.139817\n",
      "[287]\tvalid_0's multi_logloss: 0.139585\tvalid_0's multi_logloss: 0.139585\n",
      "[288]\tvalid_0's multi_logloss: 0.139291\tvalid_0's multi_logloss: 0.139291\n",
      "[289]\tvalid_0's multi_logloss: 0.139054\tvalid_0's multi_logloss: 0.139054\n",
      "[290]\tvalid_0's multi_logloss: 0.138962\tvalid_0's multi_logloss: 0.138962\n",
      "[291]\tvalid_0's multi_logloss: 0.138831\tvalid_0's multi_logloss: 0.138831\n",
      "[292]\tvalid_0's multi_logloss: 0.138601\tvalid_0's multi_logloss: 0.138601\n",
      "[293]\tvalid_0's multi_logloss: 0.138594\tvalid_0's multi_logloss: 0.138594\n",
      "[294]\tvalid_0's multi_logloss: 0.138303\tvalid_0's multi_logloss: 0.138303\n",
      "[295]\tvalid_0's multi_logloss: 0.138147\tvalid_0's multi_logloss: 0.138147\n",
      "[296]\tvalid_0's multi_logloss: 0.138071\tvalid_0's multi_logloss: 0.138071\n",
      "[297]\tvalid_0's multi_logloss: 0.137874\tvalid_0's multi_logloss: 0.137874\n",
      "[298]\tvalid_0's multi_logloss: 0.13774\tvalid_0's multi_logloss: 0.13774\n",
      "[299]\tvalid_0's multi_logloss: 0.137656\tvalid_0's multi_logloss: 0.137656\n",
      "[300]\tvalid_0's multi_logloss: 0.137683\tvalid_0's multi_logloss: 0.137683\n",
      "Did not meet early stopping. Best iteration is:\n",
      "[299]\tvalid_0's multi_logloss: 0.137656\tvalid_0's multi_logloss: 0.137656\n"
     ]
    },
    {
     "data": {
      "text/plain": [
       "LGBMClassifier(boosting_type='gbdt', class_weight=None, colsample_bytree=1.0,\n",
       "        importance_type='split', learning_rate=0.1, max_depth=-1,\n",
       "        min_child_samples=20, min_child_weight=0.001, min_split_gain=0.0,\n",
       "        n_estimators=300, n_jobs=-1, num_leaves=31, objective=None,\n",
       "        random_state=None, reg_alpha=0.0, reg_lambda=0.0, silent=True,\n",
       "        subsample=1.0, subsample_for_bin=200000, subsample_freq=0)"
      ]
     },
     "execution_count": 256,
     "metadata": {},
     "output_type": "execute_result"
    }
   ],
   "source": [
    "#LightGBM의 파이썬패키지 입력\n",
    "from lightgbm import LGBMClassifier\n",
    "lgbm_clf = LGBMClassifier(n_estimators=300)\n",
    "#ligtgbm도 조기중단 수행지정\n",
    "evals = [(X_test, y_test)]\n",
    "lgbm_clf.fit(X_train, y_train, early_stopping_rounds=100, eval_metric =\"logloss\",\n",
    "            eval_set=evals, verbose=True)\n"
   ]
  },
  {
   "cell_type": "code",
   "execution_count": 170,
   "metadata": {},
   "outputs": [
    {
     "name": "stdout",
     "output_type": "stream",
     "text": [
      "오차행렬\n",
      "[[506  29   0   0]\n",
      " [ 36 445   0   0]\n",
      " [  2   1 458   1]\n",
      " [  0   0  10 530]]\n",
      "정확도:0.9609\n",
      "LGBM 기본 하이퍼 파라미터:\n",
      " {'boosting_type': 'gbdt', 'class_weight': None, 'colsample_bytree': 1.0, 'importance_type': 'split', 'learning_rate': 0.1, 'max_depth': -1, 'min_child_samples': 20, 'min_child_weight': 0.001, 'min_split_gain': 0.0, 'n_estimators': 300, 'n_jobs': -1, 'num_leaves': 31, 'objective': None, 'random_state': None, 'reg_alpha': 0.0, 'reg_lambda': 0.0, 'silent': True, 'subsample': 1.0, 'subsample_for_bin': 200000, 'subsample_freq': 0}\n"
     ]
    }
   ],
   "source": [
    "pred = lgbm_clf.predict(X_test)\n",
    "get_clf_eval(y_test, pred)\n",
    "print('LGBM 기본 하이퍼 파라미터:\\n',lgbm_clf.get_params())"
   ]
  },
  {
   "cell_type": "code",
   "execution_count": 174,
   "metadata": {},
   "outputs": [
    {
     "name": "stdout",
     "output_type": "stream",
     "text": [
      "Fitting 3 folds for each of 32 candidates, totalling 96 fits\n"
     ]
    },
    {
     "name": "stderr",
     "output_type": "stream",
     "text": [
      "[Parallel(n_jobs=-1)]: Using backend LokyBackend with 8 concurrent workers.\n",
      "[Parallel(n_jobs=-1)]: Done  34 tasks      | elapsed:   27.7s\n",
      "[Parallel(n_jobs=-1)]: Done  96 out of  96 | elapsed:  1.1min finished\n"
     ]
    },
    {
     "name": "stdout",
     "output_type": "stream",
     "text": [
      "[1]\ttraining's multi_logloss: 1.25217\ttraining's multi_logloss: 1.25217\tvalid_1's multi_logloss: 1.25609\tvalid_1's multi_logloss: 1.25609\n",
      "Training until validation scores don't improve for 30 rounds.\n",
      "[2]\ttraining's multi_logloss: 1.14446\ttraining's multi_logloss: 1.14446\tvalid_1's multi_logloss: 1.15347\tvalid_1's multi_logloss: 1.15347\n",
      "[3]\ttraining's multi_logloss: 1.04987\ttraining's multi_logloss: 1.04987\tvalid_1's multi_logloss: 1.06305\tvalid_1's multi_logloss: 1.06305\n",
      "[4]\ttraining's multi_logloss: 0.969579\ttraining's multi_logloss: 0.969579\tvalid_1's multi_logloss: 0.986964\tvalid_1's multi_logloss: 0.986964\n",
      "[5]\ttraining's multi_logloss: 0.898353\ttraining's multi_logloss: 0.898353\tvalid_1's multi_logloss: 0.918699\tvalid_1's multi_logloss: 0.918699\n",
      "[6]\ttraining's multi_logloss: 0.835158\ttraining's multi_logloss: 0.835158\tvalid_1's multi_logloss: 0.858887\tvalid_1's multi_logloss: 0.858887\n",
      "[7]\ttraining's multi_logloss: 0.777458\ttraining's multi_logloss: 0.777458\tvalid_1's multi_logloss: 0.804408\tvalid_1's multi_logloss: 0.804408\n",
      "[8]\ttraining's multi_logloss: 0.726425\ttraining's multi_logloss: 0.726425\tvalid_1's multi_logloss: 0.755804\tvalid_1's multi_logloss: 0.755804\n",
      "[9]\ttraining's multi_logloss: 0.680391\ttraining's multi_logloss: 0.680391\tvalid_1's multi_logloss: 0.712194\tvalid_1's multi_logloss: 0.712194\n",
      "[10]\ttraining's multi_logloss: 0.639167\ttraining's multi_logloss: 0.639167\tvalid_1's multi_logloss: 0.673422\tvalid_1's multi_logloss: 0.673422\n",
      "[11]\ttraining's multi_logloss: 0.601867\ttraining's multi_logloss: 0.601867\tvalid_1's multi_logloss: 0.638175\tvalid_1's multi_logloss: 0.638175\n",
      "[12]\ttraining's multi_logloss: 0.567097\ttraining's multi_logloss: 0.567097\tvalid_1's multi_logloss: 0.606407\tvalid_1's multi_logloss: 0.606407\n",
      "[13]\ttraining's multi_logloss: 0.534716\ttraining's multi_logloss: 0.534716\tvalid_1's multi_logloss: 0.576314\tvalid_1's multi_logloss: 0.576314\n",
      "[14]\ttraining's multi_logloss: 0.504724\ttraining's multi_logloss: 0.504724\tvalid_1's multi_logloss: 0.548536\tvalid_1's multi_logloss: 0.548536\n",
      "[15]\ttraining's multi_logloss: 0.477559\ttraining's multi_logloss: 0.477559\tvalid_1's multi_logloss: 0.523257\tvalid_1's multi_logloss: 0.523257\n",
      "[16]\ttraining's multi_logloss: 0.453085\ttraining's multi_logloss: 0.453085\tvalid_1's multi_logloss: 0.500475\tvalid_1's multi_logloss: 0.500475\n",
      "[17]\ttraining's multi_logloss: 0.430197\ttraining's multi_logloss: 0.430197\tvalid_1's multi_logloss: 0.47943\tvalid_1's multi_logloss: 0.47943\n",
      "[18]\ttraining's multi_logloss: 0.40912\ttraining's multi_logloss: 0.40912\tvalid_1's multi_logloss: 0.459985\tvalid_1's multi_logloss: 0.459985\n",
      "[19]\ttraining's multi_logloss: 0.390104\ttraining's multi_logloss: 0.390104\tvalid_1's multi_logloss: 0.442603\tvalid_1's multi_logloss: 0.442603\n",
      "[20]\ttraining's multi_logloss: 0.371691\ttraining's multi_logloss: 0.371691\tvalid_1's multi_logloss: 0.426061\tvalid_1's multi_logloss: 0.426061\n",
      "[21]\ttraining's multi_logloss: 0.353959\ttraining's multi_logloss: 0.353959\tvalid_1's multi_logloss: 0.409943\tvalid_1's multi_logloss: 0.409943\n",
      "[22]\ttraining's multi_logloss: 0.337573\ttraining's multi_logloss: 0.337573\tvalid_1's multi_logloss: 0.395185\tvalid_1's multi_logloss: 0.395185\n",
      "[23]\ttraining's multi_logloss: 0.323076\ttraining's multi_logloss: 0.323076\tvalid_1's multi_logloss: 0.38149\tvalid_1's multi_logloss: 0.38149\n",
      "[24]\ttraining's multi_logloss: 0.309807\ttraining's multi_logloss: 0.309807\tvalid_1's multi_logloss: 0.369729\tvalid_1's multi_logloss: 0.369729\n",
      "[25]\ttraining's multi_logloss: 0.296402\ttraining's multi_logloss: 0.296402\tvalid_1's multi_logloss: 0.357756\tvalid_1's multi_logloss: 0.357756\n",
      "[26]\ttraining's multi_logloss: 0.283764\ttraining's multi_logloss: 0.283764\tvalid_1's multi_logloss: 0.345755\tvalid_1's multi_logloss: 0.345755\n",
      "[27]\ttraining's multi_logloss: 0.27206\ttraining's multi_logloss: 0.27206\tvalid_1's multi_logloss: 0.335617\tvalid_1's multi_logloss: 0.335617\n",
      "[28]\ttraining's multi_logloss: 0.261247\ttraining's multi_logloss: 0.261247\tvalid_1's multi_logloss: 0.325815\tvalid_1's multi_logloss: 0.325815\n",
      "[29]\ttraining's multi_logloss: 0.25132\ttraining's multi_logloss: 0.25132\tvalid_1's multi_logloss: 0.31756\tvalid_1's multi_logloss: 0.31756\n",
      "[30]\ttraining's multi_logloss: 0.242231\ttraining's multi_logloss: 0.242231\tvalid_1's multi_logloss: 0.310183\tvalid_1's multi_logloss: 0.310183\n",
      "[31]\ttraining's multi_logloss: 0.232981\ttraining's multi_logloss: 0.232981\tvalid_1's multi_logloss: 0.301524\tvalid_1's multi_logloss: 0.301524\n",
      "[32]\ttraining's multi_logloss: 0.224357\ttraining's multi_logloss: 0.224357\tvalid_1's multi_logloss: 0.293938\tvalid_1's multi_logloss: 0.293938\n",
      "[33]\ttraining's multi_logloss: 0.216167\ttraining's multi_logloss: 0.216167\tvalid_1's multi_logloss: 0.286583\tvalid_1's multi_logloss: 0.286583\n",
      "[34]\ttraining's multi_logloss: 0.208397\ttraining's multi_logloss: 0.208397\tvalid_1's multi_logloss: 0.279482\tvalid_1's multi_logloss: 0.279482\n",
      "[35]\ttraining's multi_logloss: 0.20099\ttraining's multi_logloss: 0.20099\tvalid_1's multi_logloss: 0.273061\tvalid_1's multi_logloss: 0.273061\n",
      "[36]\ttraining's multi_logloss: 0.193412\ttraining's multi_logloss: 0.193412\tvalid_1's multi_logloss: 0.266245\tvalid_1's multi_logloss: 0.266245\n",
      "[37]\ttraining's multi_logloss: 0.186929\ttraining's multi_logloss: 0.186929\tvalid_1's multi_logloss: 0.261241\tvalid_1's multi_logloss: 0.261241\n",
      "[38]\ttraining's multi_logloss: 0.180609\ttraining's multi_logloss: 0.180609\tvalid_1's multi_logloss: 0.255736\tvalid_1's multi_logloss: 0.255736\n",
      "[39]\ttraining's multi_logloss: 0.174465\ttraining's multi_logloss: 0.174465\tvalid_1's multi_logloss: 0.25022\tvalid_1's multi_logloss: 0.25022\n",
      "[40]\ttraining's multi_logloss: 0.169248\ttraining's multi_logloss: 0.169248\tvalid_1's multi_logloss: 0.246001\tvalid_1's multi_logloss: 0.246001\n",
      "[41]\ttraining's multi_logloss: 0.163763\ttraining's multi_logloss: 0.163763\tvalid_1's multi_logloss: 0.241197\tvalid_1's multi_logloss: 0.241197\n",
      "[42]\ttraining's multi_logloss: 0.158548\ttraining's multi_logloss: 0.158548\tvalid_1's multi_logloss: 0.236837\tvalid_1's multi_logloss: 0.236837\n",
      "[43]\ttraining's multi_logloss: 0.153484\ttraining's multi_logloss: 0.153484\tvalid_1's multi_logloss: 0.232734\tvalid_1's multi_logloss: 0.232734\n",
      "[44]\ttraining's multi_logloss: 0.148726\ttraining's multi_logloss: 0.148726\tvalid_1's multi_logloss: 0.228653\tvalid_1's multi_logloss: 0.228653\n",
      "[45]\ttraining's multi_logloss: 0.144225\ttraining's multi_logloss: 0.144225\tvalid_1's multi_logloss: 0.225005\tvalid_1's multi_logloss: 0.225005\n",
      "[46]\ttraining's multi_logloss: 0.139973\ttraining's multi_logloss: 0.139973\tvalid_1's multi_logloss: 0.222062\tvalid_1's multi_logloss: 0.222062\n",
      "[47]\ttraining's multi_logloss: 0.135782\ttraining's multi_logloss: 0.135782\tvalid_1's multi_logloss: 0.218603\tvalid_1's multi_logloss: 0.218603\n",
      "[48]\ttraining's multi_logloss: 0.132009\ttraining's multi_logloss: 0.132009\tvalid_1's multi_logloss: 0.216166\tvalid_1's multi_logloss: 0.216166\n",
      "[49]\ttraining's multi_logloss: 0.12821\ttraining's multi_logloss: 0.12821\tvalid_1's multi_logloss: 0.212863\tvalid_1's multi_logloss: 0.212863\n",
      "[50]\ttraining's multi_logloss: 0.124409\ttraining's multi_logloss: 0.124409\tvalid_1's multi_logloss: 0.209452\tvalid_1's multi_logloss: 0.209452\n",
      "[51]\ttraining's multi_logloss: 0.121059\ttraining's multi_logloss: 0.121059\tvalid_1's multi_logloss: 0.207256\tvalid_1's multi_logloss: 0.207256\n",
      "[52]\ttraining's multi_logloss: 0.117752\ttraining's multi_logloss: 0.117752\tvalid_1's multi_logloss: 0.205142\tvalid_1's multi_logloss: 0.205142\n",
      "[53]\ttraining's multi_logloss: 0.114487\ttraining's multi_logloss: 0.114487\tvalid_1's multi_logloss: 0.202768\tvalid_1's multi_logloss: 0.202768\n",
      "[54]\ttraining's multi_logloss: 0.111184\ttraining's multi_logloss: 0.111184\tvalid_1's multi_logloss: 0.199847\tvalid_1's multi_logloss: 0.199847\n",
      "[55]\ttraining's multi_logloss: 0.108391\ttraining's multi_logloss: 0.108391\tvalid_1's multi_logloss: 0.198273\tvalid_1's multi_logloss: 0.198273\n",
      "[56]\ttraining's multi_logloss: 0.105739\ttraining's multi_logloss: 0.105739\tvalid_1's multi_logloss: 0.19667\tvalid_1's multi_logloss: 0.19667\n",
      "[57]\ttraining's multi_logloss: 0.102713\ttraining's multi_logloss: 0.102713\tvalid_1's multi_logloss: 0.194584\tvalid_1's multi_logloss: 0.194584\n",
      "[58]\ttraining's multi_logloss: 0.100022\ttraining's multi_logloss: 0.100022\tvalid_1's multi_logloss: 0.192658\tvalid_1's multi_logloss: 0.192658\n",
      "[59]\ttraining's multi_logloss: 0.0972175\ttraining's multi_logloss: 0.0972175\tvalid_1's multi_logloss: 0.190317\tvalid_1's multi_logloss: 0.190317\n",
      "[60]\ttraining's multi_logloss: 0.0947313\ttraining's multi_logloss: 0.0947313\tvalid_1's multi_logloss: 0.188592\tvalid_1's multi_logloss: 0.188592\n",
      "[61]\ttraining's multi_logloss: 0.0925521\ttraining's multi_logloss: 0.0925521\tvalid_1's multi_logloss: 0.187844\tvalid_1's multi_logloss: 0.187844\n",
      "[62]\ttraining's multi_logloss: 0.0902258\ttraining's multi_logloss: 0.0902258\tvalid_1's multi_logloss: 0.186107\tvalid_1's multi_logloss: 0.186107\n",
      "[63]\ttraining's multi_logloss: 0.0878726\ttraining's multi_logloss: 0.0878726\tvalid_1's multi_logloss: 0.184282\tvalid_1's multi_logloss: 0.184282\n",
      "[64]\ttraining's multi_logloss: 0.0858069\ttraining's multi_logloss: 0.0858069\tvalid_1's multi_logloss: 0.182939\tvalid_1's multi_logloss: 0.182939\n",
      "[65]\ttraining's multi_logloss: 0.0836822\ttraining's multi_logloss: 0.0836822\tvalid_1's multi_logloss: 0.181627\tvalid_1's multi_logloss: 0.181627\n",
      "[66]\ttraining's multi_logloss: 0.0815895\ttraining's multi_logloss: 0.0815895\tvalid_1's multi_logloss: 0.179883\tvalid_1's multi_logloss: 0.179883\n",
      "[67]\ttraining's multi_logloss: 0.0795853\ttraining's multi_logloss: 0.0795853\tvalid_1's multi_logloss: 0.178699\tvalid_1's multi_logloss: 0.178699\n",
      "[68]\ttraining's multi_logloss: 0.0776171\ttraining's multi_logloss: 0.0776171\tvalid_1's multi_logloss: 0.177315\tvalid_1's multi_logloss: 0.177315\n",
      "[69]\ttraining's multi_logloss: 0.0756936\ttraining's multi_logloss: 0.0756936\tvalid_1's multi_logloss: 0.175783\tvalid_1's multi_logloss: 0.175783\n",
      "[70]\ttraining's multi_logloss: 0.0738317\ttraining's multi_logloss: 0.0738317\tvalid_1's multi_logloss: 0.174617\tvalid_1's multi_logloss: 0.174617\n",
      "[71]\ttraining's multi_logloss: 0.0720396\ttraining's multi_logloss: 0.0720396\tvalid_1's multi_logloss: 0.173685\tvalid_1's multi_logloss: 0.173685\n",
      "[72]\ttraining's multi_logloss: 0.0703234\ttraining's multi_logloss: 0.0703234\tvalid_1's multi_logloss: 0.17248\tvalid_1's multi_logloss: 0.17248\n",
      "[73]\ttraining's multi_logloss: 0.068837\ttraining's multi_logloss: 0.068837\tvalid_1's multi_logloss: 0.171866\tvalid_1's multi_logloss: 0.171866\n",
      "[74]\ttraining's multi_logloss: 0.0670756\ttraining's multi_logloss: 0.0670756\tvalid_1's multi_logloss: 0.170491\tvalid_1's multi_logloss: 0.170491\n",
      "[75]\ttraining's multi_logloss: 0.0655587\ttraining's multi_logloss: 0.0655587\tvalid_1's multi_logloss: 0.169762\tvalid_1's multi_logloss: 0.169762\n",
      "[76]\ttraining's multi_logloss: 0.0641904\ttraining's multi_logloss: 0.0641904\tvalid_1's multi_logloss: 0.169024\tvalid_1's multi_logloss: 0.169024\n",
      "[77]\ttraining's multi_logloss: 0.0626583\ttraining's multi_logloss: 0.0626583\tvalid_1's multi_logloss: 0.168074\tvalid_1's multi_logloss: 0.168074\n",
      "[78]\ttraining's multi_logloss: 0.0612607\ttraining's multi_logloss: 0.0612607\tvalid_1's multi_logloss: 0.167374\tvalid_1's multi_logloss: 0.167374\n",
      "[79]\ttraining's multi_logloss: 0.0598636\ttraining's multi_logloss: 0.0598636\tvalid_1's multi_logloss: 0.166154\tvalid_1's multi_logloss: 0.166154\n",
      "[80]\ttraining's multi_logloss: 0.0585284\ttraining's multi_logloss: 0.0585284\tvalid_1's multi_logloss: 0.165383\tvalid_1's multi_logloss: 0.165383\n",
      "[81]\ttraining's multi_logloss: 0.0573618\ttraining's multi_logloss: 0.0573618\tvalid_1's multi_logloss: 0.164658\tvalid_1's multi_logloss: 0.164658\n",
      "[82]\ttraining's multi_logloss: 0.0560686\ttraining's multi_logloss: 0.0560686\tvalid_1's multi_logloss: 0.163886\tvalid_1's multi_logloss: 0.163886\n",
      "[83]\ttraining's multi_logloss: 0.0546815\ttraining's multi_logloss: 0.0546815\tvalid_1's multi_logloss: 0.162398\tvalid_1's multi_logloss: 0.162398\n",
      "[84]\ttraining's multi_logloss: 0.0535935\ttraining's multi_logloss: 0.0535935\tvalid_1's multi_logloss: 0.161446\tvalid_1's multi_logloss: 0.161446\n",
      "[85]\ttraining's multi_logloss: 0.0525061\ttraining's multi_logloss: 0.0525061\tvalid_1's multi_logloss: 0.160556\tvalid_1's multi_logloss: 0.160556\n",
      "[86]\ttraining's multi_logloss: 0.0513633\ttraining's multi_logloss: 0.0513633\tvalid_1's multi_logloss: 0.15983\tvalid_1's multi_logloss: 0.15983\n",
      "[87]\ttraining's multi_logloss: 0.0502705\ttraining's multi_logloss: 0.0502705\tvalid_1's multi_logloss: 0.158848\tvalid_1's multi_logloss: 0.158848\n",
      "[88]\ttraining's multi_logloss: 0.04921\ttraining's multi_logloss: 0.04921\tvalid_1's multi_logloss: 0.157975\tvalid_1's multi_logloss: 0.157975\n",
      "[89]\ttraining's multi_logloss: 0.0480818\ttraining's multi_logloss: 0.0480818\tvalid_1's multi_logloss: 0.157364\tvalid_1's multi_logloss: 0.157364\n",
      "[90]\ttraining's multi_logloss: 0.0470672\ttraining's multi_logloss: 0.0470672\tvalid_1's multi_logloss: 0.156472\tvalid_1's multi_logloss: 0.156472\n",
      "[91]\ttraining's multi_logloss: 0.0461119\ttraining's multi_logloss: 0.0461119\tvalid_1's multi_logloss: 0.156048\tvalid_1's multi_logloss: 0.156048\n",
      "[92]\ttraining's multi_logloss: 0.0451504\ttraining's multi_logloss: 0.0451504\tvalid_1's multi_logloss: 0.1554\tvalid_1's multi_logloss: 0.1554\n",
      "[93]\ttraining's multi_logloss: 0.044101\ttraining's multi_logloss: 0.044101\tvalid_1's multi_logloss: 0.154323\tvalid_1's multi_logloss: 0.154323\n",
      "[94]\ttraining's multi_logloss: 0.0431376\ttraining's multi_logloss: 0.0431376\tvalid_1's multi_logloss: 0.153421\tvalid_1's multi_logloss: 0.153421\n",
      "[95]\ttraining's multi_logloss: 0.0422184\ttraining's multi_logloss: 0.0422184\tvalid_1's multi_logloss: 0.15229\tvalid_1's multi_logloss: 0.15229\n",
      "[96]\ttraining's multi_logloss: 0.0413569\ttraining's multi_logloss: 0.0413569\tvalid_1's multi_logloss: 0.151442\tvalid_1's multi_logloss: 0.151442\n",
      "[97]\ttraining's multi_logloss: 0.0404363\ttraining's multi_logloss: 0.0404363\tvalid_1's multi_logloss: 0.150528\tvalid_1's multi_logloss: 0.150528\n",
      "[98]\ttraining's multi_logloss: 0.0395278\ttraining's multi_logloss: 0.0395278\tvalid_1's multi_logloss: 0.149805\tvalid_1's multi_logloss: 0.149805\n",
      "[99]\ttraining's multi_logloss: 0.0385918\ttraining's multi_logloss: 0.0385918\tvalid_1's multi_logloss: 0.14906\tvalid_1's multi_logloss: 0.14906\n",
      "[100]\ttraining's multi_logloss: 0.0377768\ttraining's multi_logloss: 0.0377768\tvalid_1's multi_logloss: 0.148561\tvalid_1's multi_logloss: 0.148561\n",
      "Did not meet early stopping. Best iteration is:\n",
      "[100]\ttraining's multi_logloss: 0.0377768\ttraining's multi_logloss: 0.0377768\tvalid_1's multi_logloss: 0.148561\tvalid_1's multi_logloss: 0.148561\n",
      "LGBM 최고 예측 정확도:0.9256\n",
      "LGBM 최적 하이파 파라미터: {'learning_rate': 0.1, 'max_depth': 128, 'min_child_samples': 60, 'num_leaves': 32, 'subsample': 0.8}\n"
     ]
    }
   ],
   "source": [
    "#최적의 파리미터 찾기\n",
    "lgbm_clf = LGBMClassifier(n_estimators=100) #속도향상을 위해 100으로 재설정\n",
    "params = {\n",
    "    'learning_rate': [0.05,0.1],\n",
    "    'num_leaves' :[32,64],\n",
    "    'max_depth' : [128,160],\n",
    "    'min_child_samples':[60,100],\n",
    "    'subsample' :[0.8,1]\n",
    "    }\n",
    "grid_cv=GridSearchCV(lgbm_clf, param_grid=params, scoring='accuracy', verbose=1, n_jobs=-1)\n",
    "grid_cv.fit(X_train,y_train, early_stopping_rounds=30, eval_metric=\"logloss\",\n",
    "           eval_set=[(X_train, y_train), (X_test,y_test)])\n",
    "print('LGBM 최고 예측 정확도:{0:.4f}'.format(grid_cv.best_score_))\n",
    "print('LGBM 최적 하이파 파라미터:', grid_cv.best_params_)"
   ]
  },
  {
   "cell_type": "code",
   "execution_count": 176,
   "metadata": {
    "scrolled": true
   },
   "outputs": [
    {
     "name": "stdout",
     "output_type": "stream",
     "text": [
      "[1]\tvalid_0's multi_logloss: 1.25609\tvalid_0's multi_logloss: 1.25609\n",
      "Training until validation scores don't improve for 100 rounds.\n",
      "[2]\tvalid_0's multi_logloss: 1.15347\tvalid_0's multi_logloss: 1.15347\n",
      "[3]\tvalid_0's multi_logloss: 1.06305\tvalid_0's multi_logloss: 1.06305\n",
      "[4]\tvalid_0's multi_logloss: 0.986964\tvalid_0's multi_logloss: 0.986964\n",
      "[5]\tvalid_0's multi_logloss: 0.918699\tvalid_0's multi_logloss: 0.918699\n",
      "[6]\tvalid_0's multi_logloss: 0.858887\tvalid_0's multi_logloss: 0.858887\n",
      "[7]\tvalid_0's multi_logloss: 0.804408\tvalid_0's multi_logloss: 0.804408\n",
      "[8]\tvalid_0's multi_logloss: 0.755804\tvalid_0's multi_logloss: 0.755804\n",
      "[9]\tvalid_0's multi_logloss: 0.712194\tvalid_0's multi_logloss: 0.712194\n",
      "[10]\tvalid_0's multi_logloss: 0.673422\tvalid_0's multi_logloss: 0.673422\n",
      "[11]\tvalid_0's multi_logloss: 0.638175\tvalid_0's multi_logloss: 0.638175\n",
      "[12]\tvalid_0's multi_logloss: 0.606407\tvalid_0's multi_logloss: 0.606407\n",
      "[13]\tvalid_0's multi_logloss: 0.576314\tvalid_0's multi_logloss: 0.576314\n",
      "[14]\tvalid_0's multi_logloss: 0.548536\tvalid_0's multi_logloss: 0.548536\n",
      "[15]\tvalid_0's multi_logloss: 0.523257\tvalid_0's multi_logloss: 0.523257\n",
      "[16]\tvalid_0's multi_logloss: 0.500475\tvalid_0's multi_logloss: 0.500475\n",
      "[17]\tvalid_0's multi_logloss: 0.47943\tvalid_0's multi_logloss: 0.47943\n",
      "[18]\tvalid_0's multi_logloss: 0.459985\tvalid_0's multi_logloss: 0.459985\n",
      "[19]\tvalid_0's multi_logloss: 0.442603\tvalid_0's multi_logloss: 0.442603\n",
      "[20]\tvalid_0's multi_logloss: 0.426061\tvalid_0's multi_logloss: 0.426061\n",
      "[21]\tvalid_0's multi_logloss: 0.409943\tvalid_0's multi_logloss: 0.409943\n",
      "[22]\tvalid_0's multi_logloss: 0.395185\tvalid_0's multi_logloss: 0.395185\n",
      "[23]\tvalid_0's multi_logloss: 0.38149\tvalid_0's multi_logloss: 0.38149\n",
      "[24]\tvalid_0's multi_logloss: 0.369729\tvalid_0's multi_logloss: 0.369729\n",
      "[25]\tvalid_0's multi_logloss: 0.357756\tvalid_0's multi_logloss: 0.357756\n",
      "[26]\tvalid_0's multi_logloss: 0.345755\tvalid_0's multi_logloss: 0.345755\n",
      "[27]\tvalid_0's multi_logloss: 0.335617\tvalid_0's multi_logloss: 0.335617\n",
      "[28]\tvalid_0's multi_logloss: 0.325815\tvalid_0's multi_logloss: 0.325815\n",
      "[29]\tvalid_0's multi_logloss: 0.31756\tvalid_0's multi_logloss: 0.31756\n",
      "[30]\tvalid_0's multi_logloss: 0.310183\tvalid_0's multi_logloss: 0.310183\n",
      "[31]\tvalid_0's multi_logloss: 0.301524\tvalid_0's multi_logloss: 0.301524\n",
      "[32]\tvalid_0's multi_logloss: 0.293938\tvalid_0's multi_logloss: 0.293938\n",
      "[33]\tvalid_0's multi_logloss: 0.286583\tvalid_0's multi_logloss: 0.286583\n",
      "[34]\tvalid_0's multi_logloss: 0.279482\tvalid_0's multi_logloss: 0.279482\n",
      "[35]\tvalid_0's multi_logloss: 0.273061\tvalid_0's multi_logloss: 0.273061\n",
      "[36]\tvalid_0's multi_logloss: 0.266245\tvalid_0's multi_logloss: 0.266245\n",
      "[37]\tvalid_0's multi_logloss: 0.261241\tvalid_0's multi_logloss: 0.261241\n",
      "[38]\tvalid_0's multi_logloss: 0.255736\tvalid_0's multi_logloss: 0.255736\n",
      "[39]\tvalid_0's multi_logloss: 0.25022\tvalid_0's multi_logloss: 0.25022\n",
      "[40]\tvalid_0's multi_logloss: 0.246001\tvalid_0's multi_logloss: 0.246001\n",
      "[41]\tvalid_0's multi_logloss: 0.241197\tvalid_0's multi_logloss: 0.241197\n",
      "[42]\tvalid_0's multi_logloss: 0.236837\tvalid_0's multi_logloss: 0.236837\n",
      "[43]\tvalid_0's multi_logloss: 0.232734\tvalid_0's multi_logloss: 0.232734\n",
      "[44]\tvalid_0's multi_logloss: 0.228653\tvalid_0's multi_logloss: 0.228653\n",
      "[45]\tvalid_0's multi_logloss: 0.225005\tvalid_0's multi_logloss: 0.225005\n",
      "[46]\tvalid_0's multi_logloss: 0.222062\tvalid_0's multi_logloss: 0.222062\n",
      "[47]\tvalid_0's multi_logloss: 0.218603\tvalid_0's multi_logloss: 0.218603\n",
      "[48]\tvalid_0's multi_logloss: 0.216166\tvalid_0's multi_logloss: 0.216166\n",
      "[49]\tvalid_0's multi_logloss: 0.212863\tvalid_0's multi_logloss: 0.212863\n",
      "[50]\tvalid_0's multi_logloss: 0.209452\tvalid_0's multi_logloss: 0.209452\n",
      "[51]\tvalid_0's multi_logloss: 0.207256\tvalid_0's multi_logloss: 0.207256\n",
      "[52]\tvalid_0's multi_logloss: 0.205142\tvalid_0's multi_logloss: 0.205142\n",
      "[53]\tvalid_0's multi_logloss: 0.202768\tvalid_0's multi_logloss: 0.202768\n",
      "[54]\tvalid_0's multi_logloss: 0.199847\tvalid_0's multi_logloss: 0.199847\n",
      "[55]\tvalid_0's multi_logloss: 0.198273\tvalid_0's multi_logloss: 0.198273\n",
      "[56]\tvalid_0's multi_logloss: 0.19667\tvalid_0's multi_logloss: 0.19667\n",
      "[57]\tvalid_0's multi_logloss: 0.194584\tvalid_0's multi_logloss: 0.194584\n",
      "[58]\tvalid_0's multi_logloss: 0.192658\tvalid_0's multi_logloss: 0.192658\n",
      "[59]\tvalid_0's multi_logloss: 0.190317\tvalid_0's multi_logloss: 0.190317\n",
      "[60]\tvalid_0's multi_logloss: 0.188592\tvalid_0's multi_logloss: 0.188592\n",
      "[61]\tvalid_0's multi_logloss: 0.187844\tvalid_0's multi_logloss: 0.187844\n",
      "[62]\tvalid_0's multi_logloss: 0.186107\tvalid_0's multi_logloss: 0.186107\n",
      "[63]\tvalid_0's multi_logloss: 0.184282\tvalid_0's multi_logloss: 0.184282\n",
      "[64]\tvalid_0's multi_logloss: 0.182939\tvalid_0's multi_logloss: 0.182939\n",
      "[65]\tvalid_0's multi_logloss: 0.181627\tvalid_0's multi_logloss: 0.181627\n",
      "[66]\tvalid_0's multi_logloss: 0.179883\tvalid_0's multi_logloss: 0.179883\n",
      "[67]\tvalid_0's multi_logloss: 0.178699\tvalid_0's multi_logloss: 0.178699\n",
      "[68]\tvalid_0's multi_logloss: 0.177315\tvalid_0's multi_logloss: 0.177315\n",
      "[69]\tvalid_0's multi_logloss: 0.175783\tvalid_0's multi_logloss: 0.175783\n",
      "[70]\tvalid_0's multi_logloss: 0.174617\tvalid_0's multi_logloss: 0.174617\n",
      "[71]\tvalid_0's multi_logloss: 0.173685\tvalid_0's multi_logloss: 0.173685\n",
      "[72]\tvalid_0's multi_logloss: 0.17248\tvalid_0's multi_logloss: 0.17248\n",
      "[73]\tvalid_0's multi_logloss: 0.171866\tvalid_0's multi_logloss: 0.171866\n",
      "[74]\tvalid_0's multi_logloss: 0.170491\tvalid_0's multi_logloss: 0.170491\n",
      "[75]\tvalid_0's multi_logloss: 0.169762\tvalid_0's multi_logloss: 0.169762\n",
      "[76]\tvalid_0's multi_logloss: 0.169024\tvalid_0's multi_logloss: 0.169024\n",
      "[77]\tvalid_0's multi_logloss: 0.168074\tvalid_0's multi_logloss: 0.168074\n",
      "[78]\tvalid_0's multi_logloss: 0.167374\tvalid_0's multi_logloss: 0.167374\n",
      "[79]\tvalid_0's multi_logloss: 0.166154\tvalid_0's multi_logloss: 0.166154\n",
      "[80]\tvalid_0's multi_logloss: 0.165383\tvalid_0's multi_logloss: 0.165383\n",
      "[81]\tvalid_0's multi_logloss: 0.164658\tvalid_0's multi_logloss: 0.164658\n",
      "[82]\tvalid_0's multi_logloss: 0.163886\tvalid_0's multi_logloss: 0.163886\n",
      "[83]\tvalid_0's multi_logloss: 0.162398\tvalid_0's multi_logloss: 0.162398\n",
      "[84]\tvalid_0's multi_logloss: 0.161446\tvalid_0's multi_logloss: 0.161446\n",
      "[85]\tvalid_0's multi_logloss: 0.160556\tvalid_0's multi_logloss: 0.160556\n",
      "[86]\tvalid_0's multi_logloss: 0.15983\tvalid_0's multi_logloss: 0.15983\n",
      "[87]\tvalid_0's multi_logloss: 0.158848\tvalid_0's multi_logloss: 0.158848\n",
      "[88]\tvalid_0's multi_logloss: 0.157975\tvalid_0's multi_logloss: 0.157975\n",
      "[89]\tvalid_0's multi_logloss: 0.157364\tvalid_0's multi_logloss: 0.157364\n",
      "[90]\tvalid_0's multi_logloss: 0.156472\tvalid_0's multi_logloss: 0.156472\n",
      "[91]\tvalid_0's multi_logloss: 0.156048\tvalid_0's multi_logloss: 0.156048\n",
      "[92]\tvalid_0's multi_logloss: 0.1554\tvalid_0's multi_logloss: 0.1554\n",
      "[93]\tvalid_0's multi_logloss: 0.154323\tvalid_0's multi_logloss: 0.154323\n",
      "[94]\tvalid_0's multi_logloss: 0.153421\tvalid_0's multi_logloss: 0.153421\n",
      "[95]\tvalid_0's multi_logloss: 0.15229\tvalid_0's multi_logloss: 0.15229\n",
      "[96]\tvalid_0's multi_logloss: 0.151442\tvalid_0's multi_logloss: 0.151442\n",
      "[97]\tvalid_0's multi_logloss: 0.150528\tvalid_0's multi_logloss: 0.150528\n",
      "[98]\tvalid_0's multi_logloss: 0.149805\tvalid_0's multi_logloss: 0.149805\n",
      "[99]\tvalid_0's multi_logloss: 0.14906\tvalid_0's multi_logloss: 0.14906\n",
      "[100]\tvalid_0's multi_logloss: 0.148561\tvalid_0's multi_logloss: 0.148561\n",
      "[101]\tvalid_0's multi_logloss: 0.148158\tvalid_0's multi_logloss: 0.148158\n",
      "[102]\tvalid_0's multi_logloss: 0.14746\tvalid_0's multi_logloss: 0.14746\n",
      "[103]\tvalid_0's multi_logloss: 0.147435\tvalid_0's multi_logloss: 0.147435\n",
      "[104]\tvalid_0's multi_logloss: 0.146782\tvalid_0's multi_logloss: 0.146782\n",
      "[105]\tvalid_0's multi_logloss: 0.146066\tvalid_0's multi_logloss: 0.146066\n",
      "[106]\tvalid_0's multi_logloss: 0.145132\tvalid_0's multi_logloss: 0.145132\n",
      "[107]\tvalid_0's multi_logloss: 0.145037\tvalid_0's multi_logloss: 0.145037\n",
      "[108]\tvalid_0's multi_logloss: 0.14466\tvalid_0's multi_logloss: 0.14466\n",
      "[109]\tvalid_0's multi_logloss: 0.144371\tvalid_0's multi_logloss: 0.144371\n",
      "[110]\tvalid_0's multi_logloss: 0.143568\tvalid_0's multi_logloss: 0.143568\n",
      "[111]\tvalid_0's multi_logloss: 0.142935\tvalid_0's multi_logloss: 0.142935\n",
      "[112]\tvalid_0's multi_logloss: 0.142528\tvalid_0's multi_logloss: 0.142528\n",
      "[113]\tvalid_0's multi_logloss: 0.141875\tvalid_0's multi_logloss: 0.141875\n",
      "[114]\tvalid_0's multi_logloss: 0.141519\tvalid_0's multi_logloss: 0.141519\n",
      "[115]\tvalid_0's multi_logloss: 0.141115\tvalid_0's multi_logloss: 0.141115\n",
      "[116]\tvalid_0's multi_logloss: 0.140509\tvalid_0's multi_logloss: 0.140509\n",
      "[117]\tvalid_0's multi_logloss: 0.140261\tvalid_0's multi_logloss: 0.140261\n",
      "[118]\tvalid_0's multi_logloss: 0.139957\tvalid_0's multi_logloss: 0.139957\n",
      "[119]\tvalid_0's multi_logloss: 0.139404\tvalid_0's multi_logloss: 0.139404\n",
      "[120]\tvalid_0's multi_logloss: 0.139124\tvalid_0's multi_logloss: 0.139124\n",
      "[121]\tvalid_0's multi_logloss: 0.139041\tvalid_0's multi_logloss: 0.139041\n",
      "[122]\tvalid_0's multi_logloss: 0.13887\tvalid_0's multi_logloss: 0.13887\n",
      "[123]\tvalid_0's multi_logloss: 0.138041\tvalid_0's multi_logloss: 0.138041\n",
      "[124]\tvalid_0's multi_logloss: 0.137719\tvalid_0's multi_logloss: 0.137719\n",
      "[125]\tvalid_0's multi_logloss: 0.137111\tvalid_0's multi_logloss: 0.137111\n",
      "[126]\tvalid_0's multi_logloss: 0.136621\tvalid_0's multi_logloss: 0.136621\n",
      "[127]\tvalid_0's multi_logloss: 0.136427\tvalid_0's multi_logloss: 0.136427\n",
      "[128]\tvalid_0's multi_logloss: 0.136291\tvalid_0's multi_logloss: 0.136291\n",
      "[129]\tvalid_0's multi_logloss: 0.136016\tvalid_0's multi_logloss: 0.136016\n",
      "[130]\tvalid_0's multi_logloss: 0.135943\tvalid_0's multi_logloss: 0.135943\n",
      "[131]\tvalid_0's multi_logloss: 0.135709\tvalid_0's multi_logloss: 0.135709\n",
      "[132]\tvalid_0's multi_logloss: 0.135128\tvalid_0's multi_logloss: 0.135128\n",
      "[133]\tvalid_0's multi_logloss: 0.134747\tvalid_0's multi_logloss: 0.134747\n",
      "[134]\tvalid_0's multi_logloss: 0.134458\tvalid_0's multi_logloss: 0.134458\n",
      "[135]\tvalid_0's multi_logloss: 0.13418\tvalid_0's multi_logloss: 0.13418\n",
      "[136]\tvalid_0's multi_logloss: 0.133837\tvalid_0's multi_logloss: 0.133837\n",
      "[137]\tvalid_0's multi_logloss: 0.133977\tvalid_0's multi_logloss: 0.133977\n",
      "[138]\tvalid_0's multi_logloss: 0.133348\tvalid_0's multi_logloss: 0.133348\n",
      "[139]\tvalid_0's multi_logloss: 0.133361\tvalid_0's multi_logloss: 0.133361\n",
      "[140]\tvalid_0's multi_logloss: 0.133181\tvalid_0's multi_logloss: 0.133181\n",
      "[141]\tvalid_0's multi_logloss: 0.132814\tvalid_0's multi_logloss: 0.132814\n",
      "[142]\tvalid_0's multi_logloss: 0.132877\tvalid_0's multi_logloss: 0.132877\n",
      "[143]\tvalid_0's multi_logloss: 0.1324\tvalid_0's multi_logloss: 0.1324\n",
      "[144]\tvalid_0's multi_logloss: 0.132363\tvalid_0's multi_logloss: 0.132363\n",
      "[145]\tvalid_0's multi_logloss: 0.13186\tvalid_0's multi_logloss: 0.13186\n",
      "[146]\tvalid_0's multi_logloss: 0.131829\tvalid_0's multi_logloss: 0.131829\n",
      "[147]\tvalid_0's multi_logloss: 0.13133\tvalid_0's multi_logloss: 0.13133\n",
      "[148]\tvalid_0's multi_logloss: 0.130893\tvalid_0's multi_logloss: 0.130893\n",
      "[149]\tvalid_0's multi_logloss: 0.1306\tvalid_0's multi_logloss: 0.1306\n",
      "[150]\tvalid_0's multi_logloss: 0.13076\tvalid_0's multi_logloss: 0.13076\n",
      "[151]\tvalid_0's multi_logloss: 0.130448\tvalid_0's multi_logloss: 0.130448\n",
      "[152]\tvalid_0's multi_logloss: 0.130252\tvalid_0's multi_logloss: 0.130252\n",
      "[153]\tvalid_0's multi_logloss: 0.129898\tvalid_0's multi_logloss: 0.129898\n",
      "[154]\tvalid_0's multi_logloss: 0.12952\tvalid_0's multi_logloss: 0.12952\n",
      "[155]\tvalid_0's multi_logloss: 0.129319\tvalid_0's multi_logloss: 0.129319\n",
      "[156]\tvalid_0's multi_logloss: 0.129491\tvalid_0's multi_logloss: 0.129491\n",
      "[157]\tvalid_0's multi_logloss: 0.129447\tvalid_0's multi_logloss: 0.129447\n",
      "[158]\tvalid_0's multi_logloss: 0.129118\tvalid_0's multi_logloss: 0.129118\n",
      "[159]\tvalid_0's multi_logloss: 0.128914\tvalid_0's multi_logloss: 0.128914\n",
      "[160]\tvalid_0's multi_logloss: 0.128989\tvalid_0's multi_logloss: 0.128989\n",
      "[161]\tvalid_0's multi_logloss: 0.128611\tvalid_0's multi_logloss: 0.128611\n",
      "[162]\tvalid_0's multi_logloss: 0.12872\tvalid_0's multi_logloss: 0.12872\n",
      "[163]\tvalid_0's multi_logloss: 0.12821\tvalid_0's multi_logloss: 0.12821\n",
      "[164]\tvalid_0's multi_logloss: 0.1277\tvalid_0's multi_logloss: 0.1277\n",
      "[165]\tvalid_0's multi_logloss: 0.127299\tvalid_0's multi_logloss: 0.127299\n",
      "[166]\tvalid_0's multi_logloss: 0.127367\tvalid_0's multi_logloss: 0.127367\n",
      "[167]\tvalid_0's multi_logloss: 0.127334\tvalid_0's multi_logloss: 0.127334\n",
      "[168]\tvalid_0's multi_logloss: 0.127264\tvalid_0's multi_logloss: 0.127264\n",
      "[169]\tvalid_0's multi_logloss: 0.127138\tvalid_0's multi_logloss: 0.127138\n",
      "[170]\tvalid_0's multi_logloss: 0.126633\tvalid_0's multi_logloss: 0.126633\n",
      "[171]\tvalid_0's multi_logloss: 0.126376\tvalid_0's multi_logloss: 0.126376\n",
      "[172]\tvalid_0's multi_logloss: 0.126276\tvalid_0's multi_logloss: 0.126276\n",
      "[173]\tvalid_0's multi_logloss: 0.12632\tvalid_0's multi_logloss: 0.12632\n",
      "[174]\tvalid_0's multi_logloss: 0.126414\tvalid_0's multi_logloss: 0.126414\n",
      "[175]\tvalid_0's multi_logloss: 0.126295\tvalid_0's multi_logloss: 0.126295\n",
      "[176]\tvalid_0's multi_logloss: 0.12569\tvalid_0's multi_logloss: 0.12569\n",
      "[177]\tvalid_0's multi_logloss: 0.125385\tvalid_0's multi_logloss: 0.125385\n",
      "[178]\tvalid_0's multi_logloss: 0.125288\tvalid_0's multi_logloss: 0.125288\n",
      "[179]\tvalid_0's multi_logloss: 0.125749\tvalid_0's multi_logloss: 0.125749\n",
      "[180]\tvalid_0's multi_logloss: 0.125512\tvalid_0's multi_logloss: 0.125512\n",
      "[181]\tvalid_0's multi_logloss: 0.125401\tvalid_0's multi_logloss: 0.125401\n",
      "[182]\tvalid_0's multi_logloss: 0.125356\tvalid_0's multi_logloss: 0.125356\n",
      "[183]\tvalid_0's multi_logloss: 0.124894\tvalid_0's multi_logloss: 0.124894\n",
      "[184]\tvalid_0's multi_logloss: 0.124878\tvalid_0's multi_logloss: 0.124878\n",
      "[185]\tvalid_0's multi_logloss: 0.124609\tvalid_0's multi_logloss: 0.124609\n",
      "[186]\tvalid_0's multi_logloss: 0.124728\tvalid_0's multi_logloss: 0.124728\n",
      "[187]\tvalid_0's multi_logloss: 0.124677\tvalid_0's multi_logloss: 0.124677\n",
      "[188]\tvalid_0's multi_logloss: 0.124551\tvalid_0's multi_logloss: 0.124551\n",
      "[189]\tvalid_0's multi_logloss: 0.124829\tvalid_0's multi_logloss: 0.124829\n",
      "[190]\tvalid_0's multi_logloss: 0.124966\tvalid_0's multi_logloss: 0.124966\n",
      "[191]\tvalid_0's multi_logloss: 0.124864\tvalid_0's multi_logloss: 0.124864\n",
      "[192]\tvalid_0's multi_logloss: 0.124653\tvalid_0's multi_logloss: 0.124653\n",
      "[193]\tvalid_0's multi_logloss: 0.124769\tvalid_0's multi_logloss: 0.124769\n",
      "[194]\tvalid_0's multi_logloss: 0.124672\tvalid_0's multi_logloss: 0.124672\n",
      "[195]\tvalid_0's multi_logloss: 0.124094\tvalid_0's multi_logloss: 0.124094\n",
      "[196]\tvalid_0's multi_logloss: 0.124122\tvalid_0's multi_logloss: 0.124122\n",
      "[197]\tvalid_0's multi_logloss: 0.123532\tvalid_0's multi_logloss: 0.123532\n",
      "[198]\tvalid_0's multi_logloss: 0.1236\tvalid_0's multi_logloss: 0.1236\n",
      "[199]\tvalid_0's multi_logloss: 0.123805\tvalid_0's multi_logloss: 0.123805\n",
      "[200]\tvalid_0's multi_logloss: 0.1235\tvalid_0's multi_logloss: 0.1235\n",
      "[201]\tvalid_0's multi_logloss: 0.123347\tvalid_0's multi_logloss: 0.123347\n",
      "[202]\tvalid_0's multi_logloss: 0.123161\tvalid_0's multi_logloss: 0.123161\n",
      "[203]\tvalid_0's multi_logloss: 0.122984\tvalid_0's multi_logloss: 0.122984\n",
      "[204]\tvalid_0's multi_logloss: 0.122932\tvalid_0's multi_logloss: 0.122932\n",
      "[205]\tvalid_0's multi_logloss: 0.122748\tvalid_0's multi_logloss: 0.122748\n",
      "[206]\tvalid_0's multi_logloss: 0.123024\tvalid_0's multi_logloss: 0.123024\n",
      "[207]\tvalid_0's multi_logloss: 0.123105\tvalid_0's multi_logloss: 0.123105\n",
      "[208]\tvalid_0's multi_logloss: 0.12271\tvalid_0's multi_logloss: 0.12271\n",
      "[209]\tvalid_0's multi_logloss: 0.122559\tvalid_0's multi_logloss: 0.122559\n",
      "[210]\tvalid_0's multi_logloss: 0.122695\tvalid_0's multi_logloss: 0.122695\n",
      "[211]\tvalid_0's multi_logloss: 0.122574\tvalid_0's multi_logloss: 0.122574\n",
      "[212]\tvalid_0's multi_logloss: 0.122201\tvalid_0's multi_logloss: 0.122201\n",
      "[213]\tvalid_0's multi_logloss: 0.122235\tvalid_0's multi_logloss: 0.122235\n",
      "[214]\tvalid_0's multi_logloss: 0.121961\tvalid_0's multi_logloss: 0.121961\n",
      "[215]\tvalid_0's multi_logloss: 0.121851\tvalid_0's multi_logloss: 0.121851\n",
      "[216]\tvalid_0's multi_logloss: 0.121604\tvalid_0's multi_logloss: 0.121604\n",
      "[217]\tvalid_0's multi_logloss: 0.12131\tvalid_0's multi_logloss: 0.12131\n",
      "[218]\tvalid_0's multi_logloss: 0.121719\tvalid_0's multi_logloss: 0.121719\n",
      "[219]\tvalid_0's multi_logloss: 0.121868\tvalid_0's multi_logloss: 0.121868\n",
      "[220]\tvalid_0's multi_logloss: 0.121941\tvalid_0's multi_logloss: 0.121941\n",
      "[221]\tvalid_0's multi_logloss: 0.121532\tvalid_0's multi_logloss: 0.121532\n",
      "[222]\tvalid_0's multi_logloss: 0.121617\tvalid_0's multi_logloss: 0.121617\n",
      "[223]\tvalid_0's multi_logloss: 0.121443\tvalid_0's multi_logloss: 0.121443\n",
      "[224]\tvalid_0's multi_logloss: 0.121342\tvalid_0's multi_logloss: 0.121342\n",
      "[225]\tvalid_0's multi_logloss: 0.121223\tvalid_0's multi_logloss: 0.121223\n",
      "[226]\tvalid_0's multi_logloss: 0.120817\tvalid_0's multi_logloss: 0.120817\n",
      "[227]\tvalid_0's multi_logloss: 0.120599\tvalid_0's multi_logloss: 0.120599\n",
      "[228]\tvalid_0's multi_logloss: 0.120564\tvalid_0's multi_logloss: 0.120564\n",
      "[229]\tvalid_0's multi_logloss: 0.120846\tvalid_0's multi_logloss: 0.120846\n",
      "[230]\tvalid_0's multi_logloss: 0.120695\tvalid_0's multi_logloss: 0.120695\n",
      "[231]\tvalid_0's multi_logloss: 0.120782\tvalid_0's multi_logloss: 0.120782\n",
      "[232]\tvalid_0's multi_logloss: 0.120801\tvalid_0's multi_logloss: 0.120801\n",
      "[233]\tvalid_0's multi_logloss: 0.120633\tvalid_0's multi_logloss: 0.120633\n",
      "[234]\tvalid_0's multi_logloss: 0.120588\tvalid_0's multi_logloss: 0.120588\n",
      "[235]\tvalid_0's multi_logloss: 0.120452\tvalid_0's multi_logloss: 0.120452\n",
      "[236]\tvalid_0's multi_logloss: 0.120448\tvalid_0's multi_logloss: 0.120448\n",
      "[237]\tvalid_0's multi_logloss: 0.120289\tvalid_0's multi_logloss: 0.120289\n",
      "[238]\tvalid_0's multi_logloss: 0.120382\tvalid_0's multi_logloss: 0.120382\n",
      "[239]\tvalid_0's multi_logloss: 0.12036\tvalid_0's multi_logloss: 0.12036\n",
      "[240]\tvalid_0's multi_logloss: 0.120573\tvalid_0's multi_logloss: 0.120573\n",
      "[241]\tvalid_0's multi_logloss: 0.120571\tvalid_0's multi_logloss: 0.120571\n",
      "[242]\tvalid_0's multi_logloss: 0.120683\tvalid_0's multi_logloss: 0.120683\n",
      "[243]\tvalid_0's multi_logloss: 0.120835\tvalid_0's multi_logloss: 0.120835\n",
      "[244]\tvalid_0's multi_logloss: 0.120098\tvalid_0's multi_logloss: 0.120098\n",
      "[245]\tvalid_0's multi_logloss: 0.120231\tvalid_0's multi_logloss: 0.120231\n",
      "[246]\tvalid_0's multi_logloss: 0.120044\tvalid_0's multi_logloss: 0.120044\n",
      "[247]\tvalid_0's multi_logloss: 0.119978\tvalid_0's multi_logloss: 0.119978\n",
      "[248]\tvalid_0's multi_logloss: 0.120025\tvalid_0's multi_logloss: 0.120025\n",
      "[249]\tvalid_0's multi_logloss: 0.119837\tvalid_0's multi_logloss: 0.119837\n",
      "[250]\tvalid_0's multi_logloss: 0.119683\tvalid_0's multi_logloss: 0.119683\n",
      "[251]\tvalid_0's multi_logloss: 0.119553\tvalid_0's multi_logloss: 0.119553\n",
      "[252]\tvalid_0's multi_logloss: 0.11964\tvalid_0's multi_logloss: 0.11964\n",
      "[253]\tvalid_0's multi_logloss: 0.119889\tvalid_0's multi_logloss: 0.119889\n",
      "[254]\tvalid_0's multi_logloss: 0.119558\tvalid_0's multi_logloss: 0.119558\n",
      "[255]\tvalid_0's multi_logloss: 0.1195\tvalid_0's multi_logloss: 0.1195\n",
      "[256]\tvalid_0's multi_logloss: 0.119306\tvalid_0's multi_logloss: 0.119306\n",
      "[257]\tvalid_0's multi_logloss: 0.118924\tvalid_0's multi_logloss: 0.118924\n",
      "[258]\tvalid_0's multi_logloss: 0.118715\tvalid_0's multi_logloss: 0.118715\n",
      "[259]\tvalid_0's multi_logloss: 0.118849\tvalid_0's multi_logloss: 0.118849\n",
      "[260]\tvalid_0's multi_logloss: 0.11902\tvalid_0's multi_logloss: 0.11902\n",
      "[261]\tvalid_0's multi_logloss: 0.118871\tvalid_0's multi_logloss: 0.118871\n",
      "[262]\tvalid_0's multi_logloss: 0.119037\tvalid_0's multi_logloss: 0.119037\n",
      "[263]\tvalid_0's multi_logloss: 0.119066\tvalid_0's multi_logloss: 0.119066\n",
      "[264]\tvalid_0's multi_logloss: 0.119182\tvalid_0's multi_logloss: 0.119182\n",
      "[265]\tvalid_0's multi_logloss: 0.118915\tvalid_0's multi_logloss: 0.118915\n",
      "[266]\tvalid_0's multi_logloss: 0.119161\tvalid_0's multi_logloss: 0.119161\n",
      "[267]\tvalid_0's multi_logloss: 0.119122\tvalid_0's multi_logloss: 0.119122\n",
      "[268]\tvalid_0's multi_logloss: 0.119039\tvalid_0's multi_logloss: 0.119039\n",
      "[269]\tvalid_0's multi_logloss: 0.119204\tvalid_0's multi_logloss: 0.119204\n",
      "[270]\tvalid_0's multi_logloss: 0.119049\tvalid_0's multi_logloss: 0.119049\n",
      "[271]\tvalid_0's multi_logloss: 0.119109\tvalid_0's multi_logloss: 0.119109\n",
      "[272]\tvalid_0's multi_logloss: 0.119161\tvalid_0's multi_logloss: 0.119161\n",
      "[273]\tvalid_0's multi_logloss: 0.119098\tvalid_0's multi_logloss: 0.119098\n",
      "[274]\tvalid_0's multi_logloss: 0.119416\tvalid_0's multi_logloss: 0.119416\n",
      "[275]\tvalid_0's multi_logloss: 0.119189\tvalid_0's multi_logloss: 0.119189\n",
      "[276]\tvalid_0's multi_logloss: 0.119148\tvalid_0's multi_logloss: 0.119148\n",
      "[277]\tvalid_0's multi_logloss: 0.118916\tvalid_0's multi_logloss: 0.118916\n",
      "[278]\tvalid_0's multi_logloss: 0.119085\tvalid_0's multi_logloss: 0.119085\n",
      "[279]\tvalid_0's multi_logloss: 0.119456\tvalid_0's multi_logloss: 0.119456\n",
      "[280]\tvalid_0's multi_logloss: 0.119362\tvalid_0's multi_logloss: 0.119362\n",
      "[281]\tvalid_0's multi_logloss: 0.119415\tvalid_0's multi_logloss: 0.119415\n",
      "[282]\tvalid_0's multi_logloss: 0.119463\tvalid_0's multi_logloss: 0.119463\n",
      "[283]\tvalid_0's multi_logloss: 0.119483\tvalid_0's multi_logloss: 0.119483\n",
      "[284]\tvalid_0's multi_logloss: 0.119579\tvalid_0's multi_logloss: 0.119579\n",
      "[285]\tvalid_0's multi_logloss: 0.119833\tvalid_0's multi_logloss: 0.119833\n",
      "[286]\tvalid_0's multi_logloss: 0.119664\tvalid_0's multi_logloss: 0.119664\n",
      "[287]\tvalid_0's multi_logloss: 0.119651\tvalid_0's multi_logloss: 0.119651\n",
      "[288]\tvalid_0's multi_logloss: 0.119623\tvalid_0's multi_logloss: 0.119623\n",
      "[289]\tvalid_0's multi_logloss: 0.119804\tvalid_0's multi_logloss: 0.119804\n",
      "[290]\tvalid_0's multi_logloss: 0.119884\tvalid_0's multi_logloss: 0.119884\n",
      "[291]\tvalid_0's multi_logloss: 0.11999\tvalid_0's multi_logloss: 0.11999\n",
      "[292]\tvalid_0's multi_logloss: 0.120044\tvalid_0's multi_logloss: 0.120044\n",
      "[293]\tvalid_0's multi_logloss: 0.12004\tvalid_0's multi_logloss: 0.12004\n",
      "[294]\tvalid_0's multi_logloss: 0.119989\tvalid_0's multi_logloss: 0.119989\n",
      "[295]\tvalid_0's multi_logloss: 0.120365\tvalid_0's multi_logloss: 0.120365\n",
      "[296]\tvalid_0's multi_logloss: 0.120686\tvalid_0's multi_logloss: 0.120686\n",
      "[297]\tvalid_0's multi_logloss: 0.120767\tvalid_0's multi_logloss: 0.120767\n",
      "[298]\tvalid_0's multi_logloss: 0.120984\tvalid_0's multi_logloss: 0.120984\n",
      "[299]\tvalid_0's multi_logloss: 0.121057\tvalid_0's multi_logloss: 0.121057\n",
      "[300]\tvalid_0's multi_logloss: 0.121159\tvalid_0's multi_logloss: 0.121159\n",
      "[301]\tvalid_0's multi_logloss: 0.121209\tvalid_0's multi_logloss: 0.121209\n",
      "[302]\tvalid_0's multi_logloss: 0.12127\tvalid_0's multi_logloss: 0.12127\n",
      "[303]\tvalid_0's multi_logloss: 0.12116\tvalid_0's multi_logloss: 0.12116\n",
      "[304]\tvalid_0's multi_logloss: 0.120795\tvalid_0's multi_logloss: 0.120795\n",
      "[305]\tvalid_0's multi_logloss: 0.120597\tvalid_0's multi_logloss: 0.120597\n",
      "[306]\tvalid_0's multi_logloss: 0.120686\tvalid_0's multi_logloss: 0.120686\n",
      "[307]\tvalid_0's multi_logloss: 0.120764\tvalid_0's multi_logloss: 0.120764\n",
      "[308]\tvalid_0's multi_logloss: 0.120916\tvalid_0's multi_logloss: 0.120916\n",
      "[309]\tvalid_0's multi_logloss: 0.121068\tvalid_0's multi_logloss: 0.121068\n",
      "[310]\tvalid_0's multi_logloss: 0.120904\tvalid_0's multi_logloss: 0.120904\n",
      "[311]\tvalid_0's multi_logloss: 0.121128\tvalid_0's multi_logloss: 0.121128\n",
      "[312]\tvalid_0's multi_logloss: 0.121565\tvalid_0's multi_logloss: 0.121565\n",
      "[313]\tvalid_0's multi_logloss: 0.121905\tvalid_0's multi_logloss: 0.121905\n",
      "[314]\tvalid_0's multi_logloss: 0.121904\tvalid_0's multi_logloss: 0.121904\n",
      "[315]\tvalid_0's multi_logloss: 0.121923\tvalid_0's multi_logloss: 0.121923\n",
      "[316]\tvalid_0's multi_logloss: 0.122072\tvalid_0's multi_logloss: 0.122072\n",
      "[317]\tvalid_0's multi_logloss: 0.122104\tvalid_0's multi_logloss: 0.122104\n",
      "[318]\tvalid_0's multi_logloss: 0.122091\tvalid_0's multi_logloss: 0.122091\n",
      "[319]\tvalid_0's multi_logloss: 0.122128\tvalid_0's multi_logloss: 0.122128\n",
      "[320]\tvalid_0's multi_logloss: 0.12221\tvalid_0's multi_logloss: 0.12221\n",
      "[321]\tvalid_0's multi_logloss: 0.121961\tvalid_0's multi_logloss: 0.121961\n",
      "[322]\tvalid_0's multi_logloss: 0.122294\tvalid_0's multi_logloss: 0.122294\n",
      "[323]\tvalid_0's multi_logloss: 0.122401\tvalid_0's multi_logloss: 0.122401\n",
      "[324]\tvalid_0's multi_logloss: 0.122293\tvalid_0's multi_logloss: 0.122293\n",
      "[325]\tvalid_0's multi_logloss: 0.122288\tvalid_0's multi_logloss: 0.122288\n",
      "[326]\tvalid_0's multi_logloss: 0.122055\tvalid_0's multi_logloss: 0.122055\n",
      "[327]\tvalid_0's multi_logloss: 0.12192\tvalid_0's multi_logloss: 0.12192\n",
      "[328]\tvalid_0's multi_logloss: 0.122093\tvalid_0's multi_logloss: 0.122093\n",
      "[329]\tvalid_0's multi_logloss: 0.122151\tvalid_0's multi_logloss: 0.122151\n",
      "[330]\tvalid_0's multi_logloss: 0.122203\tvalid_0's multi_logloss: 0.122203\n",
      "[331]\tvalid_0's multi_logloss: 0.121945\tvalid_0's multi_logloss: 0.121945\n",
      "[332]\tvalid_0's multi_logloss: 0.121768\tvalid_0's multi_logloss: 0.121768\n",
      "[333]\tvalid_0's multi_logloss: 0.121936\tvalid_0's multi_logloss: 0.121936\n",
      "[334]\tvalid_0's multi_logloss: 0.122074\tvalid_0's multi_logloss: 0.122074\n",
      "[335]\tvalid_0's multi_logloss: 0.122158\tvalid_0's multi_logloss: 0.122158\n",
      "[336]\tvalid_0's multi_logloss: 0.122337\tvalid_0's multi_logloss: 0.122337\n",
      "[337]\tvalid_0's multi_logloss: 0.122346\tvalid_0's multi_logloss: 0.122346\n",
      "[338]\tvalid_0's multi_logloss: 0.122501\tvalid_0's multi_logloss: 0.122501\n",
      "[339]\tvalid_0's multi_logloss: 0.122885\tvalid_0's multi_logloss: 0.122885\n",
      "[340]\tvalid_0's multi_logloss: 0.123048\tvalid_0's multi_logloss: 0.123048\n",
      "[341]\tvalid_0's multi_logloss: 0.123238\tvalid_0's multi_logloss: 0.123238\n",
      "[342]\tvalid_0's multi_logloss: 0.12343\tvalid_0's multi_logloss: 0.12343\n",
      "[343]\tvalid_0's multi_logloss: 0.123287\tvalid_0's multi_logloss: 0.123287\n",
      "[344]\tvalid_0's multi_logloss: 0.12349\tvalid_0's multi_logloss: 0.12349\n",
      "[345]\tvalid_0's multi_logloss: 0.123759\tvalid_0's multi_logloss: 0.123759\n",
      "[346]\tvalid_0's multi_logloss: 0.123815\tvalid_0's multi_logloss: 0.123815\n",
      "[347]\tvalid_0's multi_logloss: 0.123699\tvalid_0's multi_logloss: 0.123699\n",
      "[348]\tvalid_0's multi_logloss: 0.123711\tvalid_0's multi_logloss: 0.123711\n",
      "[349]\tvalid_0's multi_logloss: 0.123848\tvalid_0's multi_logloss: 0.123848\n",
      "[350]\tvalid_0's multi_logloss: 0.123954\tvalid_0's multi_logloss: 0.123954\n",
      "[351]\tvalid_0's multi_logloss: 0.124028\tvalid_0's multi_logloss: 0.124028\n",
      "[352]\tvalid_0's multi_logloss: 0.124164\tvalid_0's multi_logloss: 0.124164\n",
      "[353]\tvalid_0's multi_logloss: 0.124438\tvalid_0's multi_logloss: 0.124438\n",
      "[354]\tvalid_0's multi_logloss: 0.124492\tvalid_0's multi_logloss: 0.124492\n",
      "[355]\tvalid_0's multi_logloss: 0.124625\tvalid_0's multi_logloss: 0.124625\n",
      "[356]\tvalid_0's multi_logloss: 0.124922\tvalid_0's multi_logloss: 0.124922\n",
      "[357]\tvalid_0's multi_logloss: 0.12501\tvalid_0's multi_logloss: 0.12501\n",
      "[358]\tvalid_0's multi_logloss: 0.125292\tvalid_0's multi_logloss: 0.125292\n",
      "Early stopping, best iteration is:\n",
      "[258]\tvalid_0's multi_logloss: 0.118715\tvalid_0's multi_logloss: 0.118715\n",
      "예측정확도:0.9574\n"
     ]
    }
   ],
   "source": [
    "#최적의 파라미터로 재모델링\n",
    "lgb_clf1 = LGBMClassifier(random_state=0, learning_rate= 0.1, max_depth= 128, min_child_samples= 60, num_leaves= 32,\n",
    "                          subsample= 0.8, n_estimators= 500)\n",
    "evals = [(X_test, y_test)]\n",
    "lgb_clf1.fit(X_train, y_train, eval_metric='logloss',eval_set=evals,verbose=True,early_stopping_rounds=100) #merror, eval_set=evals,early_stopping_rounds=100\n",
    "lgb_clf1.fit(X_train,y_train)\n",
    "pred = lgb_clf1.predict(X_test)\n",
    "print('예측정확도:{0:.4f}'.format(accuracy_score(y_test,pred)))"
   ]
  },
  {
   "cell_type": "code",
   "execution_count": 258,
   "metadata": {
    "scrolled": true
   },
   "outputs": [
    {
     "data": {
      "text/plain": [
       "<matplotlib.axes._subplots.AxesSubplot at 0x1895d19ba58>"
      ]
     },
     "execution_count": 258,
     "metadata": {},
     "output_type": "execute_result"
    },
    {
     "data": {
      "image/png": "[encoded data removed]",
      "text/plain": [
       "<Figure size 576x432 with 1 Axes>"
      ]
     },
     "metadata": {
      "needs_background": "light"
     },
     "output_type": "display_data"
    }
   ],
   "source": [
    "#특성값 중 상위 20위 확인\n",
    "ftr_importances_values=lgb_clf1.feature_importances_\n",
    "ftr_importances = pd.Series(ftr_importances_values, index=Xtrain.columns)\n",
    "ftr_top20 = ftr_importances.sort_values(ascending=False)[:20]\n",
    "\n",
    "plt.figure(figsize=(8,6))\n",
    "plt.title('Feature importances Top 20')\n",
    "sns.barplot(x=ftr_top20, y = ftr_top20.index)"
   ]
  },
  {
   "cell_type": "code",
   "execution_count": 259,
   "metadata": {
    "scrolled": true
   },
   "outputs": [
    {
     "data": {
      "text/plain": [
       "<matplotlib.axes._subplots.AxesSubplot at 0x189609be278>"
      ]
     },
     "execution_count": 259,
     "metadata": {},
     "output_type": "execute_result"
    },
    {
     "data": {
      "image/png": "[encoded data removed]",
      "text/plain": [
       "<Figure size 720x864 with 1 Axes>"
      ]
     },
     "metadata": {
      "needs_background": "light"
     },
     "output_type": "display_data"
    }
   ],
   "source": [
    "#plot_importance로 피처 중요도 시각화\n",
    "from lightgbm import plot_importance\n",
    "fig, ax = plt.subplots(figsize=(10, 12))\n",
    "plot_importance(lgb_clf1, ax=ax)"
   ]
  },
  {
   "cell_type": "markdown",
   "metadata": {},
   "source": [
    "1. 과거에 했었던 파일 확인해서 결과값 확인할 수 있는 표 작성하기\n",
    " <br>1.1 backup_namuk_rest/ python_project\n",
    "2. 원본데이터로 돌려보기\n",
    "3. 출력된 결과값 정리하기\n"
   ]
  },
  {
   "cell_type": "code",
   "execution_count": null,
   "metadata": {},
   "outputs": [],
   "source": []
  }
 ],
 "metadata": {
  "kernelspec": {
   "display_name": "Python 3",
   "language": "python",
   "name": "python3"
  },
  "language_info": {
   "codemirror_mode": {
    "name": "ipython",
    "version": 3
   },
   "file_extension": ".py",
   "mimetype": "text/x-python",
   "name": "python",
   "nbconvert_exporter": "python",
   "pygments_lexer": "ipython3",
   "version": "3.7.2"
  }
 },
 "nbformat": 4,
 "nbformat_minor": 2
}
