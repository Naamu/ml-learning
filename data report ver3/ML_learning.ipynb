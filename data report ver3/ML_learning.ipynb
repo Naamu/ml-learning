{
 "cells": [
  {
   "cell_type": "code",
   "execution_count": 2,
   "metadata": {},
   "outputs": [
    {
     "data": {
      "text/html": [
       "<script type=\"text/javascript\">window.PlotlyConfig = {MathJaxConfig: 'local'};</script><script type=\"text/javascript\">if (window.MathJax) {MathJax.Hub.Config({SVG: {font: \"STIX-Web\"}});}</script><script>requirejs.config({paths: { 'plotly': ['https://cdn.plot.ly/plotly-latest.min']},});if(!window._Plotly) {require(['plotly'],function(plotly) {window._Plotly=plotly;});}</script>"
      ],
      "text/vnd.plotly.v1+html": [
       "<script type=\"text/javascript\">window.PlotlyConfig = {MathJaxConfig: 'local'};</script><script type=\"text/javascript\">if (window.MathJax) {MathJax.Hub.Config({SVG: {font: \"STIX-Web\"}});}</script><script>requirejs.config({paths: { 'plotly': ['https://cdn.plot.ly/plotly-latest.min']},});if(!window._Plotly) {require(['plotly'],function(plotly) {window._Plotly=plotly;});}</script>"
      ]
     },
     "metadata": {},
     "output_type": "display_data"
    }
   ],
   "source": [
    "import pandas as pd\n",
    "import seaborn as sns\n",
    "import numpy as np\n",
    "from sklearn.tree import DecisionTreeClassifier\n",
    "from sklearn.model_selection import train_test_split, KFold\n",
    "from sklearn.metrics import accuracy_score, precision_score, recall_score, confusion_matrix, f1_score, classification_report\n",
    "from sklearn.preprocessing import StandardScaler, LabelEncoder\n",
    "from sklearn.decomposition import PCA\n",
    "from sklearn.manifold import TSNE\n",
    "from sklearn.utils.testing import all_estimators\n",
    "import matplotlib.pyplot as plt\n",
    "from matplotlib.cm import get_cmap\n",
    "from matplotlib.colors import rgb2hex\n",
    "import os\n",
    "import pydot\n",
    "from PIL import Image\n",
    "import requests, zipfile, io\n",
    "import time\n",
    "import warnings\n",
    "warnings.filterwarnings('ignore')\n",
    "import plotly.graph_objs as go\n",
    "from plotly.offline import init_notebook_mode, iplot\n",
    "init_notebook_mode(connected=True)\n",
    "\n",
    "plt.rcParams['font.family'] = 'Malgun Gothic'\n",
    "plt.rcParams['axes.unicode_minus']=False\n",
    "\n",
    "%matplotlib inline"
   ]
  },
  {
   "cell_type": "code",
   "execution_count": 19,
   "metadata": {
    "scrolled": true
   },
   "outputs": [],
   "source": [
    "data = pd.read_csv(\"k:/sensor_report/data/data_ver3/data.csv\", encoding='utf-8')\n",
    "data = data.rename(columns = {'Unnamed: 0': 'index'})\n",
    "data = data.set_index('index')"
   ]
  },
  {
   "cell_type": "code",
   "execution_count": 20,
   "metadata": {
    "scrolled": true
   },
   "outputs": [
    {
     "data": {
      "text/html": [
       "<div>\n",
       "<style scoped>\n",
       "    .dataframe tbody tr th:only-of-type {\n",
       "        vertical-align: middle;\n",
       "    }\n",
       "\n",
       "    .dataframe tbody tr th {\n",
       "        vertical-align: top;\n",
       "    }\n",
       "\n",
       "    .dataframe thead th {\n",
       "        text-align: right;\n",
       "    }\n",
       "</style>\n",
       "<table border=\"1\" class=\"dataframe\">\n",
       "  <thead>\n",
       "    <tr style=\"text-align: right;\">\n",
       "      <th></th>\n",
       "      <th>Time1</th>\n",
       "      <th>Time2</th>\n",
       "      <th>l1</th>\n",
       "      <th>l2</th>\n",
       "      <th>l3</th>\n",
       "      <th>l4</th>\n",
       "      <th>l5</th>\n",
       "      <th>l6</th>\n",
       "      <th>l7</th>\n",
       "      <th>r1</th>\n",
       "      <th>...</th>\n",
       "      <th>R6</th>\n",
       "      <th>R7</th>\n",
       "      <th>LSUM</th>\n",
       "      <th>RSUM</th>\n",
       "      <th>ASUM</th>\n",
       "      <th>Iabel_act</th>\n",
       "      <th>label_load</th>\n",
       "      <th>label_sub</th>\n",
       "      <th>label_weight</th>\n",
       "      <th>label_all</th>\n",
       "    </tr>\n",
       "    <tr>\n",
       "      <th>index</th>\n",
       "      <th></th>\n",
       "      <th></th>\n",
       "      <th></th>\n",
       "      <th></th>\n",
       "      <th></th>\n",
       "      <th></th>\n",
       "      <th></th>\n",
       "      <th></th>\n",
       "      <th></th>\n",
       "      <th></th>\n",
       "      <th></th>\n",
       "      <th></th>\n",
       "      <th></th>\n",
       "      <th></th>\n",
       "      <th></th>\n",
       "      <th></th>\n",
       "      <th></th>\n",
       "      <th></th>\n",
       "      <th></th>\n",
       "      <th></th>\n",
       "      <th></th>\n",
       "    </tr>\n",
       "  </thead>\n",
       "  <tbody>\n",
       "    <tr>\n",
       "      <th>0</th>\n",
       "      <td>21:41:08.4754657</td>\n",
       "      <td>21:41:08.4754657</td>\n",
       "      <td>1.0</td>\n",
       "      <td>1.0</td>\n",
       "      <td>1.0</td>\n",
       "      <td>75.0</td>\n",
       "      <td>90.0</td>\n",
       "      <td>80.0</td>\n",
       "      <td>87.0</td>\n",
       "      <td>84.0</td>\n",
       "      <td>...</td>\n",
       "      <td>1.190588</td>\n",
       "      <td>1.708235</td>\n",
       "      <td>4.335294</td>\n",
       "      <td>11.310588</td>\n",
       "      <td>15.645882</td>\n",
       "      <td>1.0</td>\n",
       "      <td>0kg</td>\n",
       "      <td>A</td>\n",
       "      <td>83kg</td>\n",
       "      <td>1_0kg_A_83kg</td>\n",
       "    </tr>\n",
       "    <tr>\n",
       "      <th>1</th>\n",
       "      <td>21:41:08.4754657</td>\n",
       "      <td>21:41:08.5067156</td>\n",
       "      <td>1.0</td>\n",
       "      <td>1.0</td>\n",
       "      <td>1.0</td>\n",
       "      <td>74.0</td>\n",
       "      <td>90.0</td>\n",
       "      <td>80.0</td>\n",
       "      <td>87.0</td>\n",
       "      <td>84.0</td>\n",
       "      <td>...</td>\n",
       "      <td>1.177647</td>\n",
       "      <td>1.708235</td>\n",
       "      <td>4.322353</td>\n",
       "      <td>11.297647</td>\n",
       "      <td>15.620000</td>\n",
       "      <td>1.0</td>\n",
       "      <td>0kg</td>\n",
       "      <td>A</td>\n",
       "      <td>83kg</td>\n",
       "      <td>1_0kg_A_83kg</td>\n",
       "    </tr>\n",
       "    <tr>\n",
       "      <th>2</th>\n",
       "      <td>21:41:08.4754657</td>\n",
       "      <td>21:41:08.5223356</td>\n",
       "      <td>1.0</td>\n",
       "      <td>1.0</td>\n",
       "      <td>1.0</td>\n",
       "      <td>74.0</td>\n",
       "      <td>90.0</td>\n",
       "      <td>80.0</td>\n",
       "      <td>88.0</td>\n",
       "      <td>84.0</td>\n",
       "      <td>...</td>\n",
       "      <td>1.177647</td>\n",
       "      <td>1.708235</td>\n",
       "      <td>4.335294</td>\n",
       "      <td>11.297647</td>\n",
       "      <td>15.632941</td>\n",
       "      <td>1.0</td>\n",
       "      <td>0kg</td>\n",
       "      <td>A</td>\n",
       "      <td>83kg</td>\n",
       "      <td>1_0kg_A_83kg</td>\n",
       "    </tr>\n",
       "  </tbody>\n",
       "</table>\n",
       "<p>3 rows × 38 columns</p>\n",
       "</div>"
      ],
      "text/plain": [
       "                  Time1             Time2   l1   l2   l3    l4    l5    l6  \\\n",
       "index                                                                        \n",
       "0      21:41:08.4754657  21:41:08.4754657  1.0  1.0  1.0  75.0  90.0  80.0   \n",
       "1      21:41:08.4754657  21:41:08.5067156  1.0  1.0  1.0  74.0  90.0  80.0   \n",
       "2      21:41:08.4754657  21:41:08.5223356  1.0  1.0  1.0  74.0  90.0  80.0   \n",
       "\n",
       "         l7    r1  ...        R6        R7      LSUM       RSUM       ASUM  \\\n",
       "index              ...                                                       \n",
       "0      87.0  84.0  ...  1.190588  1.708235  4.335294  11.310588  15.645882   \n",
       "1      87.0  84.0  ...  1.177647  1.708235  4.322353  11.297647  15.620000   \n",
       "2      88.0  84.0  ...  1.177647  1.708235  4.335294  11.297647  15.632941   \n",
       "\n",
       "       Iabel_act  label_load  label_sub  label_weight     label_all  \n",
       "index                                                                \n",
       "0            1.0         0kg          A          83kg  1_0kg_A_83kg  \n",
       "1            1.0         0kg          A          83kg  1_0kg_A_83kg  \n",
       "2            1.0         0kg          A          83kg  1_0kg_A_83kg  \n",
       "\n",
       "[3 rows x 38 columns]"
      ]
     },
     "execution_count": 20,
     "metadata": {},
     "output_type": "execute_result"
    }
   ],
   "source": [
    "data.head(3)"
   ]
  },
  {
   "cell_type": "code",
   "execution_count": 21,
   "metadata": {
    "scrolled": true
   },
   "outputs": [
    {
     "data": {
      "text/plain": [
       "Index(['Time1', 'Time2', 'l1', 'l2', 'l3', 'l4', 'l5', 'l6', 'l7', 'r1', 'r2',\n",
       "       'r3', 'r4', 'r5', 'r6', 'r7', 'L1', 'L2', 'L3', 'L4', 'L5', 'L6', 'L7',\n",
       "       'R1', 'R2', 'R3', 'R4', 'R5', 'R6', 'R7', 'LSUM', 'RSUM', 'ASUM',\n",
       "       'Iabel_act', 'label_load', 'label_sub', 'label_weight', 'label_all'],\n",
       "      dtype='object')"
      ]
     },
     "execution_count": 21,
     "metadata": {},
     "output_type": "execute_result"
    }
   ],
   "source": [
    "data.columns"
   ]
  },
  {
   "cell_type": "code",
   "execution_count": 22,
   "metadata": {
    "collapsed": true
   },
   "outputs": [
    {
     "data": {
      "text/plain": [
       "Time1           0\n",
       "Time2           0\n",
       "l1              0\n",
       "l2              0\n",
       "l3              0\n",
       "l4              0\n",
       "l5              0\n",
       "l6              0\n",
       "l7              0\n",
       "r1              0\n",
       "r2              0\n",
       "r3              0\n",
       "r4              0\n",
       "r5              0\n",
       "r6              0\n",
       "r7              0\n",
       "L1              0\n",
       "L2              0\n",
       "L3              0\n",
       "L4              0\n",
       "L5              0\n",
       "L6              0\n",
       "L7              0\n",
       "R1              0\n",
       "R2              0\n",
       "R3              0\n",
       "R4              0\n",
       "R5              0\n",
       "R6              0\n",
       "R7              0\n",
       "LSUM            0\n",
       "RSUM            0\n",
       "ASUM            0\n",
       "Iabel_act       0\n",
       "label_load      0\n",
       "label_sub       0\n",
       "label_weight    0\n",
       "label_all       0\n",
       "dtype: int64"
      ]
     },
     "execution_count": 22,
     "metadata": {},
     "output_type": "execute_result"
    }
   ],
   "source": [
    "pd.isnull(data).sum()"
   ]
  },
  {
   "cell_type": "code",
   "execution_count": 23,
   "metadata": {},
   "outputs": [],
   "source": [
    "y = data.loc[:,\"label_load\"]"
   ]
  },
  {
   "cell_type": "code",
   "execution_count": 24,
   "metadata": {},
   "outputs": [],
   "source": [
    "x = data.loc[:,['l1', 'l2', 'l3', 'l4', 'l5', 'l6', 'l7', 'r1', 'r2',\n",
    "       'r3', 'r4', 'r5', 'r6', 'r7', 'L1', 'L2', 'L3', 'L4', 'L5', 'L6', 'L7',\n",
    "       'R1', 'R2', 'R3', 'R4', 'R5', 'R6', 'R7', 'LSUM', 'RSUM', 'ASUM']]"
   ]
  },
  {
   "cell_type": "code",
   "execution_count": null,
   "metadata": {},
   "outputs": [],
   "source": [
    "x_train,x_test, y_train, y_test = train_test_split(x,y, test_size=0.2,\n",
    "                                                  train_size = 0.8, shuffle=True)\n",
    "# 일부만 사용하기 10% data[::10]"
   ]
  },
  {
   "cell_type": "code",
   "execution_count": 29,
   "metadata": {},
   "outputs": [
    {
     "name": "stdout",
     "output_type": "stream",
     "text": [
      "랜덤포레스트 정확도 : 0.9685\n",
      "RandomForestClassifier 수행시간 : 89.7510초\n"
     ]
    }
   ],
   "source": [
    "from sklearn.ensemble import RandomForestClassifier\n",
    "start_time =time.time()\n",
    "rf_clf = RandomForestClassifier(random_state=0)\n",
    "rf_clf.fit(x_train, y_train)\n",
    "pred = rf_clf.predict(x_test)\n",
    "accuracy=accuracy_score(y_test,pred)\n",
    "print('랜덤포레스트 정확도 : {0:.4f}'.format(accuracy))\n",
    "print(\"RandomForestClassifier 수행시간 : {0:1.4f}초\".format(time.time()-start_time))"
   ]
  },
  {
   "cell_type": "code",
   "execution_count": 31,
   "metadata": {},
   "outputs": [
    {
     "name": "stdout",
     "output_type": "stream",
     "text": [
      "XGBClassifier 정확도:0.6590\n",
      "XGBClassifier 수행시간 : 1079.1134초\n"
     ]
    }
   ],
   "source": [
    "#사이킷런 래퍼 SGBoost 클래스인 XGBClassifier임포트\n",
    "from xgboost import XGBClassifier\n",
    "start_time =time.time()\n",
    "xgb_clf = XGBClassifier(random_state=0)\n",
    "xgb_clf.fit(x_train,y_train)\n",
    "pred = xgb_clf.predict(x_test)\n",
    "accuracy=accuracy_score(y_test,pred)\n",
    "print('XGBClassifier 정확도:{0:.4f}'.format(accuracy))\n",
    "print(\"XGBClassifier 수행시간 : {0:1.4f}초\".format(time.time()-start_time))\n",
    "#print('XGBClassifier 기본 하이퍼 파라미터:\\n',xgb_clf.get_params())"
   ]
  },
  {
   "cell_type": "code",
   "execution_count": 32,
   "metadata": {},
   "outputs": [
    {
     "name": "stdout",
     "output_type": "stream",
     "text": [
      "LGBMClassifier 정확도:0.8007\n",
      "LGBMClassifier 수행시간 : 65.0921초\n"
     ]
    }
   ],
   "source": [
    "from lightgbm import LGBMClassifier\n",
    "start_time =time.time()\n",
    "lgbm_clf = LGBMClassifier(random_state=0)\n",
    "lgbm_clf.fit(x_train, y_train)\n",
    "pred = lgbm_clf.predict(x_test)\n",
    "accuracy=accuracy_score(y_test,pred)\n",
    "print('LGBMClassifier 정확도:{0:.4f}'.format(accuracy))\n",
    "print(\"LGBMClassifier 수행시간 : {0:1.4f}초\".format(time.time()-start_time))\n",
    "#print('LGBMClassifier 기본 하이퍼 파라미터:\\n',lgbm_clf.get_params())"
   ]
  },
  {
   "cell_type": "code",
   "execution_count": 33,
   "metadata": {},
   "outputs": [
    {
     "name": "stdout",
     "output_type": "stream",
     "text": [
      "MLPClassifier 정확도:0.7122\n",
      "MLPClassifier 수행시간 : 665.4444초\n"
     ]
    }
   ],
   "source": [
    "from sklearn.neural_network import MLPClassifier\n",
    "start_time =time.time()\n",
    "MLP_clf = MLPClassifier()\n",
    "MLP_clf.fit(x_train,y_train)\n",
    "pred = MLP_clf.predict(x_test)\n",
    "accuracy=accuracy_score(y_test,pred)\n",
    "print('MLPClassifier 정확도:{0:.4f}'.format(accuracy))\n",
    "print(\"MLPClassifier 수행시간 : {0:1.4f}초\".format(time.time()-start_time))"
   ]
  },
  {
   "cell_type": "code",
   "execution_count": 34,
   "metadata": {},
   "outputs": [
    {
     "name": "stdout",
     "output_type": "stream",
     "text": [
      "KNeighborsClassifier 정확도:0.9368\n",
      "KNeighborsClassifier 수행시간 : 442.5188초\n"
     ]
    }
   ],
   "source": [
    "from sklearn.neighbors import KNeighborsClassifier\n",
    "start_time =time.time()\n",
    "KNN_clf = KNeighborsClassifier(n_neighbors=5)\n",
    "# weights='uniform', algorithm='auto',metric='minkowski'\n",
    "KNN_clf.fit(x_train,y_train)\n",
    "pred = KNN_clf.predict(x_test)\n",
    "accuracy=accuracy_score(y_test,pred)\n",
    "print('KNeighborsClassifier 정확도:{0:.4f}'.format(accuracy))\n",
    "print(\"KNeighborsClassifier 수행시간 : {0:1.4f}초\".format(time.time()-start_time))"
   ]
  },
  {
   "cell_type": "markdown",
   "metadata": {},
   "source": [
    "n_neighbors : int, optional (default = 5)<br>\n",
    "  Number of neighbors to use by default for kneighbors queries.<br>\n",
    "  kNN with k=1 in most cases leads to over-fitting.<br>\n",
    "\n",
    "metric : string or callable, default ‘minkowski’<br>\n",
    "  'manhattan': 맨하튼 거리 측정 방법 사용<br>\n",
    "  'euclidean': 유클리디안 거리 측정 방법 사용<br>\n",
    "  'minkowski': 민코프스키 거리 측정 방법 사용<br>\n",
    "\n",
    "weights : str or callable, optional (default = ‘uniform’)<br>\n",
    "  'uniform': 거리에 가중치 부여하지 않음<br>\n",
    "  'distance': 거리에 가중치 부여함 <br>"
   ]
  },
  {
   "cell_type": "code",
   "execution_count": null,
   "metadata": {},
   "outputs": [],
   "source": [
    "from sklearn.ensemble import GradientBoostingClassifier\n",
    "#GBM의 시간 측정을 위함 시작시간 설정\n",
    "start_time =time.time()\n",
    "#GBM모델 셋업\n",
    "gb_clf=GradientBoostingClassifier(random_state=0)\n",
    "gb_clf.fit(x_train,y_train)\n",
    "gb_pred=gb_clf.predict(x_test)\n",
    "gb_accuracy = accuracy_score(y_test,gb_pred)\n",
    "print('GradientBoostingClassifier 정확도:{0:.4f}'.format(gb_accuracy))\n",
    "print(\"GradientBoostingClassifier 수행시간 : {0:1.4f}초\".format(time.time()-start_time))\n",
    "#print('GradientBoostingClassifier 기본 하이퍼 파라미터:\\n',gb_clf.get_params())"
   ]
  },
  {
   "cell_type": "code",
   "execution_count": null,
   "metadata": {},
   "outputs": [],
   "source": [
    "from sklearn.svm import SVC\n",
    "start_time =time.time()\n",
    "svm_clf = SVC(kernel = 'rbf', class_weight = 'balanced', random_state=0)\n",
    "svm_clf.fit(x_train,y_train)\n",
    "pred = svm_clf.predict(x_test)\n",
    "accuracy=accuracy_score(y_test,pred)\n",
    "print('Support Vector Classidier 정확도:{0:.4f}'.format(accuracy))\n",
    "print(\"SVClassifier 수행시간 : {0:1.4f}초\".format(time.time()-start_time))"
   ]
  }
 ],
 "metadata": {
  "kernelspec": {
   "display_name": "ml_learning",
   "language": "python",
   "name": "sensor_report"
  },
  "language_info": {
   "codemirror_mode": {
    "name": "ipython",
    "version": 3
   },
   "file_extension": ".py",
   "mimetype": "text/x-python",
   "name": "python",
   "nbconvert_exporter": "python",
   "pygments_lexer": "ipython3",
   "version": "3.7.2"
  },
  "toc": {
   "base_numbering": 1,
   "nav_menu": {},
   "number_sections": true,
   "sideBar": true,
   "skip_h1_title": false,
   "title_cell": "Table of Contents",
   "title_sidebar": "Contents",
   "toc_cell": false,
   "toc_position": {},
   "toc_section_display": true,
   "toc_window_display": false
  },
  "varInspector": {
   "cols": {
    "lenName": 16,
    "lenType": 16,
    "lenVar": 40
   },
   "kernels_config": {
    "python": {
     "delete_cmd_postfix": "",
     "delete_cmd_prefix": "del ",
     "library": "var_list.py",
     "varRefreshCmd": "print(var_dic_list())"
    },
    "r": {
     "delete_cmd_postfix": ") ",
     "delete_cmd_prefix": "rm(",
     "library": "var_list.r",
     "varRefreshCmd": "cat(var_dic_list()) "
    }
   },
   "types_to_exclude": [
    "module",
    "function",
    "builtin_function_or_method",
    "instance",
    "_Feature"
   ],
   "window_display": false
  }
 },
 "nbformat": 4,
 "nbformat_minor": 2
}
