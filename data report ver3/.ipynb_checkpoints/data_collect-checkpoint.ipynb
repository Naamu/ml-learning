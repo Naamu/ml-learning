{
 "cells": [
  {
   "cell_type": "markdown",
   "metadata": {},
   "source": [
    "## 각 데이터 불러오고 합친 후 저장"
   ]
  },
  {
   "cell_type": "markdown",
   "metadata": {},
   "source": [
    "소문자 l1~l7, r1~r7까지는 변환 전의 센서 값입니다.<br>\n",
    "대문자 L1~L7, R1~R7까지는 변환 후의 센서 값입니다.<br>\n",
    "LSUM, RSUM 은 각각 왼쪽과 오른쪽의 변환된 데이터 값의 합입니다.<br>\n",
    "ASUM은 LSUM과 RSUM을 합한 값으로 변환된 왼쪽, 오른쪽의 모든 변환 후 데이터의 합입니다.<br>\n",
    "label_act에는 행위 별로 부여한 숫자를 입력하였습니다.<br>\n",
    "\n",
    "1  : Standing without load<br>\n",
    "2  : Loading with load  (unloading 포함)<br>\n",
    "3  : Walking with load<br>\n",
    "4  : Walking without load<br>\n",
    "5  : Standing with load<br>\n",
    "\n",
    "label_load에는 without load 행위인 1번 행위와 4번 행위에는 0kg을 입력하였고<br>\n",
    "with load 행위에서는 각각의 load의 무게를 입력하였습니다.<br>\n",
    "label_sub에는 피실험자마다 부여한 알파벳을 입력하였습니다.<br>\n",
    "\n",
    "A : 김건우<br>\n",
    "B : 김정명<br>\n",
    "C : 김성훈<br>\n",
    "D : 강남욱<br>\n",
    "E : 김승은<br>\n",
    "F : 김태중<br>\n",
    "\n",
    "label_weight는 피실험자들의 몸무게를 입력하였습니다.<br>\n",
    "label_all 은 act_load_sub_weight로 종합하여 입력하였습니다."
   ]
  },
  {
   "cell_type": "code",
   "execution_count": 1,
   "metadata": {},
   "outputs": [
    {
     "name": "stdout",
     "output_type": "stream",
     "text": [
      "['NanumGothic']\n"
     ]
    }
   ],
   "source": [
    "import pandas as pd\n",
    "import numpy as np\n",
    "import matplotlib.pyplot as plt\n",
    "import seaborn as sns\n",
    "import matplotlib as mpl\n",
    "import warnings\n",
    "warnings.filterwarnings('ignore')\n",
    "plt.rc('font', family='NanumGothic') # For Windows\n",
    "print(plt.rcParams['font.family'])\n",
    "%matplotlib inline\n",
    "plt.style.use('ggplot')"
   ]
  },
  {
   "cell_type": "code",
   "execution_count": 12,
   "metadata": {},
   "outputs": [],
   "source": [
    "A1_0 = pd.read_excel('k:/sensor_report/data/data_ver3/A_83kg/(1)_0kg_A_83kg.xlsx')\n",
    "A2_5 = pd.read_excel('k:/sensor_report/data/data_ver3/A_83kg/(2)_5kg_A_83kg.xlsx')\n",
    "A2_10 = pd.read_excel('k:/sensor_report/data/data_ver3/A_83kg/(2)_10kg_A_83kg.xlsx')\n",
    "A2_15 = pd.read_excel('k:/sensor_report/data/data_ver3/A_83kg/(2)_15kg_A_83kg.xlsx')\n",
    "A2_20 = pd.read_excel('k:/sensor_report/data/data_ver3/A_83kg/(2)_20kg_A_83kg.xlsx')\n",
    "A3_5 = pd.read_excel('k:/sensor_report/data/data_ver3/A_83kg/(3)_5kg_A_83kg.xlsx')\n",
    "A3_10 = pd.read_excel('k:/sensor_report/data/data_ver3/A_83kg/(3)_10kg_A_83kg.xlsx')\n",
    "A3_15 = pd.read_excel('k:/sensor_report/data/data_ver3/A_83kg/(3)_15kg_A_83kg.xlsx')\n",
    "A3_20 = pd.read_excel('k:/sensor_report/data/data_ver3/A_83kg/(3)_20kg_A_83kg.xlsx')\n",
    "A4_0 = pd.read_excel('k:/sensor_report/data/data_ver3/A_83kg/(4)_0kg_A_83kg.xlsx')\n",
    "A5_5 = pd.read_excel('k:/sensor_report/data/data_ver3/A_83kg/(5)_5kg_A_83kg.xlsx')\n",
    "A5_10 = pd.read_excel('k:/sensor_report/data/data_ver3/A_83kg/(5)_10kg_A_83kg.xlsx')\n",
    "A5_15 = pd.read_excel('k:/sensor_report/data/data_ver3/A_83kg/(5)_15kg_A_83kg.xlsx')\n",
    "A5_20 = pd.read_excel('k:/sensor_report/data/data_ver3/A_83kg/(5)_20kg_A_83kg.xlsx')"
   ]
  },
  {
   "cell_type": "code",
   "execution_count": 13,
   "metadata": {},
   "outputs": [],
   "source": [
    "A_data = pd.concat([A1_0, A4_0, \n",
    "                    A2_5, A2_10, A2_15, A2_20,\n",
    "                    A3_5, A3_10, A3_15, A3_20,\n",
    "                    A5_5, A5_10, A5_15, A5_20,                   \n",
    "                   ], ignore_index=True)\n",
    "A_data.to_csv(\"k:/sensor_report/data/data_ver3/A_data.csv\", mode='w') # A 데이터 통합 후 저장"
   ]
  },
  {
   "cell_type": "code",
   "execution_count": 14,
   "metadata": {},
   "outputs": [],
   "source": [
    "B1_0 = pd.read_excel('k:/sensor_report/data/data_ver3/B_67kg/(1)_0kg_B_67kg.xlsx')\n",
    "B2_5 = pd.read_excel('k:/sensor_report/data/data_ver3/B_67kg/(2)_5kg_B_67kg.xlsx')\n",
    "B2_10 = pd.read_excel('k:/sensor_report/data/data_ver3/B_67kg/(2)_10kg_B_67kg.xlsx')\n",
    "B2_15 = pd.read_excel('k:/sensor_report/data/data_ver3/B_67kg/(2)_15kg_B_67kg.xlsx')\n",
    "B2_20 = pd.read_excel('k:/sensor_report/data/data_ver3/B_67kg/(2)_20kg_B_67kg.xlsx')\n",
    "B3_5 = pd.read_excel('k:/sensor_report/data/data_ver3/B_67kg/(3)_5kg_B_67kg.xlsx')\n",
    "B3_10 = pd.read_excel('k:/sensor_report/data/data_ver3/B_67kg/(3)_10kg_B_67kg.xlsx')\n",
    "B3_15 = pd.read_excel('k:/sensor_report/data/data_ver3/B_67kg/(3)_15kg_B_67kg.xlsx')\n",
    "B3_20 = pd.read_excel('k:/sensor_report/data/data_ver3/B_67kg/(3)_20kg_B_67kg.xlsx')\n",
    "B4_0 = pd.read_excel('k:/sensor_report/data/data_ver3/B_67kg/(4)_0kg_B_67kg.xlsx')\n",
    "B5_5 = pd.read_excel('k:/sensor_report/data/data_ver3/B_67kg/(5)_5kg_B_67kg.xlsx')\n",
    "B5_10 = pd.read_excel('k:/sensor_report/data/data_ver3/B_67kg/(5)_10kg_B_67kg.xlsx')\n",
    "B5_15 = pd.read_excel('k:/sensor_report/data/data_ver3/B_67kg/(5)_15kg_B_67kg.xlsx')\n",
    "B5_20 = pd.read_excel('k:/sensor_report/data/data_ver3/B_67kg/(5)_20kg_B_67kg.xlsx')"
   ]
  },
  {
   "cell_type": "code",
   "execution_count": 58,
   "metadata": {},
   "outputs": [],
   "source": [
    "B_data = pd.concat([B1_0, B4_0, \n",
    "                    B2_5, B2_10, B2_15, B2_20,\n",
    "                    B3_5, B3_10, B3_15, B3_20,\n",
    "                    B5_5, B5_10, B5_15, B5_20,                   \n",
    "                   ], ignore_index=True)\n",
    "B_data = B_data.dropna(how='any') # 전체 데이터에서 빠진값 확인되어 수정\n",
    "B_data.to_csv(\"k:/sensor_report/data/data_ver3/B_data.csv\", mode='w')"
   ]
  },
  {
   "cell_type": "code",
   "execution_count": 44,
   "metadata": {},
   "outputs": [],
   "source": [
    "C1_0 = pd.read_excel('k:/sensor_report/data/data_ver3/C_75kg/(1)_0kg_C_75kg.xlsx')\n",
    "C2_5 = pd.read_excel('k:/sensor_report/data/data_ver3/C_75kg/(2)_5kg_C_75kg.xlsx')\n",
    "C2_10 = pd.read_excel('k:/sensor_report/data/data_ver3/C_75kg/(2)_10kg_C_75kg.xlsx')\n",
    "C2_15 = pd.read_excel('k:/sensor_report/data/data_ver3/C_75kg/(2)_15kg_C_75kg.xlsx')\n",
    "C2_20 = pd.read_excel('k:/sensor_report/data/data_ver3/C_75kg/(2)_20kg_C_75kg.xlsx')\n",
    "C3_5 = pd.read_excel('k:/sensor_report/data/data_ver3/C_75kg/(3)_5kg_C_75kg.xlsx')\n",
    "C3_5 = C3_5.rename(columns = {'lSUM': 'LSUM', 'rSUM' : 'RSUM', 'aSUM' : 'ASUM'}) # 칼럼명 오탈자 오류로 일부 수정작업.\n",
    "C3_10 = pd.read_excel('k:/sensor_report/data/data_ver3/C_75kg/(3)_10kg_C_75kg.xlsx')\n",
    "C3_15 = pd.read_excel('k:/sensor_report/data/data_ver3/C_75kg/(3)_15kg_C_75kg.xlsx')\n",
    "C3_20 = pd.read_excel('k:/sensor_report/data/data_ver3/C_75kg/(3)_20kg_C_75kg.xlsx')\n",
    "C4_0 = pd.read_excel('k:/sensor_report/data/data_ver3/C_75kg/(4)_0kg_C_75kg.xlsx')\n",
    "C5_5 = pd.read_excel('k:/sensor_report/data/data_ver3/C_75kg/(5)_5kg_C_75kg.xlsx')\n",
    "C5_10 = pd.read_excel('k:/sensor_report/data/data_ver3/C_75kg/(5)_10kg_C_75kg.xlsx')\n",
    "C5_15 = pd.read_excel('k:/sensor_report/data/data_ver3/C_75kg/(5)_15kg_C_75kg.xlsx')\n",
    "C5_20 = pd.read_excel('k:/sensor_report/data/data_ver3/C_75kg/(5)_20kg_C_75kg.xlsx')\n",
    "C_data = pd.concat([C1_0, C4_0, \n",
    "                    C2_5, C2_10, C2_15, C2_20,\n",
    "                    C3_5, C3_10, C3_15, C3_20,\n",
    "                    C5_5, C5_10, C5_15, C5_20,                   \n",
    "                   ], ignore_index=True)\n",
    "C_data.to_csv(\"k:/sensor_report/data/data_ver3/C_data.csv\", mode='w')"
   ]
  },
  {
   "cell_type": "code",
   "execution_count": 20,
   "metadata": {},
   "outputs": [],
   "source": [
    "D1_0 = pd.read_excel('k:/sensor_report/data/data_ver3/D_70kg/(1)_0kg_D_70kg.xlsx')\n",
    "D2_5 = pd.read_excel('k:/sensor_report/data/data_ver3/D_70kg/(2)_5kg_D_70kg.xlsx')\n",
    "D2_10 = pd.read_excel('k:/sensor_report/data/data_ver3/D_70kg/(2)_10kg_D_70kg.xlsx')\n",
    "D2_15 = pd.read_excel('k:/sensor_report/data/data_ver3/D_70kg/(2)_15kg_D_70kg.xlsx')\n",
    "D2_20 = pd.read_excel('k:/sensor_report/data/data_ver3/D_70kg/(2)_20kg_D_70kg.xlsx')\n",
    "D3_5 = pd.read_excel('k:/sensor_report/data/data_ver3/D_70kg/(3)_5kg_D_70kg.xlsx')\n",
    "D3_10 = pd.read_excel('k:/sensor_report/data/data_ver3/D_70kg/(3)_10kg_D_70kg.xlsx')\n",
    "D3_15 = pd.read_excel('k:/sensor_report/data/data_ver3/D_70kg/(3)_15kg_D_70kg.xlsx')\n",
    "D3_20 = pd.read_excel('k:/sensor_report/data/data_ver3/D_70kg/(3)_20kg_D_70kg.xlsx')\n",
    "D4_0 = pd.read_excel('k:/sensor_report/data/data_ver3/D_70kg/(4)_0kg_D_70kg.xlsx')\n",
    "D5_5 = pd.read_excel('k:/sensor_report/data/data_ver3/D_70kg/(5)_5kg_D_70kg.xlsx')\n",
    "D5_10 = pd.read_excel('k:/sensor_report/data/data_ver3/D_70kg/(5)_10kg_D_70kg.xlsx')\n",
    "D5_15 = pd.read_excel('k:/sensor_report/data/data_ver3/D_70kg/(5)_15kg_D_70kg.xlsx')\n",
    "D5_20 = pd.read_excel('k:/sensor_report/data/data_ver3/D_70kg/(5)_20kg_D_70kg.xlsx')\n",
    "D_data = pd.concat([D1_0, D4_0, \n",
    "                    D2_5, D2_10, D2_15, D2_20,\n",
    "                    D3_5, D3_10, D3_15, D3_20,\n",
    "                    D5_5, D5_10, D5_15, D5_20,                   \n",
    "                   ], ignore_index=True)\n",
    "D_data.to_csv(\"k:/sensor_report/data/data_ver3/D_data.csv\", mode='w')"
   ]
  },
  {
   "cell_type": "code",
   "execution_count": 62,
   "metadata": {},
   "outputs": [],
   "source": [
    "E1_0 = pd.read_excel('k:/sensor_report/data/data_ver3/E_78kg/(1)_0kg_E_78kg.xlsx')\n",
    "E2_5 = pd.read_excel('k:/sensor_report/data/data_ver3/E_78kg/(2)_5kg_E_78kg.xlsx')\n",
    "E2_10 = pd.read_excel('k:/sensor_report/data/data_ver3/E_78kg/(2)_10kg_E_78kg.xlsx')\n",
    "E2_15 = pd.read_excel('k:/sensor_report/data/data_ver3/E_78kg/(2)_15kg_E_78kg.xlsx')\n",
    "E2_20 = pd.read_excel('k:/sensor_report/data/data_ver3/E_78kg/(2)_20kg_E_78kg.xlsx')\n",
    "E3_5 = pd.read_excel('k:/sensor_report/data/data_ver3/E_78kg/(3)_5kg_E_78kg.xlsx')\n",
    "E3_10 = pd.read_excel('k:/sensor_report/data/data_ver3/E_78kg/(3)_10kg_E_78kg.xlsx')\n",
    "E3_15 = pd.read_excel('k:/sensor_report/data/data_ver3/E_78kg/(3)_15kg_E_78kg.xlsx')\n",
    "E3_20 = pd.read_excel('k:/sensor_report/data/data_ver3/E_78kg/(3)_20kg_E_78kg.xlsx')\n",
    "E4_0 = pd.read_excel('k:/sensor_report/data/data_ver3/E_78kg/(4)_0kg_E_78kg.xlsx')\n",
    "E5_5 = pd.read_excel('k:/sensor_report/data/data_ver3/E_78kg/(5)_5kg_E_78kg.xlsx')\n",
    "E5_10 = pd.read_excel('k:/sensor_report/data/data_ver3/E_78kg/(5)_10kg_E_78kg.xlsx')\n",
    "E5_15 = pd.read_excel('k:/sensor_report/data/data_ver3/E_78kg/(5)_15kg_E_78kg.xlsx')\n",
    "E5_20 = pd.read_excel('k:/sensor_report/data/data_ver3/E_78kg/(5)_20kg_E_78kg.xlsx')\n",
    "E_data = pd.concat([E1_0, E4_0, \n",
    "                    E2_5, E2_10, E2_15, E2_20,\n",
    "                    E3_5, E3_10, E3_15, E3_20,\n",
    "                    E5_5, E5_10, E5_15, E5_20,                   \n",
    "                   ], ignore_index=True)\n",
    "E_data = E_data.dropna(how='any') # 전체 데이터에서 빠진값 확인되어 수정\n",
    "E_data.to_csv(\"k:/sensor_report/data/data_ver3/E_data.csv\", mode='w')"
   ]
  },
  {
   "cell_type": "code",
   "execution_count": 63,
   "metadata": {},
   "outputs": [],
   "source": [
    "F1_0 = pd.read_excel('k:/sensor_report/data/data_ver3/F_70kg/(1)_0kg_F_70kg.xlsx')\n",
    "F2_5 = pd.read_excel('k:/sensor_report/data/data_ver3/F_70kg/(2)_5kg_F_70kg.xlsx')\n",
    "F2_10 = pd.read_excel('k:/sensor_report/data/data_ver3/F_70kg/(2)_10kg_F_70kg.xlsx')\n",
    "F2_15 = pd.read_excel('k:/sensor_report/data/data_ver3/F_70kg/(2)_15kg_F_70kg.xlsx')\n",
    "F2_20 = pd.read_excel('k:/sensor_report/data/data_ver3/F_70kg/(2)_20kg_F_70kg.xlsx')\n",
    "F3_5 = pd.read_excel('k:/sensor_report/data/data_ver3/F_70kg/(3)_5kg_F_70kg.xlsx')\n",
    "F3_10 = pd.read_excel('k:/sensor_report/data/data_ver3/F_70kg/(3)_10kg_F_70kg.xlsx')\n",
    "F3_15 = pd.read_excel('k:/sensor_report/data/data_ver3/F_70kg/(3)_15kg_F_70kg.xlsx')\n",
    "F3_20 = pd.read_excel('k:/sensor_report/data/data_ver3/F_70kg/(3)_20kg_F_70kg.xlsx')\n",
    "F4_0 = pd.read_excel('k:/sensor_report/data/data_ver3/F_70kg/(4)_0kg_F_70kg.xlsx')\n",
    "F5_5 = pd.read_excel('k:/sensor_report/data/data_ver3/F_70kg/(5)_5kg_F_70kg.xlsx')\n",
    "F5_10 = pd.read_excel('k:/sensor_report/data/data_ver3/F_70kg/(5)_10kg_F_70kg.xlsx')\n",
    "F5_15 = pd.read_excel('k:/sensor_report/data/data_ver3/F_70kg/(5)_15kg_F_70kg.xlsx')\n",
    "F5_20 = pd.read_excel('k:/sensor_report/data/data_ver3/F_70kg/(5)_20kg_F_70kg.xlsx')\n",
    "F_data = pd.concat([F1_0, F4_0, \n",
    "                    F2_5, F2_10, F2_15, F2_20,\n",
    "                    F3_5, F3_10, F3_15, F3_20,\n",
    "                    F5_5, F5_10, F5_15, F5_20,                   \n",
    "                   ], ignore_index=True)\n",
    "F_data = F_data.dropna(how='any') # 전체 데이터에서 빠진값 확인되어 수정\n",
    "F_data.to_csv(\"k:/sensor_report/data/data_ver3/F_data.csv\", mode='w')"
   ]
  },
  {
   "cell_type": "code",
   "execution_count": 60,
   "metadata": {
    "scrolled": true
   },
   "outputs": [
    {
     "name": "stdout",
     "output_type": "stream",
     "text": [
      "Time1           0\n",
      "Time2           0\n",
      "l1              0\n",
      "l2              0\n",
      "l3              0\n",
      "l4              0\n",
      "l5              0\n",
      "l6              0\n",
      "l7              0\n",
      "r1              0\n",
      "r2              0\n",
      "r3              0\n",
      "r4              0\n",
      "r5              0\n",
      "r6              0\n",
      "r7              0\n",
      "L1              0\n",
      "L2              0\n",
      "L3              0\n",
      "L4              0\n",
      "L5              0\n",
      "L6              0\n",
      "L7              0\n",
      "R1              0\n",
      "R2              0\n",
      "R3              0\n",
      "R4              0\n",
      "R5              0\n",
      "R6              0\n",
      "R7              0\n",
      "LSUM            0\n",
      "RSUM            0\n",
      "ASUM            0\n",
      "Iabel_act       0\n",
      "label_load      0\n",
      "label_sub       0\n",
      "label_weight    0\n",
      "label_all       0\n",
      "dtype: int64\n"
     ]
    }
   ],
   "source": [
    "print(pd.isnull(F_data).sum())"
   ]
  },
  {
   "cell_type": "code",
   "execution_count": 64,
   "metadata": {},
   "outputs": [
    {
     "name": "stdout",
     "output_type": "stream",
     "text": [
      "Time1           0\n",
      "Time2           0\n",
      "l1              0\n",
      "l2              0\n",
      "l3              0\n",
      "l4              0\n",
      "l5              0\n",
      "l6              0\n",
      "l7              0\n",
      "r1              0\n",
      "r2              0\n",
      "r3              0\n",
      "r4              0\n",
      "r5              0\n",
      "r6              0\n",
      "r7              0\n",
      "L1              0\n",
      "L2              0\n",
      "L3              0\n",
      "L4              0\n",
      "L5              0\n",
      "L6              0\n",
      "L7              0\n",
      "R1              0\n",
      "R2              0\n",
      "R3              0\n",
      "R4              0\n",
      "R5              0\n",
      "R6              0\n",
      "R7              0\n",
      "LSUM            0\n",
      "RSUM            0\n",
      "ASUM            0\n",
      "Iabel_act       0\n",
      "label_load      0\n",
      "label_sub       0\n",
      "label_weight    0\n",
      "label_all       0\n",
      "dtype: int64\n"
     ]
    }
   ],
   "source": [
    "print(pd.isnull(E_data).sum())"
   ]
  },
  {
   "cell_type": "markdown",
   "metadata": {},
   "source": [
    "## 각 실험자별 데이터를 전체 병합 후 1개의 Data 파일"
   ]
  },
  {
   "cell_type": "code",
   "execution_count": 65,
   "metadata": {},
   "outputs": [],
   "source": [
    "data = pd.concat([A_data, B_data, C_data, D_data, E_data, F_data\n",
    "                   ], ignore_index=True)\n",
    "data.to_csv(\"k:/sensor_report/data/data_ver3/data.csv\", mode='w')"
   ]
  },
  {
   "cell_type": "code",
   "execution_count": 66,
   "metadata": {},
   "outputs": [
    {
     "name": "stdout",
     "output_type": "stream",
     "text": [
      "<class 'pandas.core.frame.DataFrame'>\n",
      "RangeIndex: 1459252 entries, 0 to 1459251\n",
      "Data columns (total 38 columns):\n",
      "Time1           1459252 non-null object\n",
      "Time2           1459252 non-null object\n",
      "l1              1459252 non-null float64\n",
      "l2              1459252 non-null float64\n",
      "l3              1459252 non-null float64\n",
      "l4              1459252 non-null float64\n",
      "l5              1459252 non-null float64\n",
      "l6              1459252 non-null float64\n",
      "l7              1459252 non-null float64\n",
      "r1              1459252 non-null float64\n",
      "r2              1459252 non-null float64\n",
      "r3              1459252 non-null float64\n",
      "r4              1459252 non-null float64\n",
      "r5              1459252 non-null float64\n",
      "r6              1459252 non-null float64\n",
      "r7              1459252 non-null float64\n",
      "L1              1459252 non-null float64\n",
      "L2              1459252 non-null float64\n",
      "L3              1459252 non-null float64\n",
      "L4              1459252 non-null float64\n",
      "L5              1459252 non-null float64\n",
      "L6              1459252 non-null float64\n",
      "L7              1459252 non-null float64\n",
      "R1              1459252 non-null float64\n",
      "R2              1459252 non-null float64\n",
      "R3              1459252 non-null float64\n",
      "R4              1459252 non-null float64\n",
      "R5              1459252 non-null float64\n",
      "R6              1459252 non-null float64\n",
      "R7              1459252 non-null float64\n",
      "LSUM            1459252 non-null float64\n",
      "RSUM            1459252 non-null float64\n",
      "ASUM            1459252 non-null float64\n",
      "Iabel_act       1459252 non-null float64\n",
      "label_load      1459252 non-null object\n",
      "label_sub       1459252 non-null object\n",
      "label_weight    1459252 non-null object\n",
      "label_all       1459252 non-null object\n",
      "dtypes: float64(32), object(6)\n",
      "memory usage: 423.1+ MB\n"
     ]
    }
   ],
   "source": [
    "data.info()"
   ]
  },
  {
   "cell_type": "markdown",
   "metadata": {},
   "source": [
    " 약 146만개 데이터 확인<br>\n",
    " 최종 데이터 파일 'data.csv'에 저장함.\n",
    " <br><br>\n",
    " 향후 작업 : 머신러닝"
   ]
  },
  {
   "cell_type": "code",
   "execution_count": null,
   "metadata": {},
   "outputs": [],
   "source": [
    "sns.distplot(data)"
   ]
  }
 ],
 "metadata": {
  "kernelspec": {
   "display_name": "ml_learning",
   "language": "python",
   "name": "sensor_report"
  },
  "language_info": {
   "codemirror_mode": {
    "name": "ipython",
    "version": 3
   },
   "file_extension": ".py",
   "mimetype": "text/x-python",
   "name": "python",
   "nbconvert_exporter": "python",
   "pygments_lexer": "ipython3",
   "version": "3.7.2"
  },
  "toc": {
   "base_numbering": 1,
   "nav_menu": {},
   "number_sections": true,
   "sideBar": true,
   "skip_h1_title": false,
   "title_cell": "Table of Contents",
   "title_sidebar": "Contents",
   "toc_cell": false,
   "toc_position": {},
   "toc_section_display": true,
   "toc_window_display": false
  },
  "varInspector": {
   "cols": {
    "lenName": 16,
    "lenType": 16,
    "lenVar": 40
   },
   "kernels_config": {
    "python": {
     "delete_cmd_postfix": "",
     "delete_cmd_prefix": "del ",
     "library": "var_list.py",
     "varRefreshCmd": "print(var_dic_list())"
    },
    "r": {
     "delete_cmd_postfix": ") ",
     "delete_cmd_prefix": "rm(",
     "library": "var_list.r",
     "varRefreshCmd": "cat(var_dic_list()) "
    }
   },
   "oldHeight": 294.900818,
   "position": {
    "height": "40px",
    "left": "600.909px",
    "right": "20px",
    "top": "120px",
    "width": "250px"
   },
   "types_to_exclude": [
    "module",
    "function",
    "builtin_function_or_method",
    "instance",
    "_Feature"
   ],
   "varInspector_section_display": "none",
   "window_display": false
  }
 },
 "nbformat": 4,
 "nbformat_minor": 2
}
