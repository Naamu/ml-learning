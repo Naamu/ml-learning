{
 "cells": [
  {
   "cell_type": "code",
   "execution_count": 4,
   "metadata": {},
   "outputs": [
    {
     "data": {
      "text/plain": [
       "[('AdaBoostClassifier', sklearn.ensemble.weight_boosting.AdaBoostClassifier),\n",
       " ('BaggingClassifier', sklearn.ensemble.bagging.BaggingClassifier),\n",
       " ('BernoulliNB', sklearn.naive_bayes.BernoulliNB),\n",
       " ('CalibratedClassifierCV', sklearn.calibration.CalibratedClassifierCV),\n",
       " ('ComplementNB', sklearn.naive_bayes.ComplementNB),\n",
       " ('DecisionTreeClassifier', sklearn.tree.tree.DecisionTreeClassifier),\n",
       " ('ExtraTreeClassifier', sklearn.tree.tree.ExtraTreeClassifier),\n",
       " ('ExtraTreesClassifier', sklearn.ensemble.forest.ExtraTreesClassifier),\n",
       " ('GaussianNB', sklearn.naive_bayes.GaussianNB),\n",
       " ('GaussianProcessClassifier',\n",
       "  sklearn.gaussian_process.gpc.GaussianProcessClassifier),\n",
       " ('GradientBoostingClassifier',\n",
       "  sklearn.ensemble.gradient_boosting.GradientBoostingClassifier),\n",
       " ('KNeighborsClassifier',\n",
       "  sklearn.neighbors.classification.KNeighborsClassifier),\n",
       " ('LabelPropagation',\n",
       "  sklearn.semi_supervised.label_propagation.LabelPropagation),\n",
       " ('LabelSpreading', sklearn.semi_supervised.label_propagation.LabelSpreading),\n",
       " ('LinearDiscriminantAnalysis',\n",
       "  sklearn.discriminant_analysis.LinearDiscriminantAnalysis),\n",
       " ('LinearSVC', sklearn.svm.classes.LinearSVC),\n",
       " ('LogisticRegression', sklearn.linear_model.logistic.LogisticRegression),\n",
       " ('LogisticRegressionCV', sklearn.linear_model.logistic.LogisticRegressionCV),\n",
       " ('MLPClassifier', sklearn.neural_network.multilayer_perceptron.MLPClassifier),\n",
       " ('MultinomialNB', sklearn.naive_bayes.MultinomialNB),\n",
       " ('NearestCentroid', sklearn.neighbors.nearest_centroid.NearestCentroid),\n",
       " ('NuSVC', sklearn.svm.classes.NuSVC),\n",
       " ('PassiveAggressiveClassifier',\n",
       "  sklearn.linear_model.passive_aggressive.PassiveAggressiveClassifier),\n",
       " ('Perceptron', sklearn.linear_model.perceptron.Perceptron),\n",
       " ('QuadraticDiscriminantAnalysis',\n",
       "  sklearn.discriminant_analysis.QuadraticDiscriminantAnalysis),\n",
       " ('RadiusNeighborsClassifier',\n",
       "  sklearn.neighbors.classification.RadiusNeighborsClassifier),\n",
       " ('RandomForestClassifier', sklearn.ensemble.forest.RandomForestClassifier),\n",
       " ('RidgeClassifier', sklearn.linear_model.ridge.RidgeClassifier),\n",
       " ('RidgeClassifierCV', sklearn.linear_model.ridge.RidgeClassifierCV),\n",
       " ('SGDClassifier', sklearn.linear_model.stochastic_gradient.SGDClassifier),\n",
       " ('SVC', sklearn.svm.classes.SVC)]"
      ]
     },
     "execution_count": 4,
     "metadata": {},
     "output_type": "execute_result"
    }
   ],
   "source": [
    "from sklearn.utils.testing import all_estimators\n",
    "all_estimators(type_filter='classifier')"
   ]
  },
  {
   "cell_type": "code",
   "execution_count": 13,
   "metadata": {},
   "outputs": [
    {
     "data": {
      "text/plain": [
       "('RadiusNeighborsClassifier',\n",
       " sklearn.neighbors.classification.RadiusNeighborsClassifier)"
      ]
     },
     "execution_count": 13,
     "metadata": {},
     "output_type": "execute_result"
    }
   ],
   "source": [
    "all_estimators(type_filter='classifier')[25\n",
    "                                        ]"
   ]
  }
 ],
 "metadata": {
  "kernelspec": {
   "display_name": "Python 3",
   "language": "python",
   "name": "python3"
  },
  "language_info": {
   "codemirror_mode": {
    "name": "ipython",
    "version": 3
   },
   "file_extension": ".py",
   "mimetype": "text/x-python",
   "name": "python",
   "nbconvert_exporter": "python",
   "pygments_lexer": "ipython3",
   "version": "3.7.2"
  }
 },
 "nbformat": 4,
 "nbformat_minor": 2
}
