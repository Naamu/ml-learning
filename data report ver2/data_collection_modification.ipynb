{
 "cells": [
  {
   "cell_type": "code",
   "execution_count": 2,
   "metadata": {
    "scrolled": true
   },
   "outputs": [
    {
     "name": "stdout",
     "output_type": "stream",
     "text": [
      "['NanumGothic']\n"
     ]
    }
   ],
   "source": [
    "import pandas as pd\n",
    "import numpy as np\n",
    "import matplotlib.pyplot as plt\n",
    "import seaborn as sns\n",
    "import matplotlib as mpl\n",
    "import warnings\n",
    "warnings.filterwarnings('ignore')\n",
    "plt.rc('font', family='NanumGothic') # For Windows\n",
    "print(plt.rcParams['font.family'])\n",
    "%matplotlib inline\n",
    "plt.style.use('ggplot')"
   ]
  },
  {
   "cell_type": "markdown",
   "metadata": {},
   "source": [
    "A는 김건우 이고, B는 김정명입니다.\n",
    "\n",
    "행위 인덱스    (1)_walking with load\n",
    "\n",
    "                     (2)_Loading\n",
    "\n",
    "                     (3)_Transportation with load\n",
    "\n",
    "                     (4)_Standing without load\n",
    "\n",
    "                     (5)_Standing with load  "
   ]
  },
  {
   "cell_type": "markdown",
   "metadata": {},
   "source": [
    "## A 데이터"
   ]
  },
  {
   "cell_type": "code",
   "execution_count": 3,
   "metadata": {},
   "outputs": [
    {
     "data": {
      "text/html": [
       "<div>\n",
       "<style scoped>\n",
       "    .dataframe tbody tr th:only-of-type {\n",
       "        vertical-align: middle;\n",
       "    }\n",
       "\n",
       "    .dataframe tbody tr th {\n",
       "        vertical-align: top;\n",
       "    }\n",
       "\n",
       "    .dataframe thead th {\n",
       "        text-align: right;\n",
       "    }\n",
       "</style>\n",
       "<table border=\"1\" class=\"dataframe\">\n",
       "  <thead>\n",
       "    <tr style=\"text-align: right;\">\n",
       "      <th></th>\n",
       "      <th>Time1</th>\n",
       "      <th>L1</th>\n",
       "      <th>L2</th>\n",
       "      <th>L3</th>\n",
       "      <th>L4</th>\n",
       "      <th>L5</th>\n",
       "      <th>L6</th>\n",
       "      <th>L7</th>\n",
       "      <th>Time2</th>\n",
       "      <th>R1</th>\n",
       "      <th>R2</th>\n",
       "      <th>R3</th>\n",
       "      <th>R4</th>\n",
       "      <th>R5</th>\n",
       "      <th>R6</th>\n",
       "      <th>R7</th>\n",
       "      <th>Sum</th>\n",
       "      <th>Sum/255*3.3</th>\n",
       "      <th>Index</th>\n",
       "    </tr>\n",
       "  </thead>\n",
       "  <tbody>\n",
       "    <tr>\n",
       "      <th>0</th>\n",
       "      <td>23:34:15.5503546</td>\n",
       "      <td>40</td>\n",
       "      <td>15</td>\n",
       "      <td>3</td>\n",
       "      <td>14</td>\n",
       "      <td>13</td>\n",
       "      <td>11</td>\n",
       "      <td>7</td>\n",
       "      <td>23:34:15.5503546</td>\n",
       "      <td>28.0</td>\n",
       "      <td>35.0</td>\n",
       "      <td>33.0</td>\n",
       "      <td>31.0</td>\n",
       "      <td>25.0</td>\n",
       "      <td>23.0</td>\n",
       "      <td>52.0</td>\n",
       "      <td>330.0</td>\n",
       "      <td>4.270588</td>\n",
       "      <td>1.0</td>\n",
       "    </tr>\n",
       "    <tr>\n",
       "      <th>1</th>\n",
       "      <td>23:34:15.5659749</td>\n",
       "      <td>40</td>\n",
       "      <td>14</td>\n",
       "      <td>3</td>\n",
       "      <td>14</td>\n",
       "      <td>13</td>\n",
       "      <td>11</td>\n",
       "      <td>7</td>\n",
       "      <td>23:34:15.5659749</td>\n",
       "      <td>28.0</td>\n",
       "      <td>35.0</td>\n",
       "      <td>33.0</td>\n",
       "      <td>31.0</td>\n",
       "      <td>25.0</td>\n",
       "      <td>22.0</td>\n",
       "      <td>52.0</td>\n",
       "      <td>328.0</td>\n",
       "      <td>4.244706</td>\n",
       "      <td>1.0</td>\n",
       "    </tr>\n",
       "    <tr>\n",
       "      <th>2</th>\n",
       "      <td>23:34:15.5659749</td>\n",
       "      <td>40</td>\n",
       "      <td>14</td>\n",
       "      <td>3</td>\n",
       "      <td>14</td>\n",
       "      <td>13</td>\n",
       "      <td>11</td>\n",
       "      <td>7</td>\n",
       "      <td>23:34:15.5659749</td>\n",
       "      <td>28.0</td>\n",
       "      <td>35.0</td>\n",
       "      <td>33.0</td>\n",
       "      <td>32.0</td>\n",
       "      <td>26.0</td>\n",
       "      <td>22.0</td>\n",
       "      <td>52.0</td>\n",
       "      <td>330.0</td>\n",
       "      <td>4.270588</td>\n",
       "      <td>1.0</td>\n",
       "    </tr>\n",
       "  </tbody>\n",
       "</table>\n",
       "</div>"
      ],
      "text/plain": [
       "              Time1  L1  L2  L3  L4  L5  L6  L7             Time2    R1    R2  \\\n",
       "0  23:34:15.5503546  40  15   3  14  13  11   7  23:34:15.5503546  28.0  35.0   \n",
       "1  23:34:15.5659749  40  14   3  14  13  11   7  23:34:15.5659749  28.0  35.0   \n",
       "2  23:34:15.5659749  40  14   3  14  13  11   7  23:34:15.5659749  28.0  35.0   \n",
       "\n",
       "     R3    R4    R5    R6    R7    Sum  Sum/255*3.3  Index  \n",
       "0  33.0  31.0  25.0  23.0  52.0  330.0     4.270588    1.0  \n",
       "1  33.0  31.0  25.0  22.0  52.0  328.0     4.244706    1.0  \n",
       "2  33.0  32.0  26.0  22.0  52.0  330.0     4.270588    1.0  "
      ]
     },
     "execution_count": 3,
     "metadata": {},
     "output_type": "execute_result"
    }
   ],
   "source": [
    "A_15kg_1 = pd.read_excel('k:/sensor_report/data/data_ver2/15kg_20kg/A/A_15kg_(1).xlsx')\n",
    "A_15kg_1.head(3)"
   ]
  },
  {
   "cell_type": "code",
   "execution_count": 105,
   "metadata": {
    "collapsed": true
   },
   "outputs": [],
   "source": [
    "A_15kg_1.drop(['Time1', 'Time2'], axis=1, inplace=True)\n",
    "A_15kg_1 = A_15kg_1.rename(columns = {'Index': 'label', 'Sum/255*3.3' : 'Trans'})\n",
    "A_15kg_1 = A_15kg_1.dropna(how='any')#결측값이 있는 행 삭제"
   ]
  },
  {
   "cell_type": "code",
   "execution_count": 106,
   "metadata": {},
   "outputs": [
    {
     "data": {
      "text/plain": [
       "L1       0\n",
       "L2       0\n",
       "L3       0\n",
       "L4       0\n",
       "L5       0\n",
       "L6       0\n",
       "L7       0\n",
       "R1       0\n",
       "R2       0\n",
       "R3       0\n",
       "R4       0\n",
       "R5       0\n",
       "R6       0\n",
       "R7       0\n",
       "Sum      0\n",
       "Trans    0\n",
       "label    0\n",
       "dtype: int64"
      ]
     },
     "execution_count": 106,
     "metadata": {},
     "output_type": "execute_result"
    }
   ],
   "source": [
    "pd.isnull(A_15kg_1).sum()#결측값확인"
   ]
  },
  {
   "cell_type": "code",
   "execution_count": 107,
   "metadata": {},
   "outputs": [],
   "source": [
    "A_15kg_2 = pd.read_excel('k:/sensor_report/data/data_ver2/15kg_20kg/A/A_15kg_(2).xlsx')"
   ]
  },
  {
   "cell_type": "code",
   "execution_count": 108,
   "metadata": {},
   "outputs": [],
   "source": [
    "A_15kg_2.drop(['Time1', 'Time2'], axis=1, inplace=True)\n",
    "A_15kg_2 = A_15kg_2.rename(columns = {'Index': 'label', 'Sum/255*3.3' : 'Trans'})\n",
    "A_15kg_2 = A_15kg_2.dropna(how='any')#결측값이 있는 행 삭제\n"
   ]
  },
  {
   "cell_type": "code",
   "execution_count": 109,
   "metadata": {},
   "outputs": [
    {
     "data": {
      "text/plain": [
       "L1       0\n",
       "L2       0\n",
       "L3       0\n",
       "L4       0\n",
       "L5       0\n",
       "L6       0\n",
       "L7       0\n",
       "R1       0\n",
       "R2       0\n",
       "R3       0\n",
       "R4       0\n",
       "R5       0\n",
       "R6       0\n",
       "R7       0\n",
       "Sum      0\n",
       "Trans    0\n",
       "label    0\n",
       "dtype: int64"
      ]
     },
     "execution_count": 109,
     "metadata": {},
     "output_type": "execute_result"
    }
   ],
   "source": [
    "pd.isnull(A_15kg_2).sum()"
   ]
  },
  {
   "cell_type": "code",
   "execution_count": 110,
   "metadata": {},
   "outputs": [],
   "source": [
    "A_15kg_3 = pd.read_excel('k:/sensor_report/data/data_ver2/15kg_20kg/A/A_15kg_(3).xlsx')\n",
    "A_15kg_3.drop(['Time1', 'Time2'], axis=1, inplace=True)\n",
    "A_15kg_3 = A_15kg_3.rename(columns = {'Index': 'label', 'Sum/255*3.3' : 'Trans'})\n",
    "A_15kg_3 = A_15kg_3.dropna(how='any')"
   ]
  },
  {
   "cell_type": "code",
   "execution_count": 111,
   "metadata": {},
   "outputs": [],
   "source": [
    "A_15kg_4 = pd.read_excel('k:/sensor_report/data/data_ver2/15kg_20kg/A/A_15kg_(4).xlsx')\n",
    "A_15kg_4.drop(['Time1', 'Time2'], axis=1, inplace=True)\n",
    "A_15kg_4 = A_15kg_4.rename(columns = {'Index': 'label', 'Sum/255*3.3' : 'Trans'})\n",
    "A_15kg_4 = A_15kg_4.dropna(how='any')"
   ]
  },
  {
   "cell_type": "code",
   "execution_count": 112,
   "metadata": {},
   "outputs": [],
   "source": [
    "A_15kg_5 = pd.read_excel('k:/sensor_report/data/data_ver2/15kg_20kg/A/A_15kg_(5).xlsx')\n",
    "A_15kg_5.drop(['Time1', 'Time2'], axis=1, inplace=True)\n",
    "A_15kg_5 = A_15kg_5.rename(columns = {'Index': 'label', 'Sum/255*3.3' : 'Trans'})\n",
    "A_15kg_5 = A_15kg_5.dropna(how='any')\n"
   ]
  },
  {
   "cell_type": "code",
   "execution_count": 113,
   "metadata": {},
   "outputs": [],
   "source": [
    "A_20kg_1 = pd.read_excel('k:/sensor_report/data/data_ver2/15kg_20kg/A/A_20kg_(1).xlsx')\n",
    "A_20kg_1.drop(['Time1', 'Time2'], axis=1, inplace=True)\n",
    "A_20kg_1 = A_20kg_1.rename(columns = {'Index': 'label', 'Sum/255*3.3' : 'Trans'})\n",
    "A_20kg_1 = A_20kg_1.dropna(how='any')\n"
   ]
  },
  {
   "cell_type": "code",
   "execution_count": 114,
   "metadata": {},
   "outputs": [],
   "source": [
    "A_20kg_2 = pd.read_excel('k:/sensor_report/data/data_ver2/15kg_20kg/A/A_20kg_(2).xlsx')\n",
    "A_20kg_2.drop(['Time1', 'Time2'], axis=1, inplace=True)\n",
    "A_20kg_2 = A_20kg_2.rename(columns = {'Index': 'label', 'Sum/255*3.3' : 'Trans'})\n",
    "A_20kg_2 = A_20kg_2.dropna(how='any')\n"
   ]
  },
  {
   "cell_type": "code",
   "execution_count": 115,
   "metadata": {},
   "outputs": [],
   "source": [
    "A_20kg_3 = pd.read_excel('k:/sensor_report/data/data_ver2/15kg_20kg/A/A_20kg_(3).xlsx')\n",
    "A_20kg_3.drop(['Time1', 'Time2'], axis=1, inplace=True)\n",
    "A_20kg_3 = A_20kg_3.rename(columns = {'Index': 'label', 'Sum/255*3.3' : 'Trans'})\n",
    "A_20kg_3 = A_20kg_3.dropna(how='any')\n"
   ]
  },
  {
   "cell_type": "code",
   "execution_count": 116,
   "metadata": {},
   "outputs": [],
   "source": [
    "A_20kg_4 = pd.read_excel('k:/sensor_report/data/data_ver2/15kg_20kg/A/A_20kg_(4).xlsx')\n",
    "A_20kg_4.drop(['Time1', 'Time2'], axis=1, inplace=True)\n",
    "A_20kg_4 = A_20kg_4.rename(columns = {'Index': 'label', 'Sum/255*3.3' : 'Trans'})\n",
    "A_20kg_4 = A_20kg_4.dropna(how='any')\n"
   ]
  },
  {
   "cell_type": "code",
   "execution_count": 117,
   "metadata": {},
   "outputs": [],
   "source": [
    "A_20kg_5 = pd.read_excel('k:/sensor_report/data/data_ver2/15kg_20kg/A/A_20kg_(5).xlsx')\n",
    "A_20kg_5.drop(['Time1', 'Time2'], axis=1, inplace=True)\n",
    "A_20kg_5 = A_20kg_5.rename(columns = {'Index': 'label', 'Sum/255*3.3' : 'Trans'})\n",
    "A_20kg_5 = A_20kg_5.dropna(how='any')\n"
   ]
  },
  {
   "cell_type": "markdown",
   "metadata": {},
   "source": [
    "A_15kg_1, A_15kg_2, A_15kg_3, A_15kg_4, A_15kg_5 <br>\n",
    "A_20kg_1, A_20kg_2, A_20kg_3, A_20kg_4, A_20kg_5"
   ]
  },
  {
   "cell_type": "code",
   "execution_count": 118,
   "metadata": {},
   "outputs": [],
   "source": [
    "A_data = pd.concat([A_15kg_1, A_15kg_2, A_15kg_3, A_15kg_4, A_15kg_5, \n",
    "                    A_20kg_1, A_20kg_2, A_20kg_3, A_20kg_4, A_20kg_5], ignore_index=True)\n",
    "A_data.to_csv(\"k:/sensor_report/data/data_ver2/A_data.csv\", mode='w') # A 데이터 통합 후 저장"
   ]
  },
  {
   "cell_type": "code",
   "execution_count": 119,
   "metadata": {},
   "outputs": [],
   "source": [
    "A_count = A_15kg_1['label'].count() + A_15kg_2['label'].count() + A_15kg_3['label'].count() + A_15kg_4['label'].count() + A_15kg_5['label'].count() + A_20kg_1['label'].count() +\\\n",
    "A_20kg_2['label'].count() + A_20kg_3['label'].count() + A_20kg_4['label'].count() + A_20kg_5['label'].count()\n",
    "# 데이터 확인을 위한 전처리"
   ]
  },
  {
   "cell_type": "code",
   "execution_count": 120,
   "metadata": {},
   "outputs": [
    {
     "data": {
      "text/plain": [
       "True"
      ]
     },
     "execution_count": 120,
     "metadata": {},
     "output_type": "execute_result"
    }
   ],
   "source": [
    "A_count == A_data['label'].count() # 데이터 확인"
   ]
  },
  {
   "cell_type": "markdown",
   "metadata": {},
   "source": [
    "## B데이터 "
   ]
  },
  {
   "cell_type": "code",
   "execution_count": 121,
   "metadata": {},
   "outputs": [],
   "source": [
    "B_15kg_1 = pd.read_excel('k:/sensor_report/data/data_ver2/15kg_20kg/B/B_15kg_(1).xlsx')\n",
    "B_15kg_1.drop(['Time1', 'Time2'], axis=1, inplace=True)\n",
    "B_15kg_1 = B_15kg_1.rename(columns = {'Index': 'label', 'Sum/255*3.3' : 'Trans'})\n",
    "B_15kg_1 = B_15kg_1.dropna(how='any')"
   ]
  },
  {
   "cell_type": "code",
   "execution_count": 122,
   "metadata": {},
   "outputs": [
    {
     "data": {
      "text/html": [
       "<div>\n",
       "<style scoped>\n",
       "    .dataframe tbody tr th:only-of-type {\n",
       "        vertical-align: middle;\n",
       "    }\n",
       "\n",
       "    .dataframe tbody tr th {\n",
       "        vertical-align: top;\n",
       "    }\n",
       "\n",
       "    .dataframe thead th {\n",
       "        text-align: right;\n",
       "    }\n",
       "</style>\n",
       "<table border=\"1\" class=\"dataframe\">\n",
       "  <thead>\n",
       "    <tr style=\"text-align: right;\">\n",
       "      <th></th>\n",
       "      <th>L1</th>\n",
       "      <th>L2</th>\n",
       "      <th>L3</th>\n",
       "      <th>L4</th>\n",
       "      <th>L5</th>\n",
       "      <th>L6</th>\n",
       "      <th>L7</th>\n",
       "      <th>R1</th>\n",
       "      <th>R2</th>\n",
       "      <th>R3</th>\n",
       "      <th>R4</th>\n",
       "      <th>R5</th>\n",
       "      <th>R6</th>\n",
       "      <th>R7</th>\n",
       "      <th>Sum</th>\n",
       "      <th>Trans</th>\n",
       "      <th>label</th>\n",
       "    </tr>\n",
       "  </thead>\n",
       "  <tbody>\n",
       "    <tr>\n",
       "      <th>0</th>\n",
       "      <td>44</td>\n",
       "      <td>15</td>\n",
       "      <td>1</td>\n",
       "      <td>13</td>\n",
       "      <td>8</td>\n",
       "      <td>4</td>\n",
       "      <td>13</td>\n",
       "      <td>32.0</td>\n",
       "      <td>40.0</td>\n",
       "      <td>36.0</td>\n",
       "      <td>24.0</td>\n",
       "      <td>29.0</td>\n",
       "      <td>22.0</td>\n",
       "      <td>44.0</td>\n",
       "      <td>325.0</td>\n",
       "      <td>4.205882</td>\n",
       "      <td>1.0</td>\n",
       "    </tr>\n",
       "    <tr>\n",
       "      <th>1</th>\n",
       "      <td>43</td>\n",
       "      <td>15</td>\n",
       "      <td>1</td>\n",
       "      <td>13</td>\n",
       "      <td>8</td>\n",
       "      <td>4</td>\n",
       "      <td>13</td>\n",
       "      <td>32.0</td>\n",
       "      <td>40.0</td>\n",
       "      <td>36.0</td>\n",
       "      <td>24.0</td>\n",
       "      <td>29.0</td>\n",
       "      <td>22.0</td>\n",
       "      <td>46.0</td>\n",
       "      <td>326.0</td>\n",
       "      <td>4.218824</td>\n",
       "      <td>1.0</td>\n",
       "    </tr>\n",
       "    <tr>\n",
       "      <th>2</th>\n",
       "      <td>43</td>\n",
       "      <td>15</td>\n",
       "      <td>1</td>\n",
       "      <td>12</td>\n",
       "      <td>8</td>\n",
       "      <td>4</td>\n",
       "      <td>13</td>\n",
       "      <td>33.0</td>\n",
       "      <td>40.0</td>\n",
       "      <td>36.0</td>\n",
       "      <td>24.0</td>\n",
       "      <td>28.0</td>\n",
       "      <td>22.0</td>\n",
       "      <td>46.0</td>\n",
       "      <td>325.0</td>\n",
       "      <td>4.205882</td>\n",
       "      <td>1.0</td>\n",
       "    </tr>\n",
       "  </tbody>\n",
       "</table>\n",
       "</div>"
      ],
      "text/plain": [
       "   L1  L2  L3  L4  L5  L6  L7    R1    R2    R3    R4    R5    R6    R7  \\\n",
       "0  44  15   1  13   8   4  13  32.0  40.0  36.0  24.0  29.0  22.0  44.0   \n",
       "1  43  15   1  13   8   4  13  32.0  40.0  36.0  24.0  29.0  22.0  46.0   \n",
       "2  43  15   1  12   8   4  13  33.0  40.0  36.0  24.0  28.0  22.0  46.0   \n",
       "\n",
       "     Sum     Trans  label  \n",
       "0  325.0  4.205882    1.0  \n",
       "1  326.0  4.218824    1.0  \n",
       "2  325.0  4.205882    1.0  "
      ]
     },
     "execution_count": 122,
     "metadata": {},
     "output_type": "execute_result"
    }
   ],
   "source": [
    "B_15kg_1.head(3)"
   ]
  },
  {
   "cell_type": "code",
   "execution_count": 123,
   "metadata": {},
   "outputs": [],
   "source": [
    "B_15kg_2 = pd.read_excel('k:/sensor_report/data/data_ver2/15kg_20kg/B/B_15kg_(2).xlsx')\n",
    "B_15kg_2.drop(['Time1', 'Time2'], axis=1, inplace=True)\n",
    "B_15kg_2 = B_15kg_1.rename(columns = {'Index': 'label', 'Sum/255*3.3' : 'Trans'})\n",
    "B_15kg_2 = B_15kg_1.dropna(how='any')"
   ]
  },
  {
   "cell_type": "code",
   "execution_count": 124,
   "metadata": {},
   "outputs": [],
   "source": [
    "B_15kg_3 = pd.read_excel('k:/sensor_report/data/data_ver2/15kg_20kg/B/B_15kg_(3).xlsx')\n",
    "B_15kg_3.drop(['Time1', 'Time2'], axis=1, inplace=True)\n",
    "B_15kg_3 = B_15kg_3.rename(columns = {'Index': 'label', 'Sum/255*3.3' : 'Trans'})\n",
    "B_15kg_3 = B_15kg_3.dropna(how='any')"
   ]
  },
  {
   "cell_type": "code",
   "execution_count": 125,
   "metadata": {},
   "outputs": [],
   "source": [
    "B_15kg_4 = pd.read_excel('k:/sensor_report/data/data_ver2/15kg_20kg/B/B_15kg_(4).xlsx')\n",
    "B_15kg_4.drop(['Time1', 'Time2'], axis=1, inplace=True)\n",
    "B_15kg_4 = B_15kg_4.rename(columns = {'Index': 'label', 'Sum/255*3.3' : 'Trans'})\n",
    "B_15kg_4 = B_15kg_4.dropna(how='any')"
   ]
  },
  {
   "cell_type": "code",
   "execution_count": 126,
   "metadata": {},
   "outputs": [],
   "source": [
    "B_15kg_5 = pd.read_excel('k:/sensor_report/data/data_ver2/15kg_20kg/B/B_15kg_(5).xlsx')\n",
    "B_15kg_5.drop(['Time1', 'Time2'], axis=1, inplace=True)\n",
    "B_15kg_5 = B_15kg_5.rename(columns = {'Index': 'label', 'Sum/255*3.3' : 'Trans'})\n",
    "B_15kg_5 = B_15kg_5.dropna(how='any')"
   ]
  },
  {
   "cell_type": "code",
   "execution_count": 127,
   "metadata": {},
   "outputs": [],
   "source": [
    "B_20kg_1 = pd.read_excel('k:/sensor_report/data/data_ver2/15kg_20kg/B/B_20kg_(1).xlsx')\n",
    "B_20kg_1.drop(['Time1', 'Time2'], axis=1, inplace=True)\n",
    "B_20kg_1 = B_20kg_1.rename(columns = {'Index': 'label', 'Sum/255*3.3' : 'Trans'})\n",
    "B_20kg_1 = B_20kg_1.dropna(how='any')"
   ]
  },
  {
   "cell_type": "code",
   "execution_count": 128,
   "metadata": {},
   "outputs": [],
   "source": [
    "B_20kg_2 = pd.read_excel('k:/sensor_report/data/data_ver2/15kg_20kg/B/B_20kg_(2).xlsx')\n",
    "B_20kg_2.drop(['Time1', 'Time2'], axis=1, inplace=True)\n",
    "B_20kg_2 = B_20kg_2.rename(columns = {'Index': 'label', 'Sum/255*3.3' : 'Trans'})\n",
    "B_20kg_2 = B_20kg_2.dropna(how='any')"
   ]
  },
  {
   "cell_type": "code",
   "execution_count": 129,
   "metadata": {},
   "outputs": [],
   "source": [
    "B_20kg_3 = pd.read_excel('k:/sensor_report/data/data_ver2/15kg_20kg/B/B_20kg_(3).xlsx')\n",
    "B_20kg_3.drop(['Time1', 'Time2'], axis=1, inplace=True)\n",
    "B_20kg_3 = B_20kg_3.rename(columns = {'Index': 'label', 'Sum/255*3.3' : 'Trans'})\n",
    "B_20kg_3 = B_20kg_3.dropna(how='any')"
   ]
  },
  {
   "cell_type": "code",
   "execution_count": 130,
   "metadata": {},
   "outputs": [],
   "source": [
    "B_20kg_4 = pd.read_excel('k:/sensor_report/data/data_ver2/15kg_20kg/B/B_20kg_(4).xlsx')\n",
    "B_20kg_4.drop(['Time1', 'Time2'], axis=1, inplace=True)\n",
    "B_20kg_4 = B_20kg_4.rename(columns = {'Index': 'label', 'Sum/255*3.3' : 'Trans'})\n",
    "B_20kg_4 = B_20kg_4.dropna(how='any')"
   ]
  },
  {
   "cell_type": "code",
   "execution_count": 131,
   "metadata": {},
   "outputs": [],
   "source": [
    "B_20kg_5 = pd.read_excel('k:/sensor_report/data/data_ver2/15kg_20kg/B/B_20kg_(5).xlsx')\n",
    "B_20kg_5.drop(['Time1', 'Time2'], axis=1, inplace=True)\n",
    "B_20kg_5 = B_20kg_5.rename(columns = {'Index': 'label', 'Sum/255*3.3' : 'Trans'})\n",
    "B_20kg_5 = B_20kg_5.dropna(how='any')"
   ]
  },
  {
   "cell_type": "markdown",
   "metadata": {},
   "source": [
    "B_15kg_1, B_15kg_2, B_15kg_3, B_15kg_4, B_15kg_5 <br>\n",
    "B_20kg_1, B_20kg_2, B_20kg_3, B_20kg_4, B_20kg_5"
   ]
  },
  {
   "cell_type": "code",
   "execution_count": 132,
   "metadata": {},
   "outputs": [
    {
     "data": {
      "text/plain": [
       "True"
      ]
     },
     "execution_count": 132,
     "metadata": {},
     "output_type": "execute_result"
    }
   ],
   "source": [
    "B_data = pd.concat([B_15kg_1, B_15kg_2, B_15kg_3, B_15kg_4, B_15kg_5,\n",
    "                    B_20kg_1, B_20kg_2, B_20kg_3, B_20kg_4, B_20kg_5], ignore_index=True)\n",
    "B_data.to_csv(\"k:/sensor_report/data/data_ver2/B_data.csv\", mode='w') # A 데이터 통합 후 저장\n",
    "B_count = B_15kg_1['label'].count() + B_15kg_2['label'].count() + B_15kg_3['label'].count() +\\\n",
    "B_15kg_4['label'].count() + B_15kg_5['label'].count() + B_20kg_1['label'].count() + B_20kg_2['label'].count() +\\\n",
    "B_20kg_3['label'].count() + B_20kg_4['label'].count() + B_20kg_5['label'].count() \n",
    "# 데이터 확인을 위한 전처리\n",
    "B_count == B_data['label'].count() # 데이터 확인"
   ]
  },
  {
   "cell_type": "code",
   "execution_count": 133,
   "metadata": {},
   "outputs": [],
   "source": [
    "A_15kg_1['label'].value_counts()\n",
    "\n",
    "B_count = B_15kg_1['label'].count() + B_15kg_2['label'].count() + B_15kg_3['label'].count() +\\\n",
    "B_15kg_4['label'].count() + B_15kg_5['label'].count() + B_20kg_1['label'].count() + B_20kg_2['label'].count() +\\\n",
    "B_20kg_3['label'].count() + B_20kg_4['label'].count() + B_20kg_5['label'].count() "
   ]
  },
  {
   "cell_type": "markdown",
   "metadata": {},
   "source": [
    "## A, B 데이터 병합 후 저장<br>\n",
    "모델 돌리기 전 처리 작업"
   ]
  },
  {
   "cell_type": "code",
   "execution_count": 134,
   "metadata": {},
   "outputs": [
    {
     "data": {
      "text/plain": [
       "298432"
      ]
     },
     "execution_count": 134,
     "metadata": {},
     "output_type": "execute_result"
    }
   ],
   "source": [
    "data = pd.concat([B_data, A_data], ignore_index=True)\n",
    "data.to_csv(\"k:/sensor_report/data/data_ver2/data.csv\", mode='w') # 데이터 통합 후 저장\n",
    "data['label'].count()"
   ]
  },
  {
   "cell_type": "code",
   "execution_count": 135,
   "metadata": {},
   "outputs": [
    {
     "data": {
      "text/plain": [
       "<matplotlib.axes._subplots.AxesSubplot at 0x2a780271908>"
      ]
     },
     "execution_count": 135,
     "metadata": {},
     "output_type": "execute_result"
    },
    {
     "data": {
      "image/png": "[encoded data removed]",
      "text/plain": [
       "<Figure size 432x288 with 1 Axes>"
      ]
     },
     "metadata": {},
     "output_type": "display_data"
    }
   ],
   "source": []
  }
 ],
 "metadata": {
  "kernelspec": {
   "display_name": "Python 3",
   "language": "python",
   "name": "python3"
  },
  "language_info": {
   "codemirror_mode": {
    "name": "ipython",
    "version": 3
   },
   "file_extension": ".py",
   "mimetype": "text/x-python",
   "name": "python",
   "nbconvert_exporter": "python",
   "pygments_lexer": "ipython3",
   "version": "3.7.2"
  },
  "toc": {
   "base_numbering": 1,
   "nav_menu": {},
   "number_sections": true,
   "sideBar": true,
   "skip_h1_title": false,
   "title_cell": "Table of Contents",
   "title_sidebar": "Contents",
   "toc_cell": false,
   "toc_position": {},
   "toc_section_display": true,
   "toc_window_display": false
  },
  "varInspector": {
   "cols": {
    "lenName": 16,
    "lenType": 16,
    "lenVar": 40
   },
   "kernels_config": {
    "python": {
     "delete_cmd_postfix": "",
     "delete_cmd_prefix": "del ",
     "library": "var_list.py",
     "varRefreshCmd": "print(var_dic_list())"
    },
    "r": {
     "delete_cmd_postfix": ") ",
     "delete_cmd_prefix": "rm(",
     "library": "var_list.r",
     "varRefreshCmd": "cat(var_dic_list()) "
    }
   },
   "types_to_exclude": [
    "module",
    "function",
    "builtin_function_or_method",
    "instance",
    "_Feature"
   ],
   "window_display": false
  }
 },
 "nbformat": 4,
 "nbformat_minor": 2
}
