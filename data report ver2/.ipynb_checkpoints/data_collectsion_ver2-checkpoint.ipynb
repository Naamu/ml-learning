{
 "cells": [
  {
   "cell_type": "code",
   "execution_count": 1,
   "metadata": {},
   "outputs": [
    {
     "name": "stdout",
     "output_type": "stream",
     "text": [
      "['NanumGothic']\n"
     ]
    }
   ],
   "source": [
    "import pandas as pd\n",
    "import numpy as np\n",
    "import matplotlib.pyplot as plt\n",
    "import seaborn as sns\n",
    "import matplotlib as mpl\n",
    "import warnings\n",
    "warnings.filterwarnings('ignore')\n",
    "plt.rc('font', family='NanumGothic') # For Windows\n",
    "print(plt.rcParams['font.family'])\n",
    "%matplotlib inline\n",
    "plt.style.use('ggplot')"
   ]
  },
  {
   "cell_type": "code",
   "execution_count": 32,
   "metadata": {},
   "outputs": [],
   "source": [
    "A_15kg_1 = pd.read_excel('k:/sensor_report/data/data_ver2/15kg_20kg/A/A_15kg_(1).xlsx')\n",
    "A_15kg_1.drop(['Time1', 'Time2'], axis=1, inplace=True)\n",
    "A_15kg_1 = A_15kg_1.rename(columns = {'Index': 'label', 'Sum/255*3.3' : 'Trans'})\n",
    "A_15kg_1 = A_15kg_1.dropna(how='any')\n",
    "A_15kg_1['label_weight']='15kg'\n",
    "A_15kg_1['label_act']='walking_load'\n",
    "A_15kg_1.drop(['label'],axis=1,inplace=True)"
   ]
  },
  {
   "cell_type": "code",
   "execution_count": 36,
   "metadata": {},
   "outputs": [],
   "source": [
    "A_15kg_2 = pd.read_excel('k:/sensor_report/data/data_ver2/15kg_20kg/A/A_15kg_(2).xlsx')\n",
    "A_15kg_2.drop(['Time1', 'Time2'], axis=1, inplace=True)\n",
    "A_15kg_2 = A_15kg_2.rename(columns = {'Index': 'label', 'Sum/255*3.3' : 'Trans'})\n",
    "A_15kg_2 = A_15kg_2.dropna(how='any')\n",
    "A_15kg_2['label_weight']='15kg'\n",
    "A_15kg_2['label_act']='loading'\n",
    "A_15kg_2.drop(['label'],axis=1,inplace=True)"
   ]
  },
  {
   "cell_type": "code",
   "execution_count": 37,
   "metadata": {},
   "outputs": [],
   "source": [
    "A_15kg_3 = pd.read_excel('k:/sensor_report/data/data_ver2/15kg_20kg/A/A_15kg_(3).xlsx')\n",
    "A_15kg_3.drop(['Time1', 'Time2'], axis=1, inplace=True)\n",
    "A_15kg_3 = A_15kg_3.rename(columns = {'Index': 'label', 'Sum/255*3.3' : 'Trans'})\n",
    "A_15kg_3 = A_15kg_3.dropna(how='any')\n",
    "A_15kg_3['label_weight']='15kg'\n",
    "A_15kg_3['label_act']='trans_load'\n",
    "A_15kg_3.drop(['label'],axis=1,inplace=True)"
   ]
  },
  {
   "cell_type": "code",
   "execution_count": 38,
   "metadata": {},
   "outputs": [],
   "source": [
    "A_15kg_4 = pd.read_excel('k:/sensor_report/data/data_ver2/15kg_20kg/A/A_15kg_(4).xlsx')\n",
    "A_15kg_4.drop(['Time1', 'Time2'], axis=1, inplace=True)\n",
    "A_15kg_4 = A_15kg_4.rename(columns = {'Index': 'label', 'Sum/255*3.3' : 'Trans'})\n",
    "A_15kg_4 = A_15kg_4.dropna(how='any')\n",
    "A_15kg_4['label_weight']='15kg'\n",
    "A_15kg_4['label_act']='stand_outload'\n",
    "A_15kg_4.drop(['label'],axis=1,inplace=True)"
   ]
  },
  {
   "cell_type": "code",
   "execution_count": 39,
   "metadata": {},
   "outputs": [],
   "source": [
    "A_15kg_5 = pd.read_excel('k:/sensor_report/data/data_ver2/15kg_20kg/A/A_15kg_(5).xlsx')\n",
    "A_15kg_5.drop(['Time1', 'Time2'], axis=1, inplace=True)\n",
    "A_15kg_5 = A_15kg_5.rename(columns = {'Index': 'label', 'Sum/255*3.3' : 'Trans'})\n",
    "A_15kg_5 = A_15kg_5.dropna(how='any')\n",
    "A_15kg_5['label_weight']='15kg'\n",
    "A_15kg_5['label_act']='stand_load'\n",
    "A_15kg_5.drop(['label'],axis=1,inplace=True)"
   ]
  },
  {
   "cell_type": "code",
   "execution_count": null,
   "metadata": {},
   "outputs": [],
   "source": []
  }
 ],
 "metadata": {
  "kernelspec": {
   "display_name": "Python 3",
   "language": "python",
   "name": "python3"
  },
  "language_info": {
   "codemirror_mode": {
    "name": "ipython",
    "version": 3
   },
   "file_extension": ".py",
   "mimetype": "text/x-python",
   "name": "python",
   "nbconvert_exporter": "python",
   "pygments_lexer": "ipython3",
   "version": "3.7.2"
  }
 },
 "nbformat": 4,
 "nbformat_minor": 2
}
